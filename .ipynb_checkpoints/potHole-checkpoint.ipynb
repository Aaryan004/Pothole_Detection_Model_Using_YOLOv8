{
 "cells": [
  {
   "cell_type": "code",
   "execution_count": 5,
   "id": "4b34ca1f",
   "metadata": {},
   "outputs": [],
   "source": [
    "from datasets import load_dataset"
   ]
  },
  {
   "cell_type": "code",
   "execution_count": 6,
   "id": "4a4849e6",
   "metadata": {},
   "outputs": [
    {
     "name": "stderr",
     "output_type": "stream",
     "text": [
      "11/13/2024 21:03:35 - WARNING - datasets.builder -   Found cached dataset pothole-segmentation (C:/Users/Aaryan Naithani/.cache/huggingface/datasets/keremberke___pothole-segmentation/full/1.0.0/6dec299b4e1d7962c5c32a4641bb925962aa6b6f6b9df1afb38a0c37fab9e2f5)\n"
     ]
    },
    {
     "data": {
      "application/vnd.jupyter.widget-view+json": {
       "model_id": "44f4e503107f4d46bae3f9783d7e15e3",
       "version_major": 2,
       "version_minor": 0
      },
      "text/plain": [
       "  0%|          | 0/3 [00:00<?, ?it/s]"
      ]
     },
     "metadata": {},
     "output_type": "display_data"
    }
   ],
   "source": [
    "ds = load_dataset(\"keremberke/pothole-segmentation\", \"full\")"
   ]
  },
  {
   "cell_type": "code",
   "execution_count": 4,
   "id": "9ada7e0c",
   "metadata": {},
   "outputs": [],
   "source": [
    "train_dataset = ds[\"train\"]"
   ]
  },
  {
   "cell_type": "code",
   "execution_count": 5,
   "id": "9be062d6",
   "metadata": {},
   "outputs": [],
   "source": [
    "validation_dataset = ds[\"validation\"]"
   ]
  },
  {
   "cell_type": "code",
   "execution_count": 7,
   "id": "87287169",
   "metadata": {},
   "outputs": [],
   "source": [
    "test_dataset = ds[\"test\"]"
   ]
  },
  {
   "cell_type": "code",
   "execution_count": 8,
   "id": "fbfb2293",
   "metadata": {},
   "outputs": [
    {
     "name": "stdout",
     "output_type": "stream",
     "text": [
      "YOLO formatted data saved successfully.\n"
     ]
    }
   ],
   "source": [
    "import os\n",
    "\n",
    "# Create a directory to store YOLO-formatted labels\n",
    "output_dir = \"yolo_formatted_data\"\n",
    "os.makedirs(output_dir, exist_ok=True)\n",
    "\n",
    "# Function to convert bounding boxes to YOLO format\n",
    "def process_json_entry(json_entry):\n",
    "    image = json_entry[\"image\"]\n",
    "    img_width, img_height = json_entry[\"width\"], json_entry[\"height\"]\n",
    "    \n",
    "    # Retrieve bounding boxes and categories\n",
    "    bboxes = json_entry[\"objects\"][\"bbox\"]\n",
    "    categories = json_entry[\"objects\"][\"category\"]\n",
    "\n",
    "    yolo_boxes = []\n",
    "    for box, class_id in zip(bboxes, categories):\n",
    "        x_min, y_min, width, height = box\n",
    "        \n",
    "        # Convert to YOLO format\n",
    "        x_center = (x_min + width / 2) / img_width\n",
    "        y_center = (y_min + height / 2) / img_height\n",
    "        width /= img_width\n",
    "        height /= img_height\n",
    "        \n",
    "        # Append formatted data\n",
    "        yolo_boxes.append(f\"{class_id} {x_center} {y_center} {width} {height}\")\n",
    "\n",
    "    return image, yolo_boxes\n",
    "\n",
    "# Process each entry and save the labels\n",
    "for i, entry in enumerate(train_dataset):\n",
    "    image, yolo_boxes = process_json_entry(entry)\n",
    "    \n",
    "    # Save image to output directory\n",
    "    image_basename = f\"train_image_{i}.jpg\"\n",
    "    image.save(os.path.join(output_dir, image_basename))\n",
    "    \n",
    "    # Save bounding box annotations to a .txt file with the same name as the image\n",
    "    label_path = os.path.join(output_dir, f\"{os.path.splitext(image_basename)[0]}.txt\")\n",
    "    with open(label_path, \"w\") as f:\n",
    "        f.write(\"\\n\".join(yolo_boxes))\n",
    "\n",
    "print(\"YOLO formatted data saved successfully.\")"
   ]
  },
  {
   "cell_type": "code",
   "execution_count": 9,
   "id": "696721b3",
   "metadata": {},
   "outputs": [
    {
     "name": "stdout",
     "output_type": "stream",
     "text": [
      "YOLO formatted data saved successfully.\n"
     ]
    }
   ],
   "source": [
    "output_dir = \"validation_formatted_data\"\n",
    "os.makedirs(output_dir, exist_ok=True) \n",
    "for i, entry in enumerate(validation_dataset):\n",
    "    image, yolo_boxes = process_json_entry(entry)\n",
    "    \n",
    "    # Save image to output directory\n",
    "    image_basename = f\"train_image_{i}.jpg\"\n",
    "    image.save(os.path.join(output_dir, image_basename))\n",
    "    \n",
    "    # Save bounding box annotations to a .txt file with the same name as the image\n",
    "    label_path = os.path.join(output_dir, f\"{os.path.splitext(image_basename)[0]}.txt\")\n",
    "    with open(label_path, \"w\") as f:\n",
    "        f.write(\"\\n\".join(yolo_boxes))\n",
    "\n",
    "print(\"YOLO formatted data saved successfully.\")"
   ]
  },
  {
   "cell_type": "code",
   "execution_count": 1,
   "id": "e86f10f6",
   "metadata": {},
   "outputs": [],
   "source": [
    "from ultralyticsplus import YOLO, render_result\n",
    "model = YOLO('keremberke/yolov8n-pothole-segmentation')"
   ]
  },
  {
   "cell_type": "code",
   "execution_count": 2,
   "id": "a6ca9e04",
   "metadata": {},
   "outputs": [
    {
     "name": "stdout",
     "output_type": "stream",
     "text": [
      "New https://pypi.org/project/ultralytics/8.3.29 available 😃 Update with 'pip install -U ultralytics'\n",
      "Ultralytics YOLOv8.0.239 🚀 Python-3.11.4 torch-2.0.1+cpu CPU (11th Gen Intel Core(TM) i5-11260H 2.60GHz)\n",
      "\u001b[34m\u001b[1mengine\\trainer: \u001b[0mtask=detect, mode=train, model=yolov8m.pt, data=C:\\Users\\Aaryan Naithani\\OneDrive\\Desktop\\Pot-Hole Detection\\pothole_dataset.yaml, epochs=25, time=None, patience=50, batch=16, imgsz=640, save=True, save_period=-1, cache=False, device=None, workers=8, project=None, name=pothole_detector, exist_ok=False, pretrained=True, optimizer=auto, verbose=True, seed=0, deterministic=True, single_cls=False, rect=False, cos_lr=False, close_mosaic=10, resume=False, amp=True, fraction=1.0, profile=False, freeze=None, multi_scale=False, overlap_mask=True, mask_ratio=4, dropout=0.0, val=True, split=val, save_json=False, save_hybrid=False, conf=None, iou=0.7, max_det=300, half=False, dnn=False, plots=True, source=None, vid_stride=1, stream_buffer=False, visualize=False, augment=False, agnostic_nms=False, classes=None, retina_masks=False, embed=None, show=False, save_frames=False, save_txt=False, save_conf=False, save_crop=False, show_labels=True, show_conf=True, show_boxes=True, line_width=None, format=torchscript, keras=False, optimize=False, int8=False, dynamic=False, simplify=False, opset=None, workspace=4, nms=False, lr0=0.01, lrf=0.01, momentum=0.937, weight_decay=0.0005, warmup_epochs=3.0, warmup_momentum=0.8, warmup_bias_lr=0.1, box=7.5, cls=0.5, dfl=1.5, pose=12.0, kobj=1.0, label_smoothing=0.0, nbs=64, hsv_h=0.015, hsv_s=0.7, hsv_v=0.4, degrees=0.0, translate=0.1, scale=0.5, shear=0.0, perspective=0.0, flipud=0.0, fliplr=0.5, mosaic=1.0, mixup=0.0, copy_paste=0.0, auto_augment=randaugment, erasing=0.4, crop_fraction=1.0, cfg=None, tracker=botsort.yaml, save_dir=runs\\detect\\pothole_detector\n"
     ]
    },
    {
     "name": "stderr",
     "output_type": "stream",
     "text": [
      "11/13/2024 18:38:38 - WARNING - tensorflow -   From C:\\Pyton 3.11\\Lib\\site-packages\\keras\\src\\losses.py:2976: The name tf.losses.sparse_softmax_cross_entropy is deprecated. Please use tf.compat.v1.losses.sparse_softmax_cross_entropy instead.\n",
      "\n"
     ]
    },
    {
     "name": "stdout",
     "output_type": "stream",
     "text": [
      "Overriding model.yaml nc=80 with nc=1\n",
      "\n",
      "                   from  n    params  module                                       arguments                     \n",
      "  0                  -1  1      1392  ultralytics.nn.modules.conv.Conv             [3, 48, 3, 2]                 \n",
      "  1                  -1  1     41664  ultralytics.nn.modules.conv.Conv             [48, 96, 3, 2]                \n",
      "  2                  -1  2    111360  ultralytics.nn.modules.block.C2f             [96, 96, 2, True]             \n",
      "  3                  -1  1    166272  ultralytics.nn.modules.conv.Conv             [96, 192, 3, 2]               \n",
      "  4                  -1  4    813312  ultralytics.nn.modules.block.C2f             [192, 192, 4, True]           \n",
      "  5                  -1  1    664320  ultralytics.nn.modules.conv.Conv             [192, 384, 3, 2]              \n",
      "  6                  -1  4   3248640  ultralytics.nn.modules.block.C2f             [384, 384, 4, True]           \n",
      "  7                  -1  1   1991808  ultralytics.nn.modules.conv.Conv             [384, 576, 3, 2]              \n",
      "  8                  -1  2   3985920  ultralytics.nn.modules.block.C2f             [576, 576, 2, True]           \n",
      "  9                  -1  1    831168  ultralytics.nn.modules.block.SPPF            [576, 576, 5]                 \n",
      " 10                  -1  1         0  torch.nn.modules.upsampling.Upsample         [None, 2, 'nearest']          \n",
      " 11             [-1, 6]  1         0  ultralytics.nn.modules.conv.Concat           [1]                           \n",
      " 12                  -1  2   1993728  ultralytics.nn.modules.block.C2f             [960, 384, 2]                 \n",
      " 13                  -1  1         0  torch.nn.modules.upsampling.Upsample         [None, 2, 'nearest']          \n",
      " 14             [-1, 4]  1         0  ultralytics.nn.modules.conv.Concat           [1]                           \n",
      " 15                  -1  2    517632  ultralytics.nn.modules.block.C2f             [576, 192, 2]                 \n",
      " 16                  -1  1    332160  ultralytics.nn.modules.conv.Conv             [192, 192, 3, 2]              \n",
      " 17            [-1, 12]  1         0  ultralytics.nn.modules.conv.Concat           [1]                           \n",
      " 18                  -1  2   1846272  ultralytics.nn.modules.block.C2f             [576, 384, 2]                 \n",
      " 19                  -1  1   1327872  ultralytics.nn.modules.conv.Conv             [384, 384, 3, 2]              \n",
      " 20             [-1, 9]  1         0  ultralytics.nn.modules.conv.Concat           [1]                           \n",
      " 21                  -1  2   4207104  ultralytics.nn.modules.block.C2f             [960, 576, 2]                 \n",
      " 22        [15, 18, 21]  1   3776275  ultralytics.nn.modules.head.Detect           [1, [192, 384, 576]]          \n",
      "Model summary: 295 layers, 25856899 parameters, 25856883 gradients, 79.1 GFLOPs\n",
      "\n",
      "Transferred 469/475 items from pretrained weights\n",
      "\u001b[34m\u001b[1mTensorBoard: \u001b[0mStart with 'tensorboard --logdir runs\\detect\\pothole_detector', view at http://localhost:6006/\n",
      "Freezing layer 'model.22.dfl.conv.weight'\n"
     ]
    },
    {
     "name": "stderr",
     "output_type": "stream",
     "text": [
      "\u001b[34m\u001b[1mtrain: \u001b[0mScanning C:\\Users\\Aaryan Naithani\\OneDrive\\Desktop\\Pot-Hole Detection\\yolo_formatted_data\\labels\\train.cache... \u001b[0m\n",
      "\u001b[34m\u001b[1mval: \u001b[0mScanning C:\\Users\\Aaryan Naithani\\OneDrive\\Desktop\\Pot-Hole Detection\\yolo_formatted_data\\labels\\val.cache... 5 im\u001b[0m\n"
     ]
    },
    {
     "name": "stdout",
     "output_type": "stream",
     "text": [
      "Plotting labels to runs\\detect\\pothole_detector\\labels.jpg... \n",
      "\u001b[34m\u001b[1moptimizer:\u001b[0m 'optimizer=auto' found, ignoring 'lr0=0.01' and 'momentum=0.937' and determining best 'optimizer', 'lr0' and 'momentum' automatically... \n",
      "\u001b[34m\u001b[1moptimizer:\u001b[0m AdamW(lr=0.002, momentum=0.9) with parameter groups 77 weight(decay=0.0), 84 weight(decay=0.0005), 83 bias(decay=0.0)\n",
      "25 epochs...\n",
      "\n",
      "      Epoch    GPU_mem   box_loss   cls_loss   dfl_loss  Instances       Size\n"
     ]
    },
    {
     "name": "stderr",
     "output_type": "stream",
     "text": [
      "       1/25         0G      1.778      3.228      1.811         36        640: 100%|██████████| 5/5 [05:40<00:00, 68.01\n",
      "                 Class     Images  Instances      Box(P          R      mAP50  mAP50-95): 100%|██████████| 1/1 [00:03<0"
     ]
    },
    {
     "name": "stdout",
     "output_type": "stream",
     "text": [
      "                   all          5          5      0.484        0.4      0.372      0.131\n"
     ]
    },
    {
     "name": "stderr",
     "output_type": "stream",
     "text": [
      "\n"
     ]
    },
    {
     "name": "stdout",
     "output_type": "stream",
     "text": [
      "\n",
      "      Epoch    GPU_mem   box_loss   cls_loss   dfl_loss  Instances       Size\n"
     ]
    },
    {
     "name": "stderr",
     "output_type": "stream",
     "text": [
      "       2/25         0G       1.67      2.612      1.769         32        640: 100%|██████████| 5/5 [05:37<00:00, 67.57\n",
      "                 Class     Images  Instances      Box(P          R      mAP50  mAP50-95): 100%|██████████| 1/1 [00:02<0"
     ]
    },
    {
     "name": "stdout",
     "output_type": "stream",
     "text": [
      "                   all          5          5      0.628      0.353      0.473      0.183\n"
     ]
    },
    {
     "name": "stderr",
     "output_type": "stream",
     "text": [
      "\n"
     ]
    },
    {
     "name": "stdout",
     "output_type": "stream",
     "text": [
      "\n",
      "      Epoch    GPU_mem   box_loss   cls_loss   dfl_loss  Instances       Size\n"
     ]
    },
    {
     "name": "stderr",
     "output_type": "stream",
     "text": [
      "       3/25         0G       1.51      2.025      1.699         35        640: 100%|██████████| 5/5 [05:26<00:00, 65.34\n",
      "                 Class     Images  Instances      Box(P          R      mAP50  mAP50-95): 100%|██████████| 1/1 [00:02<0"
     ]
    },
    {
     "name": "stdout",
     "output_type": "stream",
     "text": [
      "                   all          5          5     0.0182        0.6     0.0183     0.0061\n"
     ]
    },
    {
     "name": "stderr",
     "output_type": "stream",
     "text": [
      "\n"
     ]
    },
    {
     "name": "stdout",
     "output_type": "stream",
     "text": [
      "\n",
      "      Epoch    GPU_mem   box_loss   cls_loss   dfl_loss  Instances       Size\n"
     ]
    },
    {
     "name": "stderr",
     "output_type": "stream",
     "text": [
      "       4/25         0G      1.424      1.737      1.586         39        640: 100%|██████████| 5/5 [05:22<00:00, 64.54\n",
      "                 Class     Images  Instances      Box(P          R      mAP50  mAP50-95): 100%|██████████| 1/1 [00:03<0"
     ]
    },
    {
     "name": "stdout",
     "output_type": "stream",
     "text": [
      "                   all          5          5     0.0474        0.4     0.0328      0.011\n"
     ]
    },
    {
     "name": "stderr",
     "output_type": "stream",
     "text": [
      "\n"
     ]
    },
    {
     "name": "stdout",
     "output_type": "stream",
     "text": [
      "\n",
      "      Epoch    GPU_mem   box_loss   cls_loss   dfl_loss  Instances       Size\n"
     ]
    },
    {
     "name": "stderr",
     "output_type": "stream",
     "text": [
      "       5/25         0G      1.466      1.794      1.715         41        640: 100%|██████████| 5/5 [05:18<00:00, 63.64\n",
      "                 Class     Images  Instances      Box(P          R      mAP50  mAP50-95): 100%|██████████| 1/1 [00:03<0"
     ]
    },
    {
     "name": "stdout",
     "output_type": "stream",
     "text": [
      "                   all          5          5     0.0103        0.4     0.0138    0.00433\n"
     ]
    },
    {
     "name": "stderr",
     "output_type": "stream",
     "text": [
      "\n"
     ]
    },
    {
     "name": "stdout",
     "output_type": "stream",
     "text": [
      "\n",
      "      Epoch    GPU_mem   box_loss   cls_loss   dfl_loss  Instances       Size\n"
     ]
    },
    {
     "name": "stderr",
     "output_type": "stream",
     "text": [
      "       6/25         0G       1.56      1.579      1.705         51        640: 100%|██████████| 5/5 [05:11<00:00, 62.37\n",
      "                 Class     Images  Instances      Box(P          R      mAP50  mAP50-95): 100%|██████████| 1/1 [00:03<0"
     ]
    },
    {
     "name": "stdout",
     "output_type": "stream",
     "text": [
      "                   all          5          5     0.0451        0.8      0.049     0.0156\n"
     ]
    },
    {
     "name": "stderr",
     "output_type": "stream",
     "text": [
      "\n"
     ]
    },
    {
     "name": "stdout",
     "output_type": "stream",
     "text": [
      "\n",
      "      Epoch    GPU_mem   box_loss   cls_loss   dfl_loss  Instances       Size\n"
     ]
    },
    {
     "name": "stderr",
     "output_type": "stream",
     "text": [
      "       7/25         0G      1.594      1.563      1.677         44        640: 100%|██████████| 5/5 [05:23<00:00, 64.78\n",
      "                 Class     Images  Instances      Box(P          R      mAP50  mAP50-95): 100%|██████████| 1/1 [00:02<0"
     ]
    },
    {
     "name": "stdout",
     "output_type": "stream",
     "text": [
      "                   all          5          5      0.368        0.8      0.338      0.204\n"
     ]
    },
    {
     "name": "stderr",
     "output_type": "stream",
     "text": [
      "\n"
     ]
    },
    {
     "name": "stdout",
     "output_type": "stream",
     "text": [
      "\n",
      "      Epoch    GPU_mem   box_loss   cls_loss   dfl_loss  Instances       Size\n"
     ]
    },
    {
     "name": "stderr",
     "output_type": "stream",
     "text": [
      "       8/25         0G      1.596      1.702      1.675         34        640: 100%|██████████| 5/5 [05:24<00:00, 64.86\n",
      "                 Class     Images  Instances      Box(P          R      mAP50  mAP50-95): 100%|██████████| 1/1 [00:03<0"
     ]
    },
    {
     "name": "stdout",
     "output_type": "stream",
     "text": [
      "                   all          5          5      0.205        0.4      0.156      0.038\n"
     ]
    },
    {
     "name": "stderr",
     "output_type": "stream",
     "text": [
      "\n"
     ]
    },
    {
     "name": "stdout",
     "output_type": "stream",
     "text": [
      "\n",
      "      Epoch    GPU_mem   box_loss   cls_loss   dfl_loss  Instances       Size\n"
     ]
    },
    {
     "name": "stderr",
     "output_type": "stream",
     "text": [
      "       9/25         0G      1.571      1.823      1.682         49        640: 100%|██████████| 5/5 [05:26<00:00, 65.29\n",
      "                 Class     Images  Instances      Box(P          R      mAP50  mAP50-95): 100%|██████████| 1/1 [00:02<0"
     ]
    },
    {
     "name": "stdout",
     "output_type": "stream",
     "text": [
      "                   all          5          5     0.0784        0.2     0.0347    0.00835\n"
     ]
    },
    {
     "name": "stderr",
     "output_type": "stream",
     "text": [
      "\n"
     ]
    },
    {
     "name": "stdout",
     "output_type": "stream",
     "text": [
      "\n",
      "      Epoch    GPU_mem   box_loss   cls_loss   dfl_loss  Instances       Size\n"
     ]
    },
    {
     "name": "stderr",
     "output_type": "stream",
     "text": [
      "      10/25         0G      1.658      1.779      1.813         42        640: 100%|██████████| 5/5 [05:34<00:00, 66.99\n",
      "                 Class     Images  Instances      Box(P          R      mAP50  mAP50-95): 100%|██████████| 1/1 [00:03<0"
     ]
    },
    {
     "name": "stdout",
     "output_type": "stream",
     "text": [
      "                   all          5          5      0.126        0.8      0.138      0.036\n"
     ]
    },
    {
     "name": "stderr",
     "output_type": "stream",
     "text": [
      "\n"
     ]
    },
    {
     "name": "stdout",
     "output_type": "stream",
     "text": [
      "\n",
      "      Epoch    GPU_mem   box_loss   cls_loss   dfl_loss  Instances       Size\n"
     ]
    },
    {
     "name": "stderr",
     "output_type": "stream",
     "text": [
      "      11/25         0G      1.728      2.028      1.891         31        640: 100%|██████████| 5/5 [05:30<00:00, 66.19\n",
      "                 Class     Images  Instances      Box(P          R      mAP50  mAP50-95): 100%|██████████| 1/1 [00:03<0"
     ]
    },
    {
     "name": "stdout",
     "output_type": "stream",
     "text": [
      "                   all          5          5     0.0833        0.2      0.102      0.027\n"
     ]
    },
    {
     "name": "stderr",
     "output_type": "stream",
     "text": [
      "\n"
     ]
    },
    {
     "name": "stdout",
     "output_type": "stream",
     "text": [
      "\n",
      "      Epoch    GPU_mem   box_loss   cls_loss   dfl_loss  Instances       Size\n"
     ]
    },
    {
     "name": "stderr",
     "output_type": "stream",
     "text": [
      "      12/25         0G      1.636      1.871      1.773         37        640: 100%|██████████| 5/5 [05:28<00:00, 65.61\n",
      "                 Class     Images  Instances      Box(P          R      mAP50  mAP50-95): 100%|██████████| 1/1 [00:03<0"
     ]
    },
    {
     "name": "stdout",
     "output_type": "stream",
     "text": [
      "                   all          5          5     0.0351        0.4     0.0219     0.0156\n"
     ]
    },
    {
     "name": "stderr",
     "output_type": "stream",
     "text": [
      "\n"
     ]
    },
    {
     "name": "stdout",
     "output_type": "stream",
     "text": [
      "\n",
      "      Epoch    GPU_mem   box_loss   cls_loss   dfl_loss  Instances       Size\n"
     ]
    },
    {
     "name": "stderr",
     "output_type": "stream",
     "text": [
      "      13/25         0G      1.646      1.731      1.813         30        640: 100%|██████████| 5/5 [05:28<00:00, 65.64\n",
      "                 Class     Images  Instances      Box(P          R      mAP50  mAP50-95): 100%|██████████| 1/1 [00:03<0"
     ]
    },
    {
     "name": "stdout",
     "output_type": "stream",
     "text": [
      "                   all          5          5     0.0157        0.4     0.0162     0.0027\n"
     ]
    },
    {
     "name": "stderr",
     "output_type": "stream",
     "text": [
      "\n"
     ]
    },
    {
     "name": "stdout",
     "output_type": "stream",
     "text": [
      "\n",
      "      Epoch    GPU_mem   box_loss   cls_loss   dfl_loss  Instances       Size\n"
     ]
    },
    {
     "name": "stderr",
     "output_type": "stream",
     "text": [
      "      14/25         0G      1.619      1.734      1.752         38        640: 100%|██████████| 5/5 [05:31<00:00, 66.38\n",
      "                 Class     Images  Instances      Box(P          R      mAP50  mAP50-95): 100%|██████████| 1/1 [00:03<0"
     ]
    },
    {
     "name": "stdout",
     "output_type": "stream",
     "text": [
      "                   all          5          5     0.0144          1     0.0145    0.00542\n"
     ]
    },
    {
     "name": "stderr",
     "output_type": "stream",
     "text": [
      "\n"
     ]
    },
    {
     "name": "stdout",
     "output_type": "stream",
     "text": [
      "\n",
      "      Epoch    GPU_mem   box_loss   cls_loss   dfl_loss  Instances       Size\n"
     ]
    },
    {
     "name": "stderr",
     "output_type": "stream",
     "text": [
      "      15/25         0G      1.621       1.87      1.784         49        640: 100%|██████████| 5/5 [05:21<00:00, 64.37\n",
      "                 Class     Images  Instances      Box(P          R      mAP50  mAP50-95): 100%|██████████| 1/1 [00:03<0"
     ]
    },
    {
     "name": "stdout",
     "output_type": "stream",
     "text": [
      "                   all          5          5     0.0471        0.6     0.0696     0.0227\n"
     ]
    },
    {
     "name": "stderr",
     "output_type": "stream",
     "text": [
      "\n"
     ]
    },
    {
     "name": "stdout",
     "output_type": "stream",
     "text": [
      "Closing dataloader mosaic\n",
      "\n",
      "      Epoch    GPU_mem   box_loss   cls_loss   dfl_loss  Instances       Size\n"
     ]
    },
    {
     "name": "stderr",
     "output_type": "stream",
     "text": [
      "      16/25         0G      1.647      1.827      1.841         23        640: 100%|██████████| 5/5 [05:12<00:00, 62.48\n",
      "                 Class     Images  Instances      Box(P          R      mAP50  mAP50-95): 100%|██████████| 1/1 [00:03<0"
     ]
    },
    {
     "name": "stdout",
     "output_type": "stream",
     "text": [
      "                   all          5          5     0.0234        0.6     0.0248     0.0098\n"
     ]
    },
    {
     "name": "stderr",
     "output_type": "stream",
     "text": [
      "\n"
     ]
    },
    {
     "name": "stdout",
     "output_type": "stream",
     "text": [
      "\n",
      "      Epoch    GPU_mem   box_loss   cls_loss   dfl_loss  Instances       Size\n"
     ]
    },
    {
     "name": "stderr",
     "output_type": "stream",
     "text": [
      "      17/25         0G      1.794      1.898      1.977         18        640: 100%|██████████| 5/5 [05:13<00:00, 62.74\n",
      "                 Class     Images  Instances      Box(P          R      mAP50  mAP50-95): 100%|██████████| 1/1 [00:03<0"
     ]
    },
    {
     "name": "stdout",
     "output_type": "stream",
     "text": [
      "                   all          5          5     0.0721        0.2     0.0299     0.0141\n"
     ]
    },
    {
     "name": "stderr",
     "output_type": "stream",
     "text": [
      "\n"
     ]
    },
    {
     "name": "stdout",
     "output_type": "stream",
     "text": [
      "\n",
      "      Epoch    GPU_mem   box_loss   cls_loss   dfl_loss  Instances       Size\n"
     ]
    },
    {
     "name": "stderr",
     "output_type": "stream",
     "text": [
      "      18/25         0G      1.531      1.604      1.831         28        640: 100%|██████████| 5/5 [05:16<00:00, 63.21\n",
      "                 Class     Images  Instances      Box(P          R      mAP50  mAP50-95): 100%|██████████| 1/1 [00:03<0"
     ]
    },
    {
     "name": "stdout",
     "output_type": "stream",
     "text": [
      "                   all          5          5     0.0309        0.2      0.013    0.00391\n"
     ]
    },
    {
     "name": "stderr",
     "output_type": "stream",
     "text": [
      "\n"
     ]
    },
    {
     "name": "stdout",
     "output_type": "stream",
     "text": [
      "\n",
      "      Epoch    GPU_mem   box_loss   cls_loss   dfl_loss  Instances       Size\n"
     ]
    },
    {
     "name": "stderr",
     "output_type": "stream",
     "text": [
      "      19/25         0G      1.535      1.655      1.778         22        640: 100%|██████████| 5/5 [05:12<00:00, 62.50\n",
      "                 Class     Images  Instances      Box(P          R      mAP50  mAP50-95): 100%|██████████| 1/1 [00:03<0"
     ]
    },
    {
     "name": "stdout",
     "output_type": "stream",
     "text": [
      "                   all          5          5     0.0041        0.4    0.00282   0.000595\n"
     ]
    },
    {
     "name": "stderr",
     "output_type": "stream",
     "text": [
      "\n"
     ]
    },
    {
     "name": "stdout",
     "output_type": "stream",
     "text": [
      "\n",
      "      Epoch    GPU_mem   box_loss   cls_loss   dfl_loss  Instances       Size\n"
     ]
    },
    {
     "name": "stderr",
     "output_type": "stream",
     "text": [
      "      20/25         0G      1.494      1.537      1.741         20        640: 100%|██████████| 5/5 [05:19<00:00, 63.97\n",
      "                 Class     Images  Instances      Box(P          R      mAP50  mAP50-95): 100%|██████████| 1/1 [00:03<0"
     ]
    },
    {
     "name": "stdout",
     "output_type": "stream",
     "text": [
      "                   all          5          5    0.00386        0.4    0.00259   0.000964\n"
     ]
    },
    {
     "name": "stderr",
     "output_type": "stream",
     "text": [
      "\n"
     ]
    },
    {
     "name": "stdout",
     "output_type": "stream",
     "text": [
      "\n",
      "      Epoch    GPU_mem   box_loss   cls_loss   dfl_loss  Instances       Size\n"
     ]
    },
    {
     "name": "stderr",
     "output_type": "stream",
     "text": [
      "      21/25         0G      1.533      1.611      1.812         29        640: 100%|██████████| 5/5 [04:59<00:00, 59.86\n",
      "                 Class     Images  Instances      Box(P          R      mAP50  mAP50-95): 100%|██████████| 1/1 [00:03<0"
     ]
    },
    {
     "name": "stdout",
     "output_type": "stream",
     "text": [
      "                   all          5          5     0.0121        0.4     0.0108    0.00367\n"
     ]
    },
    {
     "name": "stderr",
     "output_type": "stream",
     "text": [
      "\n"
     ]
    },
    {
     "name": "stdout",
     "output_type": "stream",
     "text": [
      "\n",
      "      Epoch    GPU_mem   box_loss   cls_loss   dfl_loss  Instances       Size\n"
     ]
    },
    {
     "name": "stderr",
     "output_type": "stream",
     "text": [
      "      22/25         0G      1.426      1.446      1.707         25        640: 100%|██████████| 5/5 [05:07<00:00, 61.46\n",
      "                 Class     Images  Instances      Box(P          R      mAP50  mAP50-95): 100%|██████████| 1/1 [00:03<0"
     ]
    },
    {
     "name": "stdout",
     "output_type": "stream",
     "text": [
      "                   all          5          5     0.0249        0.4     0.0221    0.00858\n"
     ]
    },
    {
     "name": "stderr",
     "output_type": "stream",
     "text": [
      "\n"
     ]
    },
    {
     "name": "stdout",
     "output_type": "stream",
     "text": [
      "\n",
      "      Epoch    GPU_mem   box_loss   cls_loss   dfl_loss  Instances       Size\n"
     ]
    },
    {
     "name": "stderr",
     "output_type": "stream",
     "text": [
      "      23/25         0G      1.384      1.386      1.696         23        640: 100%|██████████| 5/5 [05:03<00:00, 60.70\n",
      "                 Class     Images  Instances      Box(P          R      mAP50  mAP50-95): 100%|██████████| 1/1 [00:03<0"
     ]
    },
    {
     "name": "stdout",
     "output_type": "stream",
     "text": [
      "                   all          5          5     0.0509        0.8      0.049     0.0167\n"
     ]
    },
    {
     "name": "stderr",
     "output_type": "stream",
     "text": [
      "\n"
     ]
    },
    {
     "name": "stdout",
     "output_type": "stream",
     "text": [
      "\n",
      "      Epoch    GPU_mem   box_loss   cls_loss   dfl_loss  Instances       Size\n"
     ]
    },
    {
     "name": "stderr",
     "output_type": "stream",
     "text": [
      "      24/25         0G       1.42      1.414      1.806         19        640: 100%|██████████| 5/5 [05:15<00:00, 63.17\n",
      "                 Class     Images  Instances      Box(P          R      mAP50  mAP50-95): 100%|██████████| 1/1 [00:03<0"
     ]
    },
    {
     "name": "stdout",
     "output_type": "stream",
     "text": [
      "                   all          5          5      0.444        0.4      0.417      0.143\n"
     ]
    },
    {
     "name": "stderr",
     "output_type": "stream",
     "text": [
      "\n"
     ]
    },
    {
     "name": "stdout",
     "output_type": "stream",
     "text": [
      "\n",
      "      Epoch    GPU_mem   box_loss   cls_loss   dfl_loss  Instances       Size\n"
     ]
    },
    {
     "name": "stderr",
     "output_type": "stream",
     "text": [
      "      25/25         0G      1.327      1.298      1.612         21        640: 100%|██████████| 5/5 [05:16<00:00, 63.24\n",
      "                 Class     Images  Instances      Box(P          R      mAP50  mAP50-95): 100%|██████████| 1/1 [00:03<0"
     ]
    },
    {
     "name": "stdout",
     "output_type": "stream",
     "text": [
      "                   all          5          5       0.74      0.575      0.493      0.167\n"
     ]
    },
    {
     "name": "stderr",
     "output_type": "stream",
     "text": [
      "\n"
     ]
    },
    {
     "name": "stdout",
     "output_type": "stream",
     "text": [
      "\n",
      "25 epochs completed in 2.268 hours.\n",
      "Optimizer stripped from runs\\detect\\pothole_detector\\weights\\last.pt, 52.0MB\n",
      "Optimizer stripped from runs\\detect\\pothole_detector\\weights\\best.pt, 52.0MB\n",
      "\n",
      "Validating runs\\detect\\pothole_detector\\weights\\best.pt...\n",
      "Ultralytics YOLOv8.0.239 🚀 Python-3.11.4 torch-2.0.1+cpu CPU (11th Gen Intel Core(TM) i5-11260H 2.60GHz)\n",
      "Model summary (fused): 218 layers, 25840339 parameters, 0 gradients, 78.7 GFLOPs\n"
     ]
    },
    {
     "name": "stderr",
     "output_type": "stream",
     "text": [
      "                 Class     Images  Instances      Box(P          R      mAP50  mAP50-95): 100%|██████████| 1/1 [00:02<0\n"
     ]
    },
    {
     "name": "stdout",
     "output_type": "stream",
     "text": [
      "                   all          5          5      0.367        0.8      0.338      0.207\n",
      "Speed: 0.0ms preprocess, 530.6ms inference, 0.0ms loss, 3.1ms postprocess per image\n",
      "Results saved to \u001b[1mruns\\detect\\pothole_detector\u001b[0m\n"
     ]
    },
    {
     "data": {
      "text/plain": [
       "ultralytics.utils.metrics.DetMetrics object with attributes:\n",
       "\n",
       "ap_class_index: array([0])\n",
       "box: ultralytics.utils.metrics.Metric object\n",
       "confusion_matrix: <ultralytics.utils.metrics.ConfusionMatrix object at 0x0000017BE7BC8D90>\n",
       "curves: ['Precision-Recall(B)', 'F1-Confidence(B)', 'Precision-Confidence(B)', 'Recall-Confidence(B)']\n",
       "curves_results: [[array([          0,    0.001001,    0.002002,    0.003003,    0.004004,    0.005005,    0.006006,    0.007007,    0.008008,    0.009009,     0.01001,    0.011011,    0.012012,    0.013013,    0.014014,    0.015015,    0.016016,    0.017017,    0.018018,    0.019019,     0.02002,    0.021021,    0.022022,    0.023023,\n",
       "          0.024024,    0.025025,    0.026026,    0.027027,    0.028028,    0.029029,     0.03003,    0.031031,    0.032032,    0.033033,    0.034034,    0.035035,    0.036036,    0.037037,    0.038038,    0.039039,     0.04004,    0.041041,    0.042042,    0.043043,    0.044044,    0.045045,    0.046046,    0.047047,\n",
       "          0.048048,    0.049049,     0.05005,    0.051051,    0.052052,    0.053053,    0.054054,    0.055055,    0.056056,    0.057057,    0.058058,    0.059059,     0.06006,    0.061061,    0.062062,    0.063063,    0.064064,    0.065065,    0.066066,    0.067067,    0.068068,    0.069069,     0.07007,    0.071071,\n",
       "          0.072072,    0.073073,    0.074074,    0.075075,    0.076076,    0.077077,    0.078078,    0.079079,     0.08008,    0.081081,    0.082082,    0.083083,    0.084084,    0.085085,    0.086086,    0.087087,    0.088088,    0.089089,     0.09009,    0.091091,    0.092092,    0.093093,    0.094094,    0.095095,\n",
       "          0.096096,    0.097097,    0.098098,    0.099099,      0.1001,      0.1011,      0.1021,      0.1031,      0.1041,     0.10511,     0.10611,     0.10711,     0.10811,     0.10911,     0.11011,     0.11111,     0.11211,     0.11311,     0.11411,     0.11512,     0.11612,     0.11712,     0.11812,     0.11912,\n",
       "           0.12012,     0.12112,     0.12212,     0.12312,     0.12412,     0.12513,     0.12613,     0.12713,     0.12813,     0.12913,     0.13013,     0.13113,     0.13213,     0.13313,     0.13413,     0.13514,     0.13614,     0.13714,     0.13814,     0.13914,     0.14014,     0.14114,     0.14214,     0.14314,\n",
       "           0.14414,     0.14515,     0.14615,     0.14715,     0.14815,     0.14915,     0.15015,     0.15115,     0.15215,     0.15315,     0.15415,     0.15516,     0.15616,     0.15716,     0.15816,     0.15916,     0.16016,     0.16116,     0.16216,     0.16316,     0.16416,     0.16517,     0.16617,     0.16717,\n",
       "           0.16817,     0.16917,     0.17017,     0.17117,     0.17217,     0.17317,     0.17417,     0.17518,     0.17618,     0.17718,     0.17818,     0.17918,     0.18018,     0.18118,     0.18218,     0.18318,     0.18418,     0.18519,     0.18619,     0.18719,     0.18819,     0.18919,     0.19019,     0.19119,\n",
       "           0.19219,     0.19319,     0.19419,      0.1952,      0.1962,      0.1972,      0.1982,      0.1992,      0.2002,      0.2012,      0.2022,      0.2032,      0.2042,     0.20521,     0.20621,     0.20721,     0.20821,     0.20921,     0.21021,     0.21121,     0.21221,     0.21321,     0.21421,     0.21522,\n",
       "           0.21622,     0.21722,     0.21822,     0.21922,     0.22022,     0.22122,     0.22222,     0.22322,     0.22422,     0.22523,     0.22623,     0.22723,     0.22823,     0.22923,     0.23023,     0.23123,     0.23223,     0.23323,     0.23423,     0.23524,     0.23624,     0.23724,     0.23824,     0.23924,\n",
       "           0.24024,     0.24124,     0.24224,     0.24324,     0.24424,     0.24525,     0.24625,     0.24725,     0.24825,     0.24925,     0.25025,     0.25125,     0.25225,     0.25325,     0.25425,     0.25526,     0.25626,     0.25726,     0.25826,     0.25926,     0.26026,     0.26126,     0.26226,     0.26326,\n",
       "           0.26426,     0.26527,     0.26627,     0.26727,     0.26827,     0.26927,     0.27027,     0.27127,     0.27227,     0.27327,     0.27427,     0.27528,     0.27628,     0.27728,     0.27828,     0.27928,     0.28028,     0.28128,     0.28228,     0.28328,     0.28428,     0.28529,     0.28629,     0.28729,\n",
       "           0.28829,     0.28929,     0.29029,     0.29129,     0.29229,     0.29329,     0.29429,      0.2953,      0.2963,      0.2973,      0.2983,      0.2993,      0.3003,      0.3013,      0.3023,      0.3033,      0.3043,     0.30531,     0.30631,     0.30731,     0.30831,     0.30931,     0.31031,     0.31131,\n",
       "           0.31231,     0.31331,     0.31431,     0.31532,     0.31632,     0.31732,     0.31832,     0.31932,     0.32032,     0.32132,     0.32232,     0.32332,     0.32432,     0.32533,     0.32633,     0.32733,     0.32833,     0.32933,     0.33033,     0.33133,     0.33233,     0.33333,     0.33433,     0.33534,\n",
       "           0.33634,     0.33734,     0.33834,     0.33934,     0.34034,     0.34134,     0.34234,     0.34334,     0.34434,     0.34535,     0.34635,     0.34735,     0.34835,     0.34935,     0.35035,     0.35135,     0.35235,     0.35335,     0.35435,     0.35536,     0.35636,     0.35736,     0.35836,     0.35936,\n",
       "           0.36036,     0.36136,     0.36236,     0.36336,     0.36436,     0.36537,     0.36637,     0.36737,     0.36837,     0.36937,     0.37037,     0.37137,     0.37237,     0.37337,     0.37437,     0.37538,     0.37638,     0.37738,     0.37838,     0.37938,     0.38038,     0.38138,     0.38238,     0.38338,\n",
       "           0.38438,     0.38539,     0.38639,     0.38739,     0.38839,     0.38939,     0.39039,     0.39139,     0.39239,     0.39339,     0.39439,      0.3954,      0.3964,      0.3974,      0.3984,      0.3994,      0.4004,      0.4014,      0.4024,      0.4034,      0.4044,     0.40541,     0.40641,     0.40741,\n",
       "           0.40841,     0.40941,     0.41041,     0.41141,     0.41241,     0.41341,     0.41441,     0.41542,     0.41642,     0.41742,     0.41842,     0.41942,     0.42042,     0.42142,     0.42242,     0.42342,     0.42442,     0.42543,     0.42643,     0.42743,     0.42843,     0.42943,     0.43043,     0.43143,\n",
       "           0.43243,     0.43343,     0.43443,     0.43544,     0.43644,     0.43744,     0.43844,     0.43944,     0.44044,     0.44144,     0.44244,     0.44344,     0.44444,     0.44545,     0.44645,     0.44745,     0.44845,     0.44945,     0.45045,     0.45145,     0.45245,     0.45345,     0.45445,     0.45546,\n",
       "           0.45646,     0.45746,     0.45846,     0.45946,     0.46046,     0.46146,     0.46246,     0.46346,     0.46446,     0.46547,     0.46647,     0.46747,     0.46847,     0.46947,     0.47047,     0.47147,     0.47247,     0.47347,     0.47447,     0.47548,     0.47648,     0.47748,     0.47848,     0.47948,\n",
       "           0.48048,     0.48148,     0.48248,     0.48348,     0.48448,     0.48549,     0.48649,     0.48749,     0.48849,     0.48949,     0.49049,     0.49149,     0.49249,     0.49349,     0.49449,      0.4955,      0.4965,      0.4975,      0.4985,      0.4995,      0.5005,      0.5015,      0.5025,      0.5035,\n",
       "            0.5045,     0.50551,     0.50651,     0.50751,     0.50851,     0.50951,     0.51051,     0.51151,     0.51251,     0.51351,     0.51451,     0.51552,     0.51652,     0.51752,     0.51852,     0.51952,     0.52052,     0.52152,     0.52252,     0.52352,     0.52452,     0.52553,     0.52653,     0.52753,\n",
       "           0.52853,     0.52953,     0.53053,     0.53153,     0.53253,     0.53353,     0.53453,     0.53554,     0.53654,     0.53754,     0.53854,     0.53954,     0.54054,     0.54154,     0.54254,     0.54354,     0.54454,     0.54555,     0.54655,     0.54755,     0.54855,     0.54955,     0.55055,     0.55155,\n",
       "           0.55255,     0.55355,     0.55455,     0.55556,     0.55656,     0.55756,     0.55856,     0.55956,     0.56056,     0.56156,     0.56256,     0.56356,     0.56456,     0.56557,     0.56657,     0.56757,     0.56857,     0.56957,     0.57057,     0.57157,     0.57257,     0.57357,     0.57457,     0.57558,\n",
       "           0.57658,     0.57758,     0.57858,     0.57958,     0.58058,     0.58158,     0.58258,     0.58358,     0.58458,     0.58559,     0.58659,     0.58759,     0.58859,     0.58959,     0.59059,     0.59159,     0.59259,     0.59359,     0.59459,      0.5956,      0.5966,      0.5976,      0.5986,      0.5996,\n",
       "            0.6006,      0.6016,      0.6026,      0.6036,      0.6046,     0.60561,     0.60661,     0.60761,     0.60861,     0.60961,     0.61061,     0.61161,     0.61261,     0.61361,     0.61461,     0.61562,     0.61662,     0.61762,     0.61862,     0.61962,     0.62062,     0.62162,     0.62262,     0.62362,\n",
       "           0.62462,     0.62563,     0.62663,     0.62763,     0.62863,     0.62963,     0.63063,     0.63163,     0.63263,     0.63363,     0.63463,     0.63564,     0.63664,     0.63764,     0.63864,     0.63964,     0.64064,     0.64164,     0.64264,     0.64364,     0.64464,     0.64565,     0.64665,     0.64765,\n",
       "           0.64865,     0.64965,     0.65065,     0.65165,     0.65265,     0.65365,     0.65465,     0.65566,     0.65666,     0.65766,     0.65866,     0.65966,     0.66066,     0.66166,     0.66266,     0.66366,     0.66466,     0.66567,     0.66667,     0.66767,     0.66867,     0.66967,     0.67067,     0.67167,\n",
       "           0.67267,     0.67367,     0.67467,     0.67568,     0.67668,     0.67768,     0.67868,     0.67968,     0.68068,     0.68168,     0.68268,     0.68368,     0.68468,     0.68569,     0.68669,     0.68769,     0.68869,     0.68969,     0.69069,     0.69169,     0.69269,     0.69369,     0.69469,      0.6957,\n",
       "            0.6967,      0.6977,      0.6987,      0.6997,      0.7007,      0.7017,      0.7027,      0.7037,      0.7047,     0.70571,     0.70671,     0.70771,     0.70871,     0.70971,     0.71071,     0.71171,     0.71271,     0.71371,     0.71471,     0.71572,     0.71672,     0.71772,     0.71872,     0.71972,\n",
       "           0.72072,     0.72172,     0.72272,     0.72372,     0.72472,     0.72573,     0.72673,     0.72773,     0.72873,     0.72973,     0.73073,     0.73173,     0.73273,     0.73373,     0.73473,     0.73574,     0.73674,     0.73774,     0.73874,     0.73974,     0.74074,     0.74174,     0.74274,     0.74374,\n",
       "           0.74474,     0.74575,     0.74675,     0.74775,     0.74875,     0.74975,     0.75075,     0.75175,     0.75275,     0.75375,     0.75475,     0.75576,     0.75676,     0.75776,     0.75876,     0.75976,     0.76076,     0.76176,     0.76276,     0.76376,     0.76476,     0.76577,     0.76677,     0.76777,\n",
       "           0.76877,     0.76977,     0.77077,     0.77177,     0.77277,     0.77377,     0.77477,     0.77578,     0.77678,     0.77778,     0.77878,     0.77978,     0.78078,     0.78178,     0.78278,     0.78378,     0.78478,     0.78579,     0.78679,     0.78779,     0.78879,     0.78979,     0.79079,     0.79179,\n",
       "           0.79279,     0.79379,     0.79479,      0.7958,      0.7968,      0.7978,      0.7988,      0.7998,      0.8008,      0.8018,      0.8028,      0.8038,      0.8048,     0.80581,     0.80681,     0.80781,     0.80881,     0.80981,     0.81081,     0.81181,     0.81281,     0.81381,     0.81481,     0.81582,\n",
       "           0.81682,     0.81782,     0.81882,     0.81982,     0.82082,     0.82182,     0.82282,     0.82382,     0.82482,     0.82583,     0.82683,     0.82783,     0.82883,     0.82983,     0.83083,     0.83183,     0.83283,     0.83383,     0.83483,     0.83584,     0.83684,     0.83784,     0.83884,     0.83984,\n",
       "           0.84084,     0.84184,     0.84284,     0.84384,     0.84484,     0.84585,     0.84685,     0.84785,     0.84885,     0.84985,     0.85085,     0.85185,     0.85285,     0.85385,     0.85485,     0.85586,     0.85686,     0.85786,     0.85886,     0.85986,     0.86086,     0.86186,     0.86286,     0.86386,\n",
       "           0.86486,     0.86587,     0.86687,     0.86787,     0.86887,     0.86987,     0.87087,     0.87187,     0.87287,     0.87387,     0.87487,     0.87588,     0.87688,     0.87788,     0.87888,     0.87988,     0.88088,     0.88188,     0.88288,     0.88388,     0.88488,     0.88589,     0.88689,     0.88789,\n",
       "           0.88889,     0.88989,     0.89089,     0.89189,     0.89289,     0.89389,     0.89489,      0.8959,      0.8969,      0.8979,      0.8989,      0.8999,      0.9009,      0.9019,      0.9029,      0.9039,      0.9049,     0.90591,     0.90691,     0.90791,     0.90891,     0.90991,     0.91091,     0.91191,\n",
       "           0.91291,     0.91391,     0.91491,     0.91592,     0.91692,     0.91792,     0.91892,     0.91992,     0.92092,     0.92192,     0.92292,     0.92392,     0.92492,     0.92593,     0.92693,     0.92793,     0.92893,     0.92993,     0.93093,     0.93193,     0.93293,     0.93393,     0.93493,     0.93594,\n",
       "           0.93694,     0.93794,     0.93894,     0.93994,     0.94094,     0.94194,     0.94294,     0.94394,     0.94494,     0.94595,     0.94695,     0.94795,     0.94895,     0.94995,     0.95095,     0.95195,     0.95295,     0.95395,     0.95495,     0.95596,     0.95696,     0.95796,     0.95896,     0.95996,\n",
       "           0.96096,     0.96196,     0.96296,     0.96396,     0.96496,     0.96597,     0.96697,     0.96797,     0.96897,     0.96997,     0.97097,     0.97197,     0.97297,     0.97397,     0.97497,     0.97598,     0.97698,     0.97798,     0.97898,     0.97998,     0.98098,     0.98198,     0.98298,     0.98398,\n",
       "           0.98498,     0.98599,     0.98699,     0.98799,     0.98899,     0.98999,     0.99099,     0.99199,     0.99299,     0.99399,     0.99499,       0.996,       0.997,       0.998,       0.999,           1]), array([[        0.5,         0.5,         0.5,         0.5,         0.5,         0.5,         0.5,         0.5,         0.5,         0.5,         0.5,         0.5,         0.5,         0.5,         0.5,         0.5,         0.5,         0.5,         0.5,         0.5,         0.5,         0.5,         0.5,\n",
       "                0.5,         0.5,         0.5,         0.5,         0.5,         0.5,         0.5,         0.5,         0.5,         0.5,         0.5,         0.5,         0.5,         0.5,         0.5,         0.5,         0.5,         0.5,         0.5,         0.5,         0.5,         0.5,         0.5,\n",
       "                0.5,         0.5,         0.5,         0.5,         0.5,         0.5,         0.5,         0.5,         0.5,         0.5,         0.5,         0.5,         0.5,         0.5,         0.5,         0.5,         0.5,         0.5,         0.5,         0.5,         0.5,         0.5,         0.5,\n",
       "                0.5,         0.5,         0.5,         0.5,         0.5,         0.5,         0.5,         0.5,         0.5,         0.5,         0.5,         0.5,         0.5,         0.5,         0.5,         0.5,         0.5,         0.5,         0.5,         0.5,         0.5,         0.5,         0.5,\n",
       "                0.5,         0.5,         0.5,         0.5,         0.5,         0.5,         0.5,         0.5,         0.5,         0.5,         0.5,         0.5,         0.5,         0.5,         0.5,         0.5,         0.5,         0.5,         0.5,         0.5,         0.5,         0.5,         0.5,\n",
       "                0.5,         0.5,         0.5,         0.5,         0.5,         0.5,         0.5,         0.5,         0.5,         0.5,         0.5,         0.5,         0.5,         0.5,         0.5,         0.5,         0.5,         0.5,         0.5,         0.5,         0.5,         0.5,         0.5,\n",
       "                0.5,         0.5,         0.5,         0.5,         0.5,         0.5,         0.5,         0.5,         0.5,         0.5,         0.5,         0.5,         0.5,         0.5,         0.5,         0.5,         0.5,         0.5,         0.5,         0.5,         0.5,         0.5,         0.5,\n",
       "                0.5,         0.5,         0.5,         0.5,         0.5,         0.5,         0.5,         0.5,         0.5,         0.5,         0.5,         0.5,         0.5,         0.5,         0.5,         0.5,         0.5,         0.5,         0.5,         0.5,         0.5,         0.5,         0.5,\n",
       "                0.5,         0.5,         0.5,         0.5,         0.5,         0.5,         0.5,         0.5,         0.5,         0.5,         0.5,         0.5,         0.5,         0.5,         0.5,         0.5,         0.4,         0.4,         0.4,         0.4,         0.4,         0.4,         0.4,\n",
       "                0.4,         0.4,         0.4,         0.4,         0.4,         0.4,         0.4,         0.4,         0.4,         0.4,         0.4,         0.4,         0.4,         0.4,         0.4,         0.4,         0.4,         0.4,         0.4,         0.4,         0.4,         0.4,         0.4,\n",
       "                0.4,         0.4,         0.4,         0.4,         0.4,         0.4,         0.4,         0.4,         0.4,         0.4,         0.4,         0.4,         0.4,         0.4,         0.4,         0.4,         0.4,         0.4,         0.4,         0.4,         0.4,         0.4,         0.4,\n",
       "                0.4,         0.4,         0.4,         0.4,         0.4,         0.4,         0.4,         0.4,         0.4,         0.4,         0.4,         0.4,         0.4,         0.4,         0.4,         0.4,         0.4,         0.4,         0.4,         0.4,         0.4,         0.4,         0.4,\n",
       "                0.4,         0.4,         0.4,         0.4,         0.4,         0.4,         0.4,         0.4,         0.4,         0.4,         0.4,         0.4,         0.4,         0.4,         0.4,         0.4,         0.4,         0.4,         0.4,         0.4,         0.4,         0.4,         0.4,\n",
       "                0.4,         0.4,         0.4,         0.4,         0.4,         0.4,         0.4,         0.4,         0.4,         0.4,         0.4,         0.4,         0.4,         0.4,         0.4,         0.4,         0.4,         0.4,         0.4,         0.4,         0.4,         0.4,         0.4,\n",
       "                0.4,         0.4,         0.4,         0.4,         0.4,         0.4,         0.4,         0.4,         0.4,         0.4,         0.4,         0.4,         0.4,         0.4,         0.4,         0.4,         0.4,         0.4,         0.4,         0.4,         0.4,         0.4,         0.4,\n",
       "                0.4,         0.4,         0.4,         0.4,         0.4,         0.4,         0.4,         0.4,         0.4,         0.4,         0.4,         0.4,         0.4,         0.4,         0.4,         0.4,         0.4,         0.4,         0.4,         0.4,         0.4,         0.4,         0.4,\n",
       "                0.4,         0.4,         0.4,         0.4,         0.4,         0.4,         0.4,         0.4,         0.4,         0.4,         0.4,         0.4,         0.4,         0.4,         0.4,         0.4,         0.4,         0.4,         0.4,         0.4,         0.4,         0.4,         0.4,\n",
       "                0.4,         0.4,         0.4,         0.4,         0.4,         0.4,         0.4,         0.4,         0.4,         0.4,         0.4,         0.4,         0.4,         0.4,         0.4,         0.4,         0.4,         0.4,         0.4,         0.4,         0.4,         0.4,         0.4,\n",
       "                0.4,         0.4,         0.4,         0.4,         0.4,         0.4,         0.4,         0.4,         0.4,         0.4,         0.4,         0.4,         0.4,         0.4,         0.4,         0.4,         0.4,         0.4,         0.4,         0.4,         0.4,         0.4,         0.4,\n",
       "                0.4,         0.4,         0.4,         0.4,         0.4,         0.4,         0.4,         0.4,         0.4,         0.4,         0.4,         0.4,         0.4,         0.4,         0.4,         0.4,         0.4,         0.4,         0.4,         0.4,         0.4,         0.4,         0.4,\n",
       "                0.4,         0.4,         0.4,         0.4,         0.4,         0.4,         0.4,         0.4,         0.4,         0.4,         0.4,         0.4,         0.4,         0.4,         0.4,         0.4,         0.4,         0.4,         0.4,         0.4,         0.4,         0.4,         0.4,\n",
       "                0.4,         0.4,         0.4,         0.4,         0.4,         0.4,         0.4,         0.4,         0.4,         0.4,         0.4,         0.4,         0.4,         0.4,         0.4,         0.4,         0.4,         0.4,         0.4,         0.4,         0.4,         0.4,         0.4,\n",
       "                0.4,         0.4,         0.4,         0.4,         0.4,         0.4,         0.4,         0.4,         0.4,         0.4,         0.4,         0.4,         0.4,         0.4,         0.4,         0.4,         0.4,         0.4,         0.4,         0.4,         0.4,         0.4,         0.4,\n",
       "                0.4,         0.4,         0.4,         0.4,         0.4,         0.4,         0.4,         0.4,         0.4,         0.4,         0.4,         0.4,         0.4,         0.4,         0.4,         0.4,         0.4,         0.4,         0.4,         0.4,         0.4,         0.4,         0.4,\n",
       "                0.4,         0.4,         0.4,         0.4,         0.4,         0.4,         0.4,         0.4,         0.4,         0.4,         0.4,         0.4,         0.4,         0.4,         0.4,         0.4,         0.4,         0.4,         0.4,         0.4,         0.4,         0.4,         0.4,\n",
       "                0.4,         0.4,         0.4,         0.4,         0.4,         0.4,         0.4,         0.4,         0.4,         0.4,         0.4,         0.4,         0.4,         0.4,         0.4,         0.4,         0.4,         0.4,         0.4,         0.4,         0.4,         0.4,         0.4,\n",
       "                0.4,         0.4,         0.4,         0.4,         0.4,         0.4,         0.4,         0.4,         0.4,         0.4,         0.4,         0.4,         0.4,         0.4,         0.4,         0.4,         0.4,         0.4,         0.4,         0.4,         0.4,         0.4,         0.4,\n",
       "                0.4,         0.4,         0.4,         0.4,         0.4,         0.4,         0.4,         0.4,         0.4,         0.4,         0.4,         0.4,         0.4,         0.4,         0.4,         0.4,         0.4,         0.4,         0.4,         0.4,         0.4,         0.4,         0.4,\n",
       "                0.4,         0.4,         0.4,         0.4,         0.4,         0.4,         0.4,         0.4,         0.4,         0.4,         0.4,         0.4,         0.4,         0.4,         0.4,         0.4,         0.4,         0.4,         0.4,         0.4,         0.4,         0.4,         0.4,\n",
       "                0.4,         0.4,         0.4,         0.4,         0.4,         0.4,         0.4,         0.4,         0.4,         0.4,         0.4,         0.4,         0.4,         0.4,         0.4,         0.4,         0.4,         0.4,         0.4,         0.4,         0.4,         0.4,         0.4,\n",
       "                0.4,         0.4,         0.4,         0.4,         0.4,         0.4,         0.4,         0.4,         0.4,         0.4,         0.4,         0.4,         0.4,         0.4,         0.4,         0.4,         0.4,         0.4,         0.4,         0.4,         0.4,         0.4,         0.4,\n",
       "                0.4,         0.4,         0.4,         0.4,         0.4,         0.4,         0.4,         0.4,         0.4,         0.4,         0.4,         0.4,         0.4,         0.4,         0.4,         0.4,         0.4,         0.4,         0.4,         0.4,         0.4,         0.4,         0.4,\n",
       "                0.4,         0.4,         0.4,         0.4,         0.4,         0.4,         0.4,         0.4,         0.4,         0.4,         0.4,         0.4,         0.4,         0.4,         0.4,         0.4,         0.4,         0.4,         0.4,         0.4,         0.4,         0.4,         0.4,\n",
       "                0.4,         0.4,         0.4,         0.4,         0.4,         0.4,         0.4,         0.4,         0.4,         0.4,         0.4,         0.4,         0.4,         0.4,         0.4,         0.4,         0.4,         0.4,         0.4,         0.4,         0.4,         0.4,         0.4,\n",
       "                0.4,         0.4,         0.4,         0.4,         0.4,         0.4,         0.4,         0.4,         0.4,         0.4,         0.4,         0.4,         0.4,         0.4,         0.4,         0.4,         0.4,         0.4,    0.002656,   0.0026426,   0.0026293,   0.0026159,   0.0026026,\n",
       "          0.0025893,   0.0025759,   0.0025626,   0.0025492,   0.0025359,   0.0025225,   0.0025092,   0.0024958,   0.0024825,   0.0024691,   0.0024558,   0.0024424,   0.0024291,   0.0024157,   0.0024024,   0.0023891,   0.0023757,   0.0023624,    0.002349,   0.0023357,   0.0023223,    0.002309,   0.0022956,\n",
       "          0.0022823,   0.0022689,   0.0022556,   0.0022422,   0.0022289,   0.0022155,   0.0022022,   0.0021889,   0.0021755,   0.0021622,   0.0021488,   0.0021355,   0.0021221,   0.0021088,   0.0020954,   0.0020821,   0.0020687,   0.0020554,    0.002042,   0.0020287,   0.0020153,    0.002002,   0.0019887,\n",
       "          0.0019753,    0.001962,   0.0019486,   0.0019353,   0.0019219,   0.0019086,   0.0018952,   0.0018819,   0.0018685,   0.0018552,   0.0018418,   0.0018285,   0.0018151,   0.0018018,   0.0017885,   0.0017751,   0.0017618,   0.0017484,   0.0017351,   0.0017217,   0.0017084,    0.001695,   0.0016817,\n",
       "          0.0016683,    0.001655,   0.0016416,   0.0016283,   0.0016149,   0.0016016,   0.0015883,   0.0015749,   0.0015616,   0.0015482,   0.0015349,   0.0015215,   0.0015082,   0.0014948,   0.0014815,   0.0014681,   0.0014548,   0.0014414,   0.0014281,   0.0014147,   0.0014014,   0.0013881,   0.0013747,\n",
       "          0.0013614,    0.001348,   0.0013347,   0.0013213,    0.001308,   0.0012946,   0.0012813,   0.0012679,   0.0012546,   0.0012412,   0.0012279,   0.0012145,   0.0012012,   0.0011879,   0.0011745,   0.0011612,   0.0011478,   0.0011345,   0.0011211,   0.0011078,   0.0010944,   0.0010811,   0.0010677,\n",
       "          0.0010544,    0.001041,   0.0010277,   0.0010143,    0.001001,  0.00098765,  0.00097431,  0.00096096,  0.00094761,  0.00093427,  0.00092092,  0.00090757,  0.00089423,  0.00088088,  0.00086753,  0.00085419,  0.00084084,  0.00082749,  0.00081415,   0.0008008,  0.00078745,  0.00077411,  0.00076076,\n",
       "         0.00074741,  0.00073407,  0.00072072,  0.00070737,  0.00069403,  0.00068068,  0.00066733,  0.00065399,  0.00064064,  0.00062729,  0.00061395,   0.0006006,  0.00058725,  0.00057391,  0.00056056,  0.00054721,  0.00053387,  0.00052052,  0.00050717,  0.00049383,  0.00048048,  0.00046713,  0.00045379,\n",
       "         0.00044044,  0.00042709,  0.00041375,   0.0004004,  0.00038705,  0.00037371,  0.00036036,  0.00034701,  0.00033367,  0.00032032,  0.00030697,  0.00029363,  0.00028028,  0.00026693,  0.00025359,  0.00024024,  0.00022689,  0.00021355,   0.0002002,  0.00018685,  0.00017351,  0.00016016,  0.00014681,\n",
       "         0.00013347,  0.00012012,  0.00010677,  9.3427e-05,   8.008e-05,  6.6733e-05,  5.3387e-05,   4.004e-05,  2.6693e-05,  1.3347e-05,           0]]), 'Recall', 'Precision'], [array([          0,    0.001001,    0.002002,    0.003003,    0.004004,    0.005005,    0.006006,    0.007007,    0.008008,    0.009009,     0.01001,    0.011011,    0.012012,    0.013013,    0.014014,    0.015015,    0.016016,    0.017017,    0.018018,    0.019019,     0.02002,    0.021021,    0.022022,    0.023023,\n",
       "          0.024024,    0.025025,    0.026026,    0.027027,    0.028028,    0.029029,     0.03003,    0.031031,    0.032032,    0.033033,    0.034034,    0.035035,    0.036036,    0.037037,    0.038038,    0.039039,     0.04004,    0.041041,    0.042042,    0.043043,    0.044044,    0.045045,    0.046046,    0.047047,\n",
       "          0.048048,    0.049049,     0.05005,    0.051051,    0.052052,    0.053053,    0.054054,    0.055055,    0.056056,    0.057057,    0.058058,    0.059059,     0.06006,    0.061061,    0.062062,    0.063063,    0.064064,    0.065065,    0.066066,    0.067067,    0.068068,    0.069069,     0.07007,    0.071071,\n",
       "          0.072072,    0.073073,    0.074074,    0.075075,    0.076076,    0.077077,    0.078078,    0.079079,     0.08008,    0.081081,    0.082082,    0.083083,    0.084084,    0.085085,    0.086086,    0.087087,    0.088088,    0.089089,     0.09009,    0.091091,    0.092092,    0.093093,    0.094094,    0.095095,\n",
       "          0.096096,    0.097097,    0.098098,    0.099099,      0.1001,      0.1011,      0.1021,      0.1031,      0.1041,     0.10511,     0.10611,     0.10711,     0.10811,     0.10911,     0.11011,     0.11111,     0.11211,     0.11311,     0.11411,     0.11512,     0.11612,     0.11712,     0.11812,     0.11912,\n",
       "           0.12012,     0.12112,     0.12212,     0.12312,     0.12412,     0.12513,     0.12613,     0.12713,     0.12813,     0.12913,     0.13013,     0.13113,     0.13213,     0.13313,     0.13413,     0.13514,     0.13614,     0.13714,     0.13814,     0.13914,     0.14014,     0.14114,     0.14214,     0.14314,\n",
       "           0.14414,     0.14515,     0.14615,     0.14715,     0.14815,     0.14915,     0.15015,     0.15115,     0.15215,     0.15315,     0.15415,     0.15516,     0.15616,     0.15716,     0.15816,     0.15916,     0.16016,     0.16116,     0.16216,     0.16316,     0.16416,     0.16517,     0.16617,     0.16717,\n",
       "           0.16817,     0.16917,     0.17017,     0.17117,     0.17217,     0.17317,     0.17417,     0.17518,     0.17618,     0.17718,     0.17818,     0.17918,     0.18018,     0.18118,     0.18218,     0.18318,     0.18418,     0.18519,     0.18619,     0.18719,     0.18819,     0.18919,     0.19019,     0.19119,\n",
       "           0.19219,     0.19319,     0.19419,      0.1952,      0.1962,      0.1972,      0.1982,      0.1992,      0.2002,      0.2012,      0.2022,      0.2032,      0.2042,     0.20521,     0.20621,     0.20721,     0.20821,     0.20921,     0.21021,     0.21121,     0.21221,     0.21321,     0.21421,     0.21522,\n",
       "           0.21622,     0.21722,     0.21822,     0.21922,     0.22022,     0.22122,     0.22222,     0.22322,     0.22422,     0.22523,     0.22623,     0.22723,     0.22823,     0.22923,     0.23023,     0.23123,     0.23223,     0.23323,     0.23423,     0.23524,     0.23624,     0.23724,     0.23824,     0.23924,\n",
       "           0.24024,     0.24124,     0.24224,     0.24324,     0.24424,     0.24525,     0.24625,     0.24725,     0.24825,     0.24925,     0.25025,     0.25125,     0.25225,     0.25325,     0.25425,     0.25526,     0.25626,     0.25726,     0.25826,     0.25926,     0.26026,     0.26126,     0.26226,     0.26326,\n",
       "           0.26426,     0.26527,     0.26627,     0.26727,     0.26827,     0.26927,     0.27027,     0.27127,     0.27227,     0.27327,     0.27427,     0.27528,     0.27628,     0.27728,     0.27828,     0.27928,     0.28028,     0.28128,     0.28228,     0.28328,     0.28428,     0.28529,     0.28629,     0.28729,\n",
       "           0.28829,     0.28929,     0.29029,     0.29129,     0.29229,     0.29329,     0.29429,      0.2953,      0.2963,      0.2973,      0.2983,      0.2993,      0.3003,      0.3013,      0.3023,      0.3033,      0.3043,     0.30531,     0.30631,     0.30731,     0.30831,     0.30931,     0.31031,     0.31131,\n",
       "           0.31231,     0.31331,     0.31431,     0.31532,     0.31632,     0.31732,     0.31832,     0.31932,     0.32032,     0.32132,     0.32232,     0.32332,     0.32432,     0.32533,     0.32633,     0.32733,     0.32833,     0.32933,     0.33033,     0.33133,     0.33233,     0.33333,     0.33433,     0.33534,\n",
       "           0.33634,     0.33734,     0.33834,     0.33934,     0.34034,     0.34134,     0.34234,     0.34334,     0.34434,     0.34535,     0.34635,     0.34735,     0.34835,     0.34935,     0.35035,     0.35135,     0.35235,     0.35335,     0.35435,     0.35536,     0.35636,     0.35736,     0.35836,     0.35936,\n",
       "           0.36036,     0.36136,     0.36236,     0.36336,     0.36436,     0.36537,     0.36637,     0.36737,     0.36837,     0.36937,     0.37037,     0.37137,     0.37237,     0.37337,     0.37437,     0.37538,     0.37638,     0.37738,     0.37838,     0.37938,     0.38038,     0.38138,     0.38238,     0.38338,\n",
       "           0.38438,     0.38539,     0.38639,     0.38739,     0.38839,     0.38939,     0.39039,     0.39139,     0.39239,     0.39339,     0.39439,      0.3954,      0.3964,      0.3974,      0.3984,      0.3994,      0.4004,      0.4014,      0.4024,      0.4034,      0.4044,     0.40541,     0.40641,     0.40741,\n",
       "           0.40841,     0.40941,     0.41041,     0.41141,     0.41241,     0.41341,     0.41441,     0.41542,     0.41642,     0.41742,     0.41842,     0.41942,     0.42042,     0.42142,     0.42242,     0.42342,     0.42442,     0.42543,     0.42643,     0.42743,     0.42843,     0.42943,     0.43043,     0.43143,\n",
       "           0.43243,     0.43343,     0.43443,     0.43544,     0.43644,     0.43744,     0.43844,     0.43944,     0.44044,     0.44144,     0.44244,     0.44344,     0.44444,     0.44545,     0.44645,     0.44745,     0.44845,     0.44945,     0.45045,     0.45145,     0.45245,     0.45345,     0.45445,     0.45546,\n",
       "           0.45646,     0.45746,     0.45846,     0.45946,     0.46046,     0.46146,     0.46246,     0.46346,     0.46446,     0.46547,     0.46647,     0.46747,     0.46847,     0.46947,     0.47047,     0.47147,     0.47247,     0.47347,     0.47447,     0.47548,     0.47648,     0.47748,     0.47848,     0.47948,\n",
       "           0.48048,     0.48148,     0.48248,     0.48348,     0.48448,     0.48549,     0.48649,     0.48749,     0.48849,     0.48949,     0.49049,     0.49149,     0.49249,     0.49349,     0.49449,      0.4955,      0.4965,      0.4975,      0.4985,      0.4995,      0.5005,      0.5015,      0.5025,      0.5035,\n",
       "            0.5045,     0.50551,     0.50651,     0.50751,     0.50851,     0.50951,     0.51051,     0.51151,     0.51251,     0.51351,     0.51451,     0.51552,     0.51652,     0.51752,     0.51852,     0.51952,     0.52052,     0.52152,     0.52252,     0.52352,     0.52452,     0.52553,     0.52653,     0.52753,\n",
       "           0.52853,     0.52953,     0.53053,     0.53153,     0.53253,     0.53353,     0.53453,     0.53554,     0.53654,     0.53754,     0.53854,     0.53954,     0.54054,     0.54154,     0.54254,     0.54354,     0.54454,     0.54555,     0.54655,     0.54755,     0.54855,     0.54955,     0.55055,     0.55155,\n",
       "           0.55255,     0.55355,     0.55455,     0.55556,     0.55656,     0.55756,     0.55856,     0.55956,     0.56056,     0.56156,     0.56256,     0.56356,     0.56456,     0.56557,     0.56657,     0.56757,     0.56857,     0.56957,     0.57057,     0.57157,     0.57257,     0.57357,     0.57457,     0.57558,\n",
       "           0.57658,     0.57758,     0.57858,     0.57958,     0.58058,     0.58158,     0.58258,     0.58358,     0.58458,     0.58559,     0.58659,     0.58759,     0.58859,     0.58959,     0.59059,     0.59159,     0.59259,     0.59359,     0.59459,      0.5956,      0.5966,      0.5976,      0.5986,      0.5996,\n",
       "            0.6006,      0.6016,      0.6026,      0.6036,      0.6046,     0.60561,     0.60661,     0.60761,     0.60861,     0.60961,     0.61061,     0.61161,     0.61261,     0.61361,     0.61461,     0.61562,     0.61662,     0.61762,     0.61862,     0.61962,     0.62062,     0.62162,     0.62262,     0.62362,\n",
       "           0.62462,     0.62563,     0.62663,     0.62763,     0.62863,     0.62963,     0.63063,     0.63163,     0.63263,     0.63363,     0.63463,     0.63564,     0.63664,     0.63764,     0.63864,     0.63964,     0.64064,     0.64164,     0.64264,     0.64364,     0.64464,     0.64565,     0.64665,     0.64765,\n",
       "           0.64865,     0.64965,     0.65065,     0.65165,     0.65265,     0.65365,     0.65465,     0.65566,     0.65666,     0.65766,     0.65866,     0.65966,     0.66066,     0.66166,     0.66266,     0.66366,     0.66466,     0.66567,     0.66667,     0.66767,     0.66867,     0.66967,     0.67067,     0.67167,\n",
       "           0.67267,     0.67367,     0.67467,     0.67568,     0.67668,     0.67768,     0.67868,     0.67968,     0.68068,     0.68168,     0.68268,     0.68368,     0.68468,     0.68569,     0.68669,     0.68769,     0.68869,     0.68969,     0.69069,     0.69169,     0.69269,     0.69369,     0.69469,      0.6957,\n",
       "            0.6967,      0.6977,      0.6987,      0.6997,      0.7007,      0.7017,      0.7027,      0.7037,      0.7047,     0.70571,     0.70671,     0.70771,     0.70871,     0.70971,     0.71071,     0.71171,     0.71271,     0.71371,     0.71471,     0.71572,     0.71672,     0.71772,     0.71872,     0.71972,\n",
       "           0.72072,     0.72172,     0.72272,     0.72372,     0.72472,     0.72573,     0.72673,     0.72773,     0.72873,     0.72973,     0.73073,     0.73173,     0.73273,     0.73373,     0.73473,     0.73574,     0.73674,     0.73774,     0.73874,     0.73974,     0.74074,     0.74174,     0.74274,     0.74374,\n",
       "           0.74474,     0.74575,     0.74675,     0.74775,     0.74875,     0.74975,     0.75075,     0.75175,     0.75275,     0.75375,     0.75475,     0.75576,     0.75676,     0.75776,     0.75876,     0.75976,     0.76076,     0.76176,     0.76276,     0.76376,     0.76476,     0.76577,     0.76677,     0.76777,\n",
       "           0.76877,     0.76977,     0.77077,     0.77177,     0.77277,     0.77377,     0.77477,     0.77578,     0.77678,     0.77778,     0.77878,     0.77978,     0.78078,     0.78178,     0.78278,     0.78378,     0.78478,     0.78579,     0.78679,     0.78779,     0.78879,     0.78979,     0.79079,     0.79179,\n",
       "           0.79279,     0.79379,     0.79479,      0.7958,      0.7968,      0.7978,      0.7988,      0.7998,      0.8008,      0.8018,      0.8028,      0.8038,      0.8048,     0.80581,     0.80681,     0.80781,     0.80881,     0.80981,     0.81081,     0.81181,     0.81281,     0.81381,     0.81481,     0.81582,\n",
       "           0.81682,     0.81782,     0.81882,     0.81982,     0.82082,     0.82182,     0.82282,     0.82382,     0.82482,     0.82583,     0.82683,     0.82783,     0.82883,     0.82983,     0.83083,     0.83183,     0.83283,     0.83383,     0.83483,     0.83584,     0.83684,     0.83784,     0.83884,     0.83984,\n",
       "           0.84084,     0.84184,     0.84284,     0.84384,     0.84484,     0.84585,     0.84685,     0.84785,     0.84885,     0.84985,     0.85085,     0.85185,     0.85285,     0.85385,     0.85485,     0.85586,     0.85686,     0.85786,     0.85886,     0.85986,     0.86086,     0.86186,     0.86286,     0.86386,\n",
       "           0.86486,     0.86587,     0.86687,     0.86787,     0.86887,     0.86987,     0.87087,     0.87187,     0.87287,     0.87387,     0.87487,     0.87588,     0.87688,     0.87788,     0.87888,     0.87988,     0.88088,     0.88188,     0.88288,     0.88388,     0.88488,     0.88589,     0.88689,     0.88789,\n",
       "           0.88889,     0.88989,     0.89089,     0.89189,     0.89289,     0.89389,     0.89489,      0.8959,      0.8969,      0.8979,      0.8989,      0.8999,      0.9009,      0.9019,      0.9029,      0.9039,      0.9049,     0.90591,     0.90691,     0.90791,     0.90891,     0.90991,     0.91091,     0.91191,\n",
       "           0.91291,     0.91391,     0.91491,     0.91592,     0.91692,     0.91792,     0.91892,     0.91992,     0.92092,     0.92192,     0.92292,     0.92392,     0.92492,     0.92593,     0.92693,     0.92793,     0.92893,     0.92993,     0.93093,     0.93193,     0.93293,     0.93393,     0.93493,     0.93594,\n",
       "           0.93694,     0.93794,     0.93894,     0.93994,     0.94094,     0.94194,     0.94294,     0.94394,     0.94494,     0.94595,     0.94695,     0.94795,     0.94895,     0.94995,     0.95095,     0.95195,     0.95295,     0.95395,     0.95495,     0.95596,     0.95696,     0.95796,     0.95896,     0.95996,\n",
       "           0.96096,     0.96196,     0.96296,     0.96396,     0.96496,     0.96597,     0.96697,     0.96797,     0.96897,     0.96997,     0.97097,     0.97197,     0.97297,     0.97397,     0.97497,     0.97598,     0.97698,     0.97798,     0.97898,     0.97998,     0.98098,     0.98198,     0.98298,     0.98398,\n",
       "           0.98498,     0.98599,     0.98699,     0.98799,     0.98899,     0.98999,     0.99099,     0.99199,     0.99299,     0.99399,     0.99499,       0.996,       0.997,       0.998,       0.999,           1]), array([[  0.0053156,   0.0053156,   0.0061421,   0.0086229,    0.010987,    0.012996,    0.014504,     0.01591,    0.017484,      0.0185,    0.019747,    0.021341,    0.021988,    0.022776,    0.023386,    0.024183,    0.024965,    0.025718,    0.027148,    0.027794,    0.028197,    0.028804,    0.029554,\n",
       "           0.030601,    0.031221,    0.031912,    0.033053,    0.034133,    0.034544,     0.03478,    0.035981,    0.037228,    0.038106,    0.038426,    0.038942,    0.039225,    0.039895,    0.040652,    0.040929,    0.041512,    0.041965,    0.042509,     0.04314,    0.043812,    0.044533,    0.045212,\n",
       "           0.045967,    0.046587,    0.047348,    0.047494,    0.047833,    0.049362,    0.050289,    0.051869,    0.052289,    0.052698,    0.052895,    0.054064,    0.054241,    0.054417,     0.05515,     0.05554,    0.055751,    0.055966,    0.056434,    0.056819,    0.056989,    0.057274,    0.057716,\n",
       "           0.057917,    0.059272,    0.060831,    0.061531,    0.062706,    0.063098,    0.063593,    0.063808,     0.06407,    0.064658,    0.065462,    0.065815,    0.066065,    0.066749,    0.066953,    0.067157,    0.068203,    0.069478,    0.070827,    0.071006,    0.071185,    0.071364,    0.071731,\n",
       "           0.072185,    0.072586,    0.073505,    0.073681,    0.073858,    0.074035,     0.07425,    0.074476,    0.074702,    0.075447,    0.076648,    0.078435,     0.08005,    0.081024,    0.081908,    0.082332,    0.084313,    0.085952,    0.088075,    0.089183,    0.090586,    0.091257,    0.091675,\n",
       "           0.092169,    0.092818,    0.093511,    0.094465,    0.096378,    0.096826,    0.097267,    0.098822,     0.09928,    0.099738,     0.10016,     0.10054,     0.10092,     0.10133,     0.10216,     0.10278,     0.10321,     0.10364,     0.10489,     0.10564,     0.10609,     0.10654,     0.10721,\n",
       "            0.10797,     0.10983,     0.11054,     0.11112,     0.11118,     0.11124,     0.11131,     0.11137,     0.11143,     0.11149,     0.11155,     0.11161,     0.11167,     0.11173,     0.11179,     0.11185,     0.11191,     0.11197,     0.11203,     0.11209,     0.11215,     0.11221,     0.11227,\n",
       "            0.11234,      0.1124,     0.11246,     0.11252,     0.11258,     0.11264,     0.11398,     0.11475,     0.11527,     0.11578,     0.11609,     0.11631,     0.11653,     0.11675,     0.11697,     0.11719,     0.11741,     0.11763,     0.11866,     0.11995,     0.12129,     0.12159,     0.12188,\n",
       "            0.12218,     0.12247,     0.12276,     0.12306,     0.12517,     0.12537,     0.12557,     0.12578,     0.12598,     0.12618,     0.12638,     0.12658,     0.12678,     0.12698,     0.12732,     0.12766,       0.128,     0.12833,     0.12867,     0.12901,     0.13027,     0.13125,     0.13154,\n",
       "            0.13183,     0.13211,      0.1324,     0.13269,     0.13298,     0.13327,      0.1336,     0.13395,      0.1343,     0.13465,     0.13499,     0.13534,     0.13741,      0.1383,     0.13871,     0.13911,     0.13951,     0.13991,     0.14032,     0.14065,     0.14097,     0.14129,     0.14162,\n",
       "            0.14194,     0.14227,     0.14259,     0.14288,     0.14301,     0.14314,     0.14327,      0.1434,     0.14354,     0.14367,      0.1438,     0.14393,     0.14406,     0.14419,     0.14432,     0.14445,     0.14458,     0.14471,     0.14484,     0.14498,     0.14511,     0.14524,     0.14537,\n",
       "            0.14614,     0.14825,     0.15126,     0.15191,     0.15257,     0.15322,     0.15386,      0.1544,     0.15493,     0.15546,       0.156,     0.15653,     0.15693,     0.15711,     0.15728,     0.15746,     0.15763,     0.15781,     0.15798,     0.15816,     0.15834,     0.15851,     0.15869,\n",
       "            0.15886,     0.15904,     0.15921,     0.15939,     0.15957,     0.15974,     0.15992,     0.16097,     0.16283,     0.16669,     0.16704,      0.1674,     0.16775,      0.1681,     0.16846,     0.16881,     0.16917,     0.16952,     0.16987,     0.17023,     0.17072,     0.17121,     0.17171,\n",
       "             0.1722,     0.17269,     0.17318,     0.17367,     0.17411,     0.17451,     0.17491,     0.17531,     0.17571,     0.17611,     0.17651,      0.1769,      0.1773,      0.1777,     0.18627,      0.1866,     0.18693,     0.18725,     0.18758,     0.18791,     0.18824,     0.18856,     0.18889,\n",
       "            0.18922,     0.18954,     0.18987,      0.1902,     0.19049,     0.19057,     0.19066,     0.19074,     0.19082,     0.19091,     0.19099,     0.19107,     0.19116,     0.19124,     0.19132,     0.19141,     0.19149,     0.19157,     0.19166,     0.19174,     0.19182,     0.19191,     0.19199,\n",
       "            0.19207,     0.19216,     0.19224,     0.19232,     0.19241,     0.19249,     0.19258,     0.19266,     0.19274,     0.19283,     0.19291,     0.19299,     0.19308,     0.19316,     0.19324,     0.19332,     0.19341,     0.19349,     0.19357,     0.19366,     0.19374,     0.19382,     0.19391,\n",
       "            0.19399,     0.19407,     0.19416,     0.19424,     0.19432,     0.19441,     0.19449,     0.19457,     0.19466,     0.19474,     0.19482,     0.19491,     0.19499,     0.19507,     0.19533,     0.19585,     0.19638,     0.19691,     0.19743,     0.19796,     0.19848,     0.19901,     0.19953,\n",
       "            0.20006,     0.20059,     0.20111,     0.20164,     0.20217,      0.2027,     0.20323,     0.20375,     0.20428,      0.2048,     0.20537,     0.20602,     0.20666,      0.2073,     0.20794,     0.20858,     0.20922,     0.20985,     0.21049,     0.21644,      0.2167,     0.21697,     0.21723,\n",
       "             0.2175,     0.21776,     0.21803,     0.21829,     0.21856,     0.21882,     0.21909,     0.21935,     0.21961,     0.21988,     0.22014,     0.22041,     0.22067,     0.22093,      0.2212,     0.22146,     0.22173,     0.22199,     0.22242,     0.22415,     0.22587,     0.22759,     0.23082,\n",
       "            0.23542,     0.23626,      0.2371,     0.23794,     0.23878,     0.23961,     0.24045,     0.24128,     0.24212,     0.24263,     0.24297,      0.2433,     0.24363,     0.24397,      0.2443,     0.24463,     0.24496,      0.2453,     0.24563,     0.24596,     0.24629,     0.24662,     0.24695,\n",
       "            0.24729,     0.24762,     0.24795,     0.24828,     0.24861,     0.24894,     0.24927,      0.2496,     0.24993,     0.25059,     0.25135,      0.2521,     0.25286,     0.25361,     0.25436,     0.25511,     0.25587,     0.25662,     0.25736,     0.25819,     0.26009,     0.26198,     0.26387,\n",
       "            0.26576,     0.27202,      0.2762,     0.27674,     0.27728,     0.27781,     0.27835,     0.27889,     0.27942,     0.27996,     0.28049,     0.28103,     0.28156,      0.2821,     0.28263,     0.28316,      0.2837,     0.28423,     0.28476,     0.28529,     0.29638,       0.297,     0.29762,\n",
       "            0.29824,     0.29887,     0.29949,      0.3001,     0.30072,     0.30134,     0.30196,     0.30258,     0.30319,     0.30381,     0.30442,     0.30504,     0.30565,     0.30627,     0.30688,     0.30749,     0.30847,     0.30961,     0.31075,     0.31189,     0.31303,     0.31417,     0.31531,\n",
       "            0.31644,     0.31757,      0.3187,     0.31983,     0.32029,     0.32064,     0.32099,     0.32134,     0.32169,     0.32203,     0.32238,     0.32273,     0.32307,     0.32342,     0.32377,     0.32411,     0.32446,     0.32481,     0.32515,      0.3255,     0.32584,     0.32619,     0.32653,\n",
       "            0.32688,     0.32722,     0.32757,     0.32791,     0.32825,      0.3286,     0.32894,     0.32929,     0.32963,     0.32997,     0.33031,     0.33066,       0.331,     0.33134,     0.33168,     0.33203,     0.33237,     0.33271,     0.33305,     0.33381,     0.33657,     0.33931,     0.34205,\n",
       "            0.34477,     0.34748,       0.348,      0.3482,     0.34841,     0.34861,     0.34881,     0.34901,     0.34921,     0.34942,     0.34962,     0.34982,     0.35002,     0.35022,     0.35042,     0.35063,     0.35083,     0.35103,     0.35123,     0.35143,     0.35163,     0.35183,     0.35203,\n",
       "            0.35223,     0.35243,     0.35264,     0.35284,     0.35304,     0.35324,     0.35344,     0.35364,     0.35384,     0.35404,     0.35424,     0.35444,     0.35464,     0.35484,     0.35504,     0.35524,     0.35544,     0.35564,     0.35584,     0.35604,     0.35624,     0.35644,     0.35664,\n",
       "            0.35684,     0.35704,     0.35723,     0.35743,     0.35763,     0.35783,     0.35803,     0.35823,     0.35843,     0.35863,     0.35883,     0.35902,     0.35922,     0.35942,     0.35962,     0.35982,     0.36002,     0.36022,     0.36041,     0.36061,     0.36081,     0.36101,     0.36121,\n",
       "             0.3614,      0.3616,      0.3618,       0.362,      0.3622,     0.36239,     0.36259,     0.36279,     0.36299,     0.36318,     0.36338,     0.36358,     0.36375,     0.36392,     0.36408,     0.36424,     0.36441,     0.36457,     0.36474,      0.3649,     0.36507,     0.36523,     0.36539,\n",
       "            0.36556,     0.36572,     0.36589,     0.36605,     0.36621,     0.36638,     0.36654,     0.36671,     0.36687,     0.36703,      0.3672,     0.36736,     0.36752,     0.36769,     0.36785,     0.36801,     0.36818,     0.36834,      0.3685,     0.36867,     0.36883,     0.36899,     0.36916,\n",
       "            0.36932,     0.36948,     0.36965,     0.36981,     0.36997,     0.37014,      0.3703,     0.37046,     0.37062,     0.37079,     0.37095,     0.37111,     0.37127,     0.37144,      0.3716,     0.37176,     0.37192,     0.37209,     0.37225,     0.37241,     0.37257,     0.37274,      0.3729,\n",
       "            0.37306,     0.37322,     0.37338,     0.37355,     0.37371,     0.37387,     0.37403,     0.37419,     0.37435,     0.37452,     0.37468,     0.37484,       0.375,     0.37516,     0.37532,     0.37549,     0.37565,     0.37581,     0.37597,     0.37613,     0.37629,     0.37645,     0.37661,\n",
       "            0.37678,     0.37694,      0.3771,     0.37726,     0.37742,     0.37758,     0.37774,      0.3779,     0.37806,     0.37822,     0.37838,     0.37855,     0.37871,     0.37887,     0.37903,     0.37919,     0.37935,     0.37951,     0.37967,     0.37983,     0.37999,     0.38015,     0.38031,\n",
       "            0.38047,     0.38063,     0.38079,     0.38095,      0.3822,     0.38347,     0.38473,       0.386,     0.38725,     0.38851,     0.38976,     0.39102,     0.39226,     0.39351,     0.39475,     0.39599,     0.39723,     0.39847,      0.3997,     0.40037,     0.40085,     0.40134,     0.40182,\n",
       "            0.40231,     0.40279,     0.40328,     0.40376,     0.40424,     0.40473,     0.40521,     0.40569,     0.40617,     0.40665,     0.40713,     0.40761,     0.40809,     0.40857,     0.40905,     0.40953,     0.41001,     0.41049,     0.41097,     0.41144,     0.41192,      0.4124,     0.41287,\n",
       "            0.41335,     0.41382,      0.4143,     0.41477,     0.41525,     0.41572,     0.41619,     0.41667,     0.41714,     0.41761,     0.41808,     0.41856,     0.41903,      0.4195,     0.41997,     0.42044,     0.42091,     0.42412,     0.42852,     0.43289,     0.43722,     0.44152,     0.44675,\n",
       "            0.45398,     0.46112,     0.46817,       0.471,     0.47162,     0.47224,     0.47286,     0.47348,      0.4741,     0.47472,     0.47534,     0.47595,     0.47657,     0.47718,      0.4778,     0.47841,     0.47903,     0.47964,     0.48025,     0.48087,     0.48148,     0.48209,      0.4827,\n",
       "            0.48331,     0.48392,     0.48452,     0.48513,     0.48574,     0.48634,     0.48695,     0.48755,     0.48816,     0.48876,     0.48936,     0.48996,     0.49057,     0.49117,     0.49177,     0.49237,     0.49296,     0.49356,     0.49416,     0.49476,     0.49535,     0.49595,     0.49654,\n",
       "            0.49714,     0.49773,     0.49832,     0.49892,     0.49951,     0.50014,     0.50099,     0.50184,     0.50268,     0.50352,     0.50437,     0.50521,     0.50605,     0.50689,     0.50772,     0.50856,     0.50939,     0.51023,     0.51106,     0.51189,     0.51272,     0.51355,     0.51437,\n",
       "             0.5152,     0.51602,     0.51685,     0.51767,     0.51849,     0.51931,     0.52013,     0.52094,     0.52176,     0.52257,     0.52339,      0.5242,     0.52501,     0.52582,     0.52663,     0.52743,     0.52824,     0.52904,     0.52985,     0.53065,     0.53145,     0.53225,     0.53305,\n",
       "            0.53053,     0.52617,     0.52181,     0.51745,     0.51308,     0.50871,     0.50434,     0.49996,     0.49558,     0.49119,      0.4868,     0.48241,     0.47802,     0.47361,     0.46921,      0.4648,     0.46039,     0.45597,     0.45154,     0.44711,     0.44268,     0.43824,     0.43379,\n",
       "            0.42934,      0.4234,     0.41715,     0.41089,     0.40463,     0.39836,     0.39209,     0.38582,     0.37954,     0.37325,     0.36696,     0.36066,     0.35435,     0.34804,     0.34172,      0.3354,     0.32906,     0.32272,     0.31636,        0.31,     0.31627,     0.32913,     0.33532,\n",
       "            0.33829,     0.34122,     0.34412,     0.34698,      0.3498,     0.35259,     0.35535,     0.35807,     0.36076,     0.36341,     0.37809,     0.39284,     0.39502,      0.3848,     0.37457,     0.36432,     0.35407,     0.34379,      0.3335,     0.32319,     0.31286,     0.30251,     0.29214,\n",
       "            0.28173,      0.2713,     0.26083,     0.25033,     0.23978,     0.22919,     0.22485,     0.23203,     0.23865,     0.24476,           0]]), 'Confidence', 'F1'], [array([          0,    0.001001,    0.002002,    0.003003,    0.004004,    0.005005,    0.006006,    0.007007,    0.008008,    0.009009,     0.01001,    0.011011,    0.012012,    0.013013,    0.014014,    0.015015,    0.016016,    0.017017,    0.018018,    0.019019,     0.02002,    0.021021,    0.022022,    0.023023,\n",
       "          0.024024,    0.025025,    0.026026,    0.027027,    0.028028,    0.029029,     0.03003,    0.031031,    0.032032,    0.033033,    0.034034,    0.035035,    0.036036,    0.037037,    0.038038,    0.039039,     0.04004,    0.041041,    0.042042,    0.043043,    0.044044,    0.045045,    0.046046,    0.047047,\n",
       "          0.048048,    0.049049,     0.05005,    0.051051,    0.052052,    0.053053,    0.054054,    0.055055,    0.056056,    0.057057,    0.058058,    0.059059,     0.06006,    0.061061,    0.062062,    0.063063,    0.064064,    0.065065,    0.066066,    0.067067,    0.068068,    0.069069,     0.07007,    0.071071,\n",
       "          0.072072,    0.073073,    0.074074,    0.075075,    0.076076,    0.077077,    0.078078,    0.079079,     0.08008,    0.081081,    0.082082,    0.083083,    0.084084,    0.085085,    0.086086,    0.087087,    0.088088,    0.089089,     0.09009,    0.091091,    0.092092,    0.093093,    0.094094,    0.095095,\n",
       "          0.096096,    0.097097,    0.098098,    0.099099,      0.1001,      0.1011,      0.1021,      0.1031,      0.1041,     0.10511,     0.10611,     0.10711,     0.10811,     0.10911,     0.11011,     0.11111,     0.11211,     0.11311,     0.11411,     0.11512,     0.11612,     0.11712,     0.11812,     0.11912,\n",
       "           0.12012,     0.12112,     0.12212,     0.12312,     0.12412,     0.12513,     0.12613,     0.12713,     0.12813,     0.12913,     0.13013,     0.13113,     0.13213,     0.13313,     0.13413,     0.13514,     0.13614,     0.13714,     0.13814,     0.13914,     0.14014,     0.14114,     0.14214,     0.14314,\n",
       "           0.14414,     0.14515,     0.14615,     0.14715,     0.14815,     0.14915,     0.15015,     0.15115,     0.15215,     0.15315,     0.15415,     0.15516,     0.15616,     0.15716,     0.15816,     0.15916,     0.16016,     0.16116,     0.16216,     0.16316,     0.16416,     0.16517,     0.16617,     0.16717,\n",
       "           0.16817,     0.16917,     0.17017,     0.17117,     0.17217,     0.17317,     0.17417,     0.17518,     0.17618,     0.17718,     0.17818,     0.17918,     0.18018,     0.18118,     0.18218,     0.18318,     0.18418,     0.18519,     0.18619,     0.18719,     0.18819,     0.18919,     0.19019,     0.19119,\n",
       "           0.19219,     0.19319,     0.19419,      0.1952,      0.1962,      0.1972,      0.1982,      0.1992,      0.2002,      0.2012,      0.2022,      0.2032,      0.2042,     0.20521,     0.20621,     0.20721,     0.20821,     0.20921,     0.21021,     0.21121,     0.21221,     0.21321,     0.21421,     0.21522,\n",
       "           0.21622,     0.21722,     0.21822,     0.21922,     0.22022,     0.22122,     0.22222,     0.22322,     0.22422,     0.22523,     0.22623,     0.22723,     0.22823,     0.22923,     0.23023,     0.23123,     0.23223,     0.23323,     0.23423,     0.23524,     0.23624,     0.23724,     0.23824,     0.23924,\n",
       "           0.24024,     0.24124,     0.24224,     0.24324,     0.24424,     0.24525,     0.24625,     0.24725,     0.24825,     0.24925,     0.25025,     0.25125,     0.25225,     0.25325,     0.25425,     0.25526,     0.25626,     0.25726,     0.25826,     0.25926,     0.26026,     0.26126,     0.26226,     0.26326,\n",
       "           0.26426,     0.26527,     0.26627,     0.26727,     0.26827,     0.26927,     0.27027,     0.27127,     0.27227,     0.27327,     0.27427,     0.27528,     0.27628,     0.27728,     0.27828,     0.27928,     0.28028,     0.28128,     0.28228,     0.28328,     0.28428,     0.28529,     0.28629,     0.28729,\n",
       "           0.28829,     0.28929,     0.29029,     0.29129,     0.29229,     0.29329,     0.29429,      0.2953,      0.2963,      0.2973,      0.2983,      0.2993,      0.3003,      0.3013,      0.3023,      0.3033,      0.3043,     0.30531,     0.30631,     0.30731,     0.30831,     0.30931,     0.31031,     0.31131,\n",
       "           0.31231,     0.31331,     0.31431,     0.31532,     0.31632,     0.31732,     0.31832,     0.31932,     0.32032,     0.32132,     0.32232,     0.32332,     0.32432,     0.32533,     0.32633,     0.32733,     0.32833,     0.32933,     0.33033,     0.33133,     0.33233,     0.33333,     0.33433,     0.33534,\n",
       "           0.33634,     0.33734,     0.33834,     0.33934,     0.34034,     0.34134,     0.34234,     0.34334,     0.34434,     0.34535,     0.34635,     0.34735,     0.34835,     0.34935,     0.35035,     0.35135,     0.35235,     0.35335,     0.35435,     0.35536,     0.35636,     0.35736,     0.35836,     0.35936,\n",
       "           0.36036,     0.36136,     0.36236,     0.36336,     0.36436,     0.36537,     0.36637,     0.36737,     0.36837,     0.36937,     0.37037,     0.37137,     0.37237,     0.37337,     0.37437,     0.37538,     0.37638,     0.37738,     0.37838,     0.37938,     0.38038,     0.38138,     0.38238,     0.38338,\n",
       "           0.38438,     0.38539,     0.38639,     0.38739,     0.38839,     0.38939,     0.39039,     0.39139,     0.39239,     0.39339,     0.39439,      0.3954,      0.3964,      0.3974,      0.3984,      0.3994,      0.4004,      0.4014,      0.4024,      0.4034,      0.4044,     0.40541,     0.40641,     0.40741,\n",
       "           0.40841,     0.40941,     0.41041,     0.41141,     0.41241,     0.41341,     0.41441,     0.41542,     0.41642,     0.41742,     0.41842,     0.41942,     0.42042,     0.42142,     0.42242,     0.42342,     0.42442,     0.42543,     0.42643,     0.42743,     0.42843,     0.42943,     0.43043,     0.43143,\n",
       "           0.43243,     0.43343,     0.43443,     0.43544,     0.43644,     0.43744,     0.43844,     0.43944,     0.44044,     0.44144,     0.44244,     0.44344,     0.44444,     0.44545,     0.44645,     0.44745,     0.44845,     0.44945,     0.45045,     0.45145,     0.45245,     0.45345,     0.45445,     0.45546,\n",
       "           0.45646,     0.45746,     0.45846,     0.45946,     0.46046,     0.46146,     0.46246,     0.46346,     0.46446,     0.46547,     0.46647,     0.46747,     0.46847,     0.46947,     0.47047,     0.47147,     0.47247,     0.47347,     0.47447,     0.47548,     0.47648,     0.47748,     0.47848,     0.47948,\n",
       "           0.48048,     0.48148,     0.48248,     0.48348,     0.48448,     0.48549,     0.48649,     0.48749,     0.48849,     0.48949,     0.49049,     0.49149,     0.49249,     0.49349,     0.49449,      0.4955,      0.4965,      0.4975,      0.4985,      0.4995,      0.5005,      0.5015,      0.5025,      0.5035,\n",
       "            0.5045,     0.50551,     0.50651,     0.50751,     0.50851,     0.50951,     0.51051,     0.51151,     0.51251,     0.51351,     0.51451,     0.51552,     0.51652,     0.51752,     0.51852,     0.51952,     0.52052,     0.52152,     0.52252,     0.52352,     0.52452,     0.52553,     0.52653,     0.52753,\n",
       "           0.52853,     0.52953,     0.53053,     0.53153,     0.53253,     0.53353,     0.53453,     0.53554,     0.53654,     0.53754,     0.53854,     0.53954,     0.54054,     0.54154,     0.54254,     0.54354,     0.54454,     0.54555,     0.54655,     0.54755,     0.54855,     0.54955,     0.55055,     0.55155,\n",
       "           0.55255,     0.55355,     0.55455,     0.55556,     0.55656,     0.55756,     0.55856,     0.55956,     0.56056,     0.56156,     0.56256,     0.56356,     0.56456,     0.56557,     0.56657,     0.56757,     0.56857,     0.56957,     0.57057,     0.57157,     0.57257,     0.57357,     0.57457,     0.57558,\n",
       "           0.57658,     0.57758,     0.57858,     0.57958,     0.58058,     0.58158,     0.58258,     0.58358,     0.58458,     0.58559,     0.58659,     0.58759,     0.58859,     0.58959,     0.59059,     0.59159,     0.59259,     0.59359,     0.59459,      0.5956,      0.5966,      0.5976,      0.5986,      0.5996,\n",
       "            0.6006,      0.6016,      0.6026,      0.6036,      0.6046,     0.60561,     0.60661,     0.60761,     0.60861,     0.60961,     0.61061,     0.61161,     0.61261,     0.61361,     0.61461,     0.61562,     0.61662,     0.61762,     0.61862,     0.61962,     0.62062,     0.62162,     0.62262,     0.62362,\n",
       "           0.62462,     0.62563,     0.62663,     0.62763,     0.62863,     0.62963,     0.63063,     0.63163,     0.63263,     0.63363,     0.63463,     0.63564,     0.63664,     0.63764,     0.63864,     0.63964,     0.64064,     0.64164,     0.64264,     0.64364,     0.64464,     0.64565,     0.64665,     0.64765,\n",
       "           0.64865,     0.64965,     0.65065,     0.65165,     0.65265,     0.65365,     0.65465,     0.65566,     0.65666,     0.65766,     0.65866,     0.65966,     0.66066,     0.66166,     0.66266,     0.66366,     0.66466,     0.66567,     0.66667,     0.66767,     0.66867,     0.66967,     0.67067,     0.67167,\n",
       "           0.67267,     0.67367,     0.67467,     0.67568,     0.67668,     0.67768,     0.67868,     0.67968,     0.68068,     0.68168,     0.68268,     0.68368,     0.68468,     0.68569,     0.68669,     0.68769,     0.68869,     0.68969,     0.69069,     0.69169,     0.69269,     0.69369,     0.69469,      0.6957,\n",
       "            0.6967,      0.6977,      0.6987,      0.6997,      0.7007,      0.7017,      0.7027,      0.7037,      0.7047,     0.70571,     0.70671,     0.70771,     0.70871,     0.70971,     0.71071,     0.71171,     0.71271,     0.71371,     0.71471,     0.71572,     0.71672,     0.71772,     0.71872,     0.71972,\n",
       "           0.72072,     0.72172,     0.72272,     0.72372,     0.72472,     0.72573,     0.72673,     0.72773,     0.72873,     0.72973,     0.73073,     0.73173,     0.73273,     0.73373,     0.73473,     0.73574,     0.73674,     0.73774,     0.73874,     0.73974,     0.74074,     0.74174,     0.74274,     0.74374,\n",
       "           0.74474,     0.74575,     0.74675,     0.74775,     0.74875,     0.74975,     0.75075,     0.75175,     0.75275,     0.75375,     0.75475,     0.75576,     0.75676,     0.75776,     0.75876,     0.75976,     0.76076,     0.76176,     0.76276,     0.76376,     0.76476,     0.76577,     0.76677,     0.76777,\n",
       "           0.76877,     0.76977,     0.77077,     0.77177,     0.77277,     0.77377,     0.77477,     0.77578,     0.77678,     0.77778,     0.77878,     0.77978,     0.78078,     0.78178,     0.78278,     0.78378,     0.78478,     0.78579,     0.78679,     0.78779,     0.78879,     0.78979,     0.79079,     0.79179,\n",
       "           0.79279,     0.79379,     0.79479,      0.7958,      0.7968,      0.7978,      0.7988,      0.7998,      0.8008,      0.8018,      0.8028,      0.8038,      0.8048,     0.80581,     0.80681,     0.80781,     0.80881,     0.80981,     0.81081,     0.81181,     0.81281,     0.81381,     0.81481,     0.81582,\n",
       "           0.81682,     0.81782,     0.81882,     0.81982,     0.82082,     0.82182,     0.82282,     0.82382,     0.82482,     0.82583,     0.82683,     0.82783,     0.82883,     0.82983,     0.83083,     0.83183,     0.83283,     0.83383,     0.83483,     0.83584,     0.83684,     0.83784,     0.83884,     0.83984,\n",
       "           0.84084,     0.84184,     0.84284,     0.84384,     0.84484,     0.84585,     0.84685,     0.84785,     0.84885,     0.84985,     0.85085,     0.85185,     0.85285,     0.85385,     0.85485,     0.85586,     0.85686,     0.85786,     0.85886,     0.85986,     0.86086,     0.86186,     0.86286,     0.86386,\n",
       "           0.86486,     0.86587,     0.86687,     0.86787,     0.86887,     0.86987,     0.87087,     0.87187,     0.87287,     0.87387,     0.87487,     0.87588,     0.87688,     0.87788,     0.87888,     0.87988,     0.88088,     0.88188,     0.88288,     0.88388,     0.88488,     0.88589,     0.88689,     0.88789,\n",
       "           0.88889,     0.88989,     0.89089,     0.89189,     0.89289,     0.89389,     0.89489,      0.8959,      0.8969,      0.8979,      0.8989,      0.8999,      0.9009,      0.9019,      0.9029,      0.9039,      0.9049,     0.90591,     0.90691,     0.90791,     0.90891,     0.90991,     0.91091,     0.91191,\n",
       "           0.91291,     0.91391,     0.91491,     0.91592,     0.91692,     0.91792,     0.91892,     0.91992,     0.92092,     0.92192,     0.92292,     0.92392,     0.92492,     0.92593,     0.92693,     0.92793,     0.92893,     0.92993,     0.93093,     0.93193,     0.93293,     0.93393,     0.93493,     0.93594,\n",
       "           0.93694,     0.93794,     0.93894,     0.93994,     0.94094,     0.94194,     0.94294,     0.94394,     0.94494,     0.94595,     0.94695,     0.94795,     0.94895,     0.94995,     0.95095,     0.95195,     0.95295,     0.95395,     0.95495,     0.95596,     0.95696,     0.95796,     0.95896,     0.95996,\n",
       "           0.96096,     0.96196,     0.96296,     0.96396,     0.96496,     0.96597,     0.96697,     0.96797,     0.96897,     0.96997,     0.97097,     0.97197,     0.97297,     0.97397,     0.97497,     0.97598,     0.97698,     0.97798,     0.97898,     0.97998,     0.98098,     0.98198,     0.98298,     0.98398,\n",
       "           0.98498,     0.98599,     0.98699,     0.98799,     0.98899,     0.98999,     0.99099,     0.99199,     0.99299,     0.99399,     0.99499,       0.996,       0.997,       0.998,       0.999,           1]), array([[  0.0026667,   0.0026667,   0.0030829,   0.0043348,   0.0055315,   0.0065512,   0.0073184,   0.0080349,   0.0088387,   0.0093581,   0.0099968,    0.010815,    0.011147,    0.011553,    0.011866,    0.012277,     0.01268,    0.013069,    0.013808,    0.014143,    0.014351,    0.014666,    0.015055,\n",
       "           0.015599,    0.015921,    0.016281,    0.016875,    0.017439,    0.017653,    0.017776,    0.018404,    0.019058,    0.019518,    0.019686,    0.019956,    0.020105,    0.020458,    0.020856,    0.021002,    0.021309,    0.021548,    0.021835,    0.022168,    0.022523,    0.022904,    0.023263,\n",
       "           0.023663,    0.023992,    0.024396,    0.024474,    0.024654,    0.025467,     0.02596,    0.026804,    0.027028,    0.027246,    0.027352,    0.027977,    0.028072,    0.028167,     0.02856,    0.028768,    0.028882,    0.028997,    0.029248,    0.029456,    0.029547,      0.0297,    0.029938,\n",
       "           0.030046,    0.030776,    0.031618,    0.031996,    0.032632,    0.032844,    0.033113,    0.033229,    0.033371,    0.033691,    0.034127,    0.034319,    0.034455,    0.034828,    0.034939,     0.03505,     0.03562,    0.036316,    0.037054,    0.037152,     0.03725,    0.037348,    0.037549,\n",
       "           0.037798,    0.038018,    0.038522,    0.038619,    0.038716,    0.038813,    0.038931,    0.039056,     0.03918,     0.03959,    0.040252,    0.041239,    0.042133,    0.042673,    0.043164,    0.043399,    0.044501,    0.045416,    0.046603,    0.047224,    0.048011,    0.048388,    0.048623,\n",
       "           0.048901,    0.049267,    0.049658,    0.050196,    0.051278,    0.051531,    0.051781,    0.052663,    0.052924,    0.053184,    0.053426,    0.053641,    0.053857,    0.054093,    0.054563,    0.054919,    0.055165,     0.05541,    0.056123,    0.056556,    0.056813,     0.05707,    0.057455,\n",
       "           0.057889,     0.05896,    0.059372,    0.059708,    0.059743,    0.059779,    0.059814,    0.059849,    0.059884,    0.059919,    0.059954,    0.059989,    0.060024,    0.060059,    0.060094,    0.060129,    0.060164,    0.060199,    0.060234,    0.060269,    0.060304,    0.060339,    0.060374,\n",
       "           0.060409,    0.060444,    0.060479,    0.060514,    0.060549,    0.060584,    0.061362,     0.06181,    0.062107,    0.062404,    0.062587,    0.062715,    0.062843,    0.062972,      0.0631,    0.063228,    0.063356,    0.063485,    0.064084,    0.064836,    0.065622,    0.065794,    0.065966,\n",
       "           0.066138,     0.06631,    0.066482,    0.066655,    0.067897,    0.068016,    0.068135,    0.068253,    0.068372,     0.06849,    0.068609,    0.068728,    0.068846,    0.068965,    0.069164,    0.069363,    0.069562,    0.069762,    0.069961,     0.07016,    0.070909,    0.071488,     0.07166,\n",
       "           0.071831,    0.072003,    0.072174,    0.072346,    0.072518,    0.072689,    0.072888,    0.073095,    0.073302,    0.073509,    0.073716,    0.073923,    0.075161,    0.075695,    0.075936,    0.076177,    0.076419,     0.07666,    0.076902,    0.077101,    0.077296,     0.07749,    0.077685,\n",
       "            0.07788,    0.078075,     0.07827,    0.078445,    0.078524,    0.078603,    0.078682,    0.078761,     0.07884,    0.078919,    0.078999,    0.079078,    0.079157,    0.079236,    0.079315,    0.079394,    0.079473,    0.079552,    0.079631,     0.07971,    0.079789,    0.079868,    0.079948,\n",
       "           0.080418,    0.081692,    0.083528,    0.083926,    0.084323,    0.084721,    0.085116,    0.085444,    0.085771,    0.086098,    0.086425,    0.086753,    0.086997,    0.087106,    0.087214,    0.087322,     0.08743,    0.087539,    0.087647,    0.087755,    0.087863,    0.087971,     0.08808,\n",
       "           0.088188,    0.088296,    0.088404,    0.088513,    0.088621,    0.088729,    0.088837,     0.08949,    0.090638,    0.093036,    0.093257,    0.093478,    0.093699,     0.09392,    0.094141,    0.094362,    0.094583,    0.094804,    0.095025,    0.095248,    0.095557,    0.095865,    0.096174,\n",
       "           0.096482,    0.096791,    0.097099,    0.097407,    0.097687,    0.097939,     0.09819,    0.098442,    0.098693,    0.098945,    0.099196,    0.099448,    0.099699,    0.099951,     0.10541,     0.10562,     0.10583,     0.10604,     0.10625,     0.10646,     0.10667,     0.10688,     0.10709,\n",
       "             0.1073,     0.10751,     0.10772,     0.10793,     0.10812,     0.10817,     0.10822,     0.10828,     0.10833,     0.10839,     0.10844,     0.10849,     0.10855,      0.1086,     0.10865,     0.10871,     0.10876,     0.10882,     0.10887,     0.10892,     0.10898,     0.10903,     0.10909,\n",
       "            0.10914,     0.10919,     0.10925,      0.1093,     0.10935,     0.10941,     0.10946,     0.10952,     0.10957,     0.10962,     0.10968,     0.10973,     0.10979,     0.10984,     0.10989,     0.10995,        0.11,     0.11005,     0.11011,     0.11016,     0.11022,     0.11027,     0.11032,\n",
       "            0.11038,     0.11043,     0.11049,     0.11054,     0.11059,     0.11065,      0.1107,     0.11076,     0.11081,     0.11086,     0.11092,     0.11097,     0.11102,     0.11108,     0.11124,     0.11159,     0.11193,     0.11227,     0.11261,     0.11295,      0.1133,     0.11364,     0.11398,\n",
       "            0.11432,     0.11467,     0.11501,     0.11536,     0.11571,     0.11605,      0.1164,     0.11674,     0.11709,     0.11743,     0.11781,     0.11823,     0.11865,     0.11908,      0.1195,     0.11992,     0.12034,     0.12077,     0.12119,     0.12515,     0.12532,      0.1255,     0.12568,\n",
       "            0.12586,     0.12603,     0.12621,     0.12639,     0.12657,     0.12674,     0.12692,      0.1271,     0.12728,     0.12745,     0.12763,     0.12781,     0.12799,     0.12816,     0.12834,     0.12852,      0.1287,     0.12888,     0.12917,     0.13033,      0.1315,     0.13266,     0.13487,\n",
       "            0.13802,      0.1386,     0.13917,     0.13975,     0.14033,     0.14091,     0.14149,     0.14207,     0.14264,       0.143,     0.14323,     0.14347,      0.1437,     0.14393,     0.14416,     0.14439,     0.14462,     0.14486,     0.14509,     0.14532,     0.14555,     0.14578,     0.14601,\n",
       "            0.14625,     0.14648,     0.14671,     0.14694,     0.14717,      0.1474,     0.14763,     0.14787,      0.1481,     0.14856,      0.1491,     0.14963,     0.15016,     0.15069,     0.15122,     0.15175,     0.15229,     0.15282,     0.15335,     0.15393,     0.15529,     0.15664,     0.15799,\n",
       "            0.15935,     0.16387,     0.16691,     0.16731,      0.1677,     0.16809,     0.16849,     0.16888,     0.16927,     0.16967,     0.17006,     0.17045,     0.17085,     0.17124,     0.17163,     0.17203,     0.17242,     0.17281,     0.17321,      0.1736,     0.18188,     0.18235,     0.18282,\n",
       "            0.18329,     0.18376,     0.18423,     0.18469,     0.18516,     0.18563,      0.1861,     0.18657,     0.18704,     0.18751,     0.18798,     0.18845,     0.18892,     0.18939,     0.18985,     0.19032,     0.19107,     0.19195,     0.19283,     0.19371,     0.19459,     0.19547,     0.19635,\n",
       "            0.19723,     0.19811,     0.19898,     0.19986,     0.20023,      0.2005,     0.20077,     0.20105,     0.20132,     0.20159,     0.20186,     0.20214,     0.20241,     0.20268,     0.20295,     0.20322,      0.2035,     0.20377,     0.20404,     0.20431,     0.20459,     0.20486,     0.20513,\n",
       "             0.2054,     0.20567,     0.20595,     0.20622,     0.20649,     0.20676,     0.20703,     0.20731,     0.20758,     0.20785,     0.20812,      0.2084,     0.20867,     0.20894,     0.20921,     0.20948,     0.20976,     0.21003,      0.2103,     0.21091,     0.21311,     0.21532,     0.21753,\n",
       "            0.21973,     0.22194,     0.22237,     0.22253,      0.2227,     0.22286,     0.22303,     0.22319,     0.22336,     0.22352,     0.22369,     0.22385,     0.22402,     0.22418,     0.22435,     0.22451,     0.22468,     0.22484,     0.22501,     0.22517,     0.22534,      0.2255,     0.22567,\n",
       "            0.22583,       0.226,     0.22616,     0.22633,     0.22649,     0.22666,     0.22682,     0.22699,     0.22715,     0.22732,     0.22748,     0.22765,     0.22781,     0.22798,     0.22814,     0.22831,     0.22848,     0.22864,     0.22881,     0.22897,     0.22914,      0.2293,     0.22947,\n",
       "            0.22963,      0.2298,     0.22996,     0.23013,     0.23029,     0.23046,     0.23062,     0.23079,     0.23095,     0.23112,     0.23128,     0.23145,     0.23161,     0.23178,     0.23194,     0.23211,     0.23227,     0.23244,      0.2326,     0.23277,     0.23293,      0.2331,     0.23326,\n",
       "            0.23343,     0.23359,     0.23376,     0.23392,     0.23409,     0.23425,     0.23442,     0.23458,     0.23475,     0.23491,     0.23508,     0.23524,     0.23539,     0.23553,     0.23567,      0.2358,     0.23594,     0.23608,     0.23622,     0.23636,     0.23649,     0.23663,     0.23677,\n",
       "            0.23691,     0.23704,     0.23718,     0.23732,     0.23746,      0.2376,     0.23773,     0.23787,     0.23801,     0.23815,     0.23828,     0.23842,     0.23856,      0.2387,     0.23884,     0.23897,     0.23911,     0.23925,     0.23939,     0.23952,     0.23966,      0.2398,     0.23994,\n",
       "            0.24008,     0.24021,     0.24035,     0.24049,     0.24063,     0.24076,      0.2409,     0.24104,     0.24118,     0.24132,     0.24145,     0.24159,     0.24173,     0.24187,     0.24201,     0.24214,     0.24228,     0.24242,     0.24256,     0.24269,     0.24283,     0.24297,     0.24311,\n",
       "            0.24325,     0.24338,     0.24352,     0.24366,      0.2438,     0.24393,     0.24407,     0.24421,     0.24435,     0.24449,     0.24462,     0.24476,      0.2449,     0.24504,     0.24517,     0.24531,     0.24545,     0.24559,     0.24573,     0.24586,       0.246,     0.24614,     0.24628,\n",
       "            0.24641,     0.24655,     0.24669,     0.24683,     0.24697,      0.2471,     0.24724,     0.24738,     0.24752,     0.24766,     0.24779,     0.24793,     0.24807,     0.24821,     0.24834,     0.24848,     0.24862,     0.24876,      0.2489,     0.24903,     0.24917,     0.24931,     0.24945,\n",
       "            0.24958,     0.24972,     0.24986,        0.25,     0.25108,     0.25217,     0.25327,     0.25436,     0.25546,     0.25655,     0.25764,     0.25874,     0.25983,     0.26093,     0.26202,     0.26312,     0.26421,     0.26531,      0.2664,     0.26699,     0.26743,     0.26786,     0.26829,\n",
       "            0.26872,     0.26916,     0.26959,     0.27002,     0.27045,     0.27088,     0.27132,     0.27175,     0.27218,     0.27261,     0.27305,     0.27348,     0.27391,     0.27434,     0.27477,     0.27521,     0.27564,     0.27607,      0.2765,     0.27694,     0.27737,      0.2778,     0.27823,\n",
       "            0.27867,      0.2791,     0.27953,     0.27996,     0.28039,     0.28083,     0.28126,     0.28169,     0.28212,     0.28256,     0.28299,     0.28342,     0.28385,     0.28428,     0.28472,     0.28515,     0.28558,     0.28855,     0.29263,     0.29672,     0.30081,      0.3049,      0.3099,\n",
       "            0.31691,     0.32391,     0.33091,     0.33374,     0.33437,     0.33499,     0.33562,     0.33624,     0.33687,     0.33749,     0.33812,     0.33874,     0.33937,     0.33999,     0.34062,     0.34124,     0.34187,     0.34249,     0.34312,     0.34374,     0.34437,     0.34499,     0.34562,\n",
       "            0.34624,     0.34687,     0.34749,     0.34812,     0.34874,     0.34937,     0.34999,     0.35062,     0.35124,     0.35187,     0.35249,     0.35312,     0.35374,     0.35437,     0.35499,     0.35562,     0.35624,     0.35687,     0.35749,     0.35812,     0.35874,     0.35937,     0.35999,\n",
       "            0.36062,     0.36124,     0.36187,     0.36249,     0.36312,     0.36379,     0.36468,     0.36558,     0.36648,     0.36738,     0.36827,     0.36917,     0.37007,     0.37097,     0.37186,     0.37276,     0.37366,     0.37455,     0.37545,     0.37635,     0.37725,     0.37814,     0.37904,\n",
       "            0.37994,     0.38084,     0.38173,     0.38263,     0.38353,     0.38443,     0.38532,     0.38622,     0.38712,     0.38802,     0.38891,     0.38981,     0.39071,      0.3916,      0.3925,      0.3934,      0.3943,     0.39519,     0.39609,     0.39699,     0.39789,     0.39878,     0.39968,\n",
       "             0.3982,      0.3954,      0.3926,      0.3898,       0.387,      0.3842,      0.3814,      0.3786,      0.3758,     0.37301,     0.37021,     0.36741,     0.36461,     0.36181,     0.35901,     0.35621,     0.35341,     0.35061,     0.34781,     0.34501,     0.34221,     0.33942,     0.33662,\n",
       "            0.33382,     0.32974,      0.3254,     0.32106,     0.31671,     0.31237,     0.30803,     0.30369,     0.29934,       0.295,     0.29066,     0.28631,     0.28197,     0.27763,     0.27329,     0.26894,      0.2646,     0.26026,     0.25592,     0.25157,     0.26152,     0.27959,     0.28864,\n",
       "            0.29308,     0.29751,     0.30194,     0.30637,      0.3108,     0.31523,     0.31966,     0.32409,     0.32852,     0.33296,     0.35846,     0.38593,     0.39573,     0.38698,     0.37823,     0.36948,     0.36073,     0.35198,     0.34323,     0.33448,     0.32573,     0.31698,     0.30823,\n",
       "            0.29948,     0.29073,     0.28198,     0.27323,     0.26448,     0.25573,     0.25674,     0.27628,     0.29581,     0.31534,           1]]), 'Confidence', 'Precision'], [array([          0,    0.001001,    0.002002,    0.003003,    0.004004,    0.005005,    0.006006,    0.007007,    0.008008,    0.009009,     0.01001,    0.011011,    0.012012,    0.013013,    0.014014,    0.015015,    0.016016,    0.017017,    0.018018,    0.019019,     0.02002,    0.021021,    0.022022,    0.023023,\n",
       "          0.024024,    0.025025,    0.026026,    0.027027,    0.028028,    0.029029,     0.03003,    0.031031,    0.032032,    0.033033,    0.034034,    0.035035,    0.036036,    0.037037,    0.038038,    0.039039,     0.04004,    0.041041,    0.042042,    0.043043,    0.044044,    0.045045,    0.046046,    0.047047,\n",
       "          0.048048,    0.049049,     0.05005,    0.051051,    0.052052,    0.053053,    0.054054,    0.055055,    0.056056,    0.057057,    0.058058,    0.059059,     0.06006,    0.061061,    0.062062,    0.063063,    0.064064,    0.065065,    0.066066,    0.067067,    0.068068,    0.069069,     0.07007,    0.071071,\n",
       "          0.072072,    0.073073,    0.074074,    0.075075,    0.076076,    0.077077,    0.078078,    0.079079,     0.08008,    0.081081,    0.082082,    0.083083,    0.084084,    0.085085,    0.086086,    0.087087,    0.088088,    0.089089,     0.09009,    0.091091,    0.092092,    0.093093,    0.094094,    0.095095,\n",
       "          0.096096,    0.097097,    0.098098,    0.099099,      0.1001,      0.1011,      0.1021,      0.1031,      0.1041,     0.10511,     0.10611,     0.10711,     0.10811,     0.10911,     0.11011,     0.11111,     0.11211,     0.11311,     0.11411,     0.11512,     0.11612,     0.11712,     0.11812,     0.11912,\n",
       "           0.12012,     0.12112,     0.12212,     0.12312,     0.12412,     0.12513,     0.12613,     0.12713,     0.12813,     0.12913,     0.13013,     0.13113,     0.13213,     0.13313,     0.13413,     0.13514,     0.13614,     0.13714,     0.13814,     0.13914,     0.14014,     0.14114,     0.14214,     0.14314,\n",
       "           0.14414,     0.14515,     0.14615,     0.14715,     0.14815,     0.14915,     0.15015,     0.15115,     0.15215,     0.15315,     0.15415,     0.15516,     0.15616,     0.15716,     0.15816,     0.15916,     0.16016,     0.16116,     0.16216,     0.16316,     0.16416,     0.16517,     0.16617,     0.16717,\n",
       "           0.16817,     0.16917,     0.17017,     0.17117,     0.17217,     0.17317,     0.17417,     0.17518,     0.17618,     0.17718,     0.17818,     0.17918,     0.18018,     0.18118,     0.18218,     0.18318,     0.18418,     0.18519,     0.18619,     0.18719,     0.18819,     0.18919,     0.19019,     0.19119,\n",
       "           0.19219,     0.19319,     0.19419,      0.1952,      0.1962,      0.1972,      0.1982,      0.1992,      0.2002,      0.2012,      0.2022,      0.2032,      0.2042,     0.20521,     0.20621,     0.20721,     0.20821,     0.20921,     0.21021,     0.21121,     0.21221,     0.21321,     0.21421,     0.21522,\n",
       "           0.21622,     0.21722,     0.21822,     0.21922,     0.22022,     0.22122,     0.22222,     0.22322,     0.22422,     0.22523,     0.22623,     0.22723,     0.22823,     0.22923,     0.23023,     0.23123,     0.23223,     0.23323,     0.23423,     0.23524,     0.23624,     0.23724,     0.23824,     0.23924,\n",
       "           0.24024,     0.24124,     0.24224,     0.24324,     0.24424,     0.24525,     0.24625,     0.24725,     0.24825,     0.24925,     0.25025,     0.25125,     0.25225,     0.25325,     0.25425,     0.25526,     0.25626,     0.25726,     0.25826,     0.25926,     0.26026,     0.26126,     0.26226,     0.26326,\n",
       "           0.26426,     0.26527,     0.26627,     0.26727,     0.26827,     0.26927,     0.27027,     0.27127,     0.27227,     0.27327,     0.27427,     0.27528,     0.27628,     0.27728,     0.27828,     0.27928,     0.28028,     0.28128,     0.28228,     0.28328,     0.28428,     0.28529,     0.28629,     0.28729,\n",
       "           0.28829,     0.28929,     0.29029,     0.29129,     0.29229,     0.29329,     0.29429,      0.2953,      0.2963,      0.2973,      0.2983,      0.2993,      0.3003,      0.3013,      0.3023,      0.3033,      0.3043,     0.30531,     0.30631,     0.30731,     0.30831,     0.30931,     0.31031,     0.31131,\n",
       "           0.31231,     0.31331,     0.31431,     0.31532,     0.31632,     0.31732,     0.31832,     0.31932,     0.32032,     0.32132,     0.32232,     0.32332,     0.32432,     0.32533,     0.32633,     0.32733,     0.32833,     0.32933,     0.33033,     0.33133,     0.33233,     0.33333,     0.33433,     0.33534,\n",
       "           0.33634,     0.33734,     0.33834,     0.33934,     0.34034,     0.34134,     0.34234,     0.34334,     0.34434,     0.34535,     0.34635,     0.34735,     0.34835,     0.34935,     0.35035,     0.35135,     0.35235,     0.35335,     0.35435,     0.35536,     0.35636,     0.35736,     0.35836,     0.35936,\n",
       "           0.36036,     0.36136,     0.36236,     0.36336,     0.36436,     0.36537,     0.36637,     0.36737,     0.36837,     0.36937,     0.37037,     0.37137,     0.37237,     0.37337,     0.37437,     0.37538,     0.37638,     0.37738,     0.37838,     0.37938,     0.38038,     0.38138,     0.38238,     0.38338,\n",
       "           0.38438,     0.38539,     0.38639,     0.38739,     0.38839,     0.38939,     0.39039,     0.39139,     0.39239,     0.39339,     0.39439,      0.3954,      0.3964,      0.3974,      0.3984,      0.3994,      0.4004,      0.4014,      0.4024,      0.4034,      0.4044,     0.40541,     0.40641,     0.40741,\n",
       "           0.40841,     0.40941,     0.41041,     0.41141,     0.41241,     0.41341,     0.41441,     0.41542,     0.41642,     0.41742,     0.41842,     0.41942,     0.42042,     0.42142,     0.42242,     0.42342,     0.42442,     0.42543,     0.42643,     0.42743,     0.42843,     0.42943,     0.43043,     0.43143,\n",
       "           0.43243,     0.43343,     0.43443,     0.43544,     0.43644,     0.43744,     0.43844,     0.43944,     0.44044,     0.44144,     0.44244,     0.44344,     0.44444,     0.44545,     0.44645,     0.44745,     0.44845,     0.44945,     0.45045,     0.45145,     0.45245,     0.45345,     0.45445,     0.45546,\n",
       "           0.45646,     0.45746,     0.45846,     0.45946,     0.46046,     0.46146,     0.46246,     0.46346,     0.46446,     0.46547,     0.46647,     0.46747,     0.46847,     0.46947,     0.47047,     0.47147,     0.47247,     0.47347,     0.47447,     0.47548,     0.47648,     0.47748,     0.47848,     0.47948,\n",
       "           0.48048,     0.48148,     0.48248,     0.48348,     0.48448,     0.48549,     0.48649,     0.48749,     0.48849,     0.48949,     0.49049,     0.49149,     0.49249,     0.49349,     0.49449,      0.4955,      0.4965,      0.4975,      0.4985,      0.4995,      0.5005,      0.5015,      0.5025,      0.5035,\n",
       "            0.5045,     0.50551,     0.50651,     0.50751,     0.50851,     0.50951,     0.51051,     0.51151,     0.51251,     0.51351,     0.51451,     0.51552,     0.51652,     0.51752,     0.51852,     0.51952,     0.52052,     0.52152,     0.52252,     0.52352,     0.52452,     0.52553,     0.52653,     0.52753,\n",
       "           0.52853,     0.52953,     0.53053,     0.53153,     0.53253,     0.53353,     0.53453,     0.53554,     0.53654,     0.53754,     0.53854,     0.53954,     0.54054,     0.54154,     0.54254,     0.54354,     0.54454,     0.54555,     0.54655,     0.54755,     0.54855,     0.54955,     0.55055,     0.55155,\n",
       "           0.55255,     0.55355,     0.55455,     0.55556,     0.55656,     0.55756,     0.55856,     0.55956,     0.56056,     0.56156,     0.56256,     0.56356,     0.56456,     0.56557,     0.56657,     0.56757,     0.56857,     0.56957,     0.57057,     0.57157,     0.57257,     0.57357,     0.57457,     0.57558,\n",
       "           0.57658,     0.57758,     0.57858,     0.57958,     0.58058,     0.58158,     0.58258,     0.58358,     0.58458,     0.58559,     0.58659,     0.58759,     0.58859,     0.58959,     0.59059,     0.59159,     0.59259,     0.59359,     0.59459,      0.5956,      0.5966,      0.5976,      0.5986,      0.5996,\n",
       "            0.6006,      0.6016,      0.6026,      0.6036,      0.6046,     0.60561,     0.60661,     0.60761,     0.60861,     0.60961,     0.61061,     0.61161,     0.61261,     0.61361,     0.61461,     0.61562,     0.61662,     0.61762,     0.61862,     0.61962,     0.62062,     0.62162,     0.62262,     0.62362,\n",
       "           0.62462,     0.62563,     0.62663,     0.62763,     0.62863,     0.62963,     0.63063,     0.63163,     0.63263,     0.63363,     0.63463,     0.63564,     0.63664,     0.63764,     0.63864,     0.63964,     0.64064,     0.64164,     0.64264,     0.64364,     0.64464,     0.64565,     0.64665,     0.64765,\n",
       "           0.64865,     0.64965,     0.65065,     0.65165,     0.65265,     0.65365,     0.65465,     0.65566,     0.65666,     0.65766,     0.65866,     0.65966,     0.66066,     0.66166,     0.66266,     0.66366,     0.66466,     0.66567,     0.66667,     0.66767,     0.66867,     0.66967,     0.67067,     0.67167,\n",
       "           0.67267,     0.67367,     0.67467,     0.67568,     0.67668,     0.67768,     0.67868,     0.67968,     0.68068,     0.68168,     0.68268,     0.68368,     0.68468,     0.68569,     0.68669,     0.68769,     0.68869,     0.68969,     0.69069,     0.69169,     0.69269,     0.69369,     0.69469,      0.6957,\n",
       "            0.6967,      0.6977,      0.6987,      0.6997,      0.7007,      0.7017,      0.7027,      0.7037,      0.7047,     0.70571,     0.70671,     0.70771,     0.70871,     0.70971,     0.71071,     0.71171,     0.71271,     0.71371,     0.71471,     0.71572,     0.71672,     0.71772,     0.71872,     0.71972,\n",
       "           0.72072,     0.72172,     0.72272,     0.72372,     0.72472,     0.72573,     0.72673,     0.72773,     0.72873,     0.72973,     0.73073,     0.73173,     0.73273,     0.73373,     0.73473,     0.73574,     0.73674,     0.73774,     0.73874,     0.73974,     0.74074,     0.74174,     0.74274,     0.74374,\n",
       "           0.74474,     0.74575,     0.74675,     0.74775,     0.74875,     0.74975,     0.75075,     0.75175,     0.75275,     0.75375,     0.75475,     0.75576,     0.75676,     0.75776,     0.75876,     0.75976,     0.76076,     0.76176,     0.76276,     0.76376,     0.76476,     0.76577,     0.76677,     0.76777,\n",
       "           0.76877,     0.76977,     0.77077,     0.77177,     0.77277,     0.77377,     0.77477,     0.77578,     0.77678,     0.77778,     0.77878,     0.77978,     0.78078,     0.78178,     0.78278,     0.78378,     0.78478,     0.78579,     0.78679,     0.78779,     0.78879,     0.78979,     0.79079,     0.79179,\n",
       "           0.79279,     0.79379,     0.79479,      0.7958,      0.7968,      0.7978,      0.7988,      0.7998,      0.8008,      0.8018,      0.8028,      0.8038,      0.8048,     0.80581,     0.80681,     0.80781,     0.80881,     0.80981,     0.81081,     0.81181,     0.81281,     0.81381,     0.81481,     0.81582,\n",
       "           0.81682,     0.81782,     0.81882,     0.81982,     0.82082,     0.82182,     0.82282,     0.82382,     0.82482,     0.82583,     0.82683,     0.82783,     0.82883,     0.82983,     0.83083,     0.83183,     0.83283,     0.83383,     0.83483,     0.83584,     0.83684,     0.83784,     0.83884,     0.83984,\n",
       "           0.84084,     0.84184,     0.84284,     0.84384,     0.84484,     0.84585,     0.84685,     0.84785,     0.84885,     0.84985,     0.85085,     0.85185,     0.85285,     0.85385,     0.85485,     0.85586,     0.85686,     0.85786,     0.85886,     0.85986,     0.86086,     0.86186,     0.86286,     0.86386,\n",
       "           0.86486,     0.86587,     0.86687,     0.86787,     0.86887,     0.86987,     0.87087,     0.87187,     0.87287,     0.87387,     0.87487,     0.87588,     0.87688,     0.87788,     0.87888,     0.87988,     0.88088,     0.88188,     0.88288,     0.88388,     0.88488,     0.88589,     0.88689,     0.88789,\n",
       "           0.88889,     0.88989,     0.89089,     0.89189,     0.89289,     0.89389,     0.89489,      0.8959,      0.8969,      0.8979,      0.8989,      0.8999,      0.9009,      0.9019,      0.9029,      0.9039,      0.9049,     0.90591,     0.90691,     0.90791,     0.90891,     0.90991,     0.91091,     0.91191,\n",
       "           0.91291,     0.91391,     0.91491,     0.91592,     0.91692,     0.91792,     0.91892,     0.91992,     0.92092,     0.92192,     0.92292,     0.92392,     0.92492,     0.92593,     0.92693,     0.92793,     0.92893,     0.92993,     0.93093,     0.93193,     0.93293,     0.93393,     0.93493,     0.93594,\n",
       "           0.93694,     0.93794,     0.93894,     0.93994,     0.94094,     0.94194,     0.94294,     0.94394,     0.94494,     0.94595,     0.94695,     0.94795,     0.94895,     0.94995,     0.95095,     0.95195,     0.95295,     0.95395,     0.95495,     0.95596,     0.95696,     0.95796,     0.95896,     0.95996,\n",
       "           0.96096,     0.96196,     0.96296,     0.96396,     0.96496,     0.96597,     0.96697,     0.96797,     0.96897,     0.96997,     0.97097,     0.97197,     0.97297,     0.97397,     0.97497,     0.97598,     0.97698,     0.97798,     0.97898,     0.97998,     0.98098,     0.98198,     0.98298,     0.98398,\n",
       "           0.98498,     0.98599,     0.98699,     0.98799,     0.98899,     0.98999,     0.99099,     0.99199,     0.99299,     0.99399,     0.99499,       0.996,       0.997,       0.998,       0.999,           1]), array([[        0.8,         0.8,         0.8,         0.8,         0.8,         0.8,         0.8,         0.8,         0.8,         0.8,         0.8,         0.8,         0.8,         0.8,         0.8,         0.8,         0.8,         0.8,         0.8,         0.8,         0.8,         0.8,         0.8,\n",
       "                0.8,         0.8,         0.8,         0.8,         0.8,         0.8,         0.8,         0.8,         0.8,         0.8,         0.8,         0.8,         0.8,         0.8,         0.8,         0.8,         0.8,         0.8,         0.8,         0.8,         0.8,         0.8,         0.8,\n",
       "                0.8,         0.8,         0.8,         0.8,         0.8,         0.8,         0.8,         0.8,         0.8,         0.8,         0.8,         0.8,         0.8,         0.8,         0.8,         0.8,         0.8,         0.8,         0.8,         0.8,         0.8,         0.8,         0.8,\n",
       "                0.8,         0.8,         0.8,         0.8,         0.8,         0.8,         0.8,         0.8,         0.8,         0.8,         0.8,         0.8,         0.8,         0.8,         0.8,         0.8,         0.8,         0.8,         0.8,         0.8,         0.8,         0.8,         0.8,\n",
       "                0.8,         0.8,         0.8,         0.8,         0.8,         0.8,         0.8,         0.8,         0.8,         0.8,         0.8,         0.8,         0.8,         0.8,         0.8,         0.8,         0.8,         0.8,         0.8,         0.8,         0.8,         0.8,         0.8,\n",
       "                0.8,         0.8,         0.8,         0.8,         0.8,         0.8,         0.8,         0.8,         0.8,         0.8,         0.8,         0.8,         0.8,         0.8,         0.8,         0.8,         0.8,         0.8,         0.8,         0.8,         0.8,         0.8,         0.8,\n",
       "                0.8,         0.8,         0.8,         0.8,         0.8,         0.8,         0.8,         0.8,         0.8,         0.8,         0.8,         0.8,         0.8,         0.8,         0.8,         0.8,         0.8,         0.8,         0.8,         0.8,         0.8,         0.8,         0.8,\n",
       "                0.8,         0.8,         0.8,         0.8,         0.8,         0.8,         0.8,         0.8,         0.8,         0.8,         0.8,         0.8,         0.8,         0.8,         0.8,         0.8,         0.8,         0.8,         0.8,         0.8,         0.8,         0.8,         0.8,\n",
       "                0.8,         0.8,         0.8,         0.8,         0.8,         0.8,         0.8,         0.8,         0.8,         0.8,         0.8,         0.8,         0.8,         0.8,         0.8,         0.8,         0.8,         0.8,         0.8,         0.8,         0.8,         0.8,         0.8,\n",
       "                0.8,         0.8,         0.8,         0.8,         0.8,         0.8,         0.8,         0.8,         0.8,         0.8,         0.8,         0.8,         0.8,         0.8,         0.8,         0.8,         0.8,         0.8,         0.8,         0.8,         0.8,         0.8,         0.8,\n",
       "                0.8,         0.8,         0.8,         0.8,         0.8,         0.8,         0.8,         0.8,         0.8,         0.8,         0.8,         0.8,         0.8,         0.8,         0.8,         0.8,         0.8,         0.8,         0.8,         0.8,         0.8,         0.8,         0.8,\n",
       "                0.8,         0.8,         0.8,         0.8,         0.8,         0.8,         0.8,         0.8,         0.8,         0.8,         0.8,         0.8,         0.8,         0.8,         0.8,         0.8,         0.8,         0.8,         0.8,         0.8,         0.8,         0.8,         0.8,\n",
       "                0.8,         0.8,         0.8,         0.8,         0.8,         0.8,         0.8,         0.8,         0.8,         0.8,         0.8,         0.8,         0.8,         0.8,         0.8,         0.8,         0.8,         0.8,         0.8,         0.8,         0.8,         0.8,         0.8,\n",
       "                0.8,         0.8,         0.8,         0.8,         0.8,         0.8,         0.8,         0.8,         0.8,         0.8,         0.8,         0.8,         0.8,         0.8,         0.8,         0.8,         0.8,         0.8,         0.8,         0.8,         0.8,         0.8,         0.8,\n",
       "                0.8,         0.8,         0.8,         0.8,         0.8,         0.8,         0.8,         0.8,         0.8,         0.8,         0.8,         0.8,         0.8,         0.8,         0.8,         0.8,         0.8,         0.8,         0.8,         0.8,         0.8,         0.8,         0.8,\n",
       "                0.8,         0.8,         0.8,         0.8,         0.8,         0.8,         0.8,         0.8,         0.8,         0.8,         0.8,         0.8,         0.8,         0.8,         0.8,         0.8,         0.8,         0.8,         0.8,         0.8,         0.8,         0.8,         0.8,\n",
       "                0.8,         0.8,         0.8,         0.8,         0.8,         0.8,         0.8,         0.8,         0.8,         0.8,         0.8,         0.8,         0.8,         0.8,         0.8,         0.8,         0.8,         0.8,         0.8,         0.8,         0.8,         0.8,         0.8,\n",
       "                0.8,         0.8,         0.8,         0.8,         0.8,         0.8,         0.8,         0.8,         0.8,         0.8,         0.8,         0.8,         0.8,         0.8,         0.8,         0.8,         0.8,         0.8,         0.8,         0.8,         0.8,         0.8,         0.8,\n",
       "                0.8,         0.8,         0.8,         0.8,         0.8,         0.8,         0.8,         0.8,         0.8,         0.8,         0.8,         0.8,         0.8,         0.8,         0.8,         0.8,         0.8,         0.8,         0.8,         0.8,         0.8,         0.8,         0.8,\n",
       "                0.8,         0.8,         0.8,         0.8,         0.8,         0.8,         0.8,         0.8,         0.8,         0.8,         0.8,         0.8,         0.8,         0.8,         0.8,         0.8,         0.8,         0.8,         0.8,         0.8,         0.8,         0.8,         0.8,\n",
       "                0.8,         0.8,         0.8,         0.8,         0.8,         0.8,         0.8,         0.8,         0.8,         0.8,         0.8,         0.8,         0.8,         0.8,         0.8,         0.8,         0.8,         0.8,         0.8,         0.8,         0.8,         0.8,         0.8,\n",
       "                0.8,         0.8,         0.8,         0.8,         0.8,         0.8,         0.8,         0.8,         0.8,         0.8,         0.8,         0.8,         0.8,         0.8,         0.8,         0.8,         0.8,         0.8,         0.8,         0.8,         0.8,         0.8,         0.8,\n",
       "                0.8,         0.8,         0.8,         0.8,         0.8,         0.8,         0.8,         0.8,         0.8,         0.8,         0.8,         0.8,         0.8,         0.8,         0.8,         0.8,         0.8,         0.8,         0.8,         0.8,         0.8,         0.8,         0.8,\n",
       "                0.8,         0.8,         0.8,         0.8,         0.8,         0.8,         0.8,         0.8,         0.8,         0.8,         0.8,         0.8,         0.8,         0.8,         0.8,         0.8,         0.8,         0.8,         0.8,         0.8,         0.8,         0.8,         0.8,\n",
       "                0.8,         0.8,         0.8,         0.8,         0.8,         0.8,         0.8,         0.8,         0.8,         0.8,         0.8,         0.8,         0.8,         0.8,         0.8,         0.8,         0.8,         0.8,         0.8,         0.8,         0.8,         0.8,         0.8,\n",
       "                0.8,         0.8,         0.8,         0.8,         0.8,         0.8,         0.8,         0.8,         0.8,         0.8,         0.8,         0.8,         0.8,         0.8,         0.8,         0.8,         0.8,         0.8,         0.8,         0.8,         0.8,         0.8,         0.8,\n",
       "                0.8,         0.8,         0.8,         0.8,         0.8,         0.8,         0.8,         0.8,         0.8,         0.8,         0.8,         0.8,         0.8,         0.8,         0.8,         0.8,         0.8,         0.8,         0.8,         0.8,         0.8,         0.8,         0.8,\n",
       "                0.8,         0.8,         0.8,         0.8,         0.8,         0.8,         0.8,         0.8,         0.8,         0.8,         0.8,         0.8,         0.8,         0.8,         0.8,         0.8,         0.8,         0.8,         0.8,         0.8,         0.8,         0.8,         0.8,\n",
       "                0.8,         0.8,         0.8,         0.8,         0.8,         0.8,         0.8,         0.8,         0.8,         0.8,         0.8,         0.8,         0.8,         0.8,         0.8,         0.8,         0.8,         0.8,         0.8,         0.8,         0.8,         0.8,         0.8,\n",
       "                0.8,         0.8,         0.8,         0.8,         0.8,         0.8,         0.8,         0.8,         0.8,         0.8,         0.8,         0.8,         0.8,         0.8,         0.8,         0.8,         0.8,         0.8,         0.8,         0.8,         0.8,         0.8,         0.8,\n",
       "                0.8,         0.8,         0.8,         0.8,         0.8,         0.8,         0.8,         0.8,         0.8,         0.8,         0.8,         0.8,         0.8,         0.8,         0.8,         0.8,         0.8,         0.8,         0.8,         0.8,         0.8,         0.8,         0.8,\n",
       "                0.8,         0.8,         0.8,         0.8,         0.8,         0.8,         0.8,         0.8,         0.8,         0.8,         0.8,         0.8,         0.8,         0.8,         0.8,         0.8,         0.8,         0.8,         0.8,         0.8,         0.8,         0.8,         0.8,\n",
       "                0.8,         0.8,         0.8,         0.8,         0.8,         0.8,         0.8,         0.8,         0.8,         0.8,         0.8,         0.8,         0.8,         0.8,         0.8,         0.8,         0.8,         0.8,         0.8,         0.8,         0.8,         0.8,         0.8,\n",
       "                0.8,         0.8,         0.8,         0.8,         0.8,         0.8,         0.8,         0.8,         0.8,         0.8,         0.8,         0.8,         0.8,         0.8,         0.8,         0.8,         0.8,         0.8,         0.8,         0.8,         0.8,         0.8,         0.8,\n",
       "                0.8,         0.8,         0.8,         0.8,         0.8,         0.8,         0.8,         0.8,         0.8,         0.8,         0.8,         0.8,         0.8,         0.8,         0.8,         0.8,         0.8,         0.8,         0.8,         0.8,         0.8,         0.8,         0.8,\n",
       "                0.8,         0.8,         0.8,         0.8,         0.8,         0.8,         0.8,         0.8,         0.8,         0.8,         0.8,         0.8,         0.8,         0.8,         0.8,         0.8,         0.8,         0.8,         0.8,         0.8,         0.8,         0.8,         0.8,\n",
       "                0.8,         0.8,         0.8,         0.8,         0.8,         0.8,         0.8,         0.8,         0.8,         0.8,         0.8,         0.8,         0.8,         0.8,         0.8,         0.8,         0.8,         0.8,         0.8,         0.8,         0.8,         0.8,         0.8,\n",
       "                0.8,         0.8,         0.8,         0.8,         0.8,         0.8,         0.8,         0.8,         0.8,         0.8,         0.8,         0.8,         0.8,         0.8,         0.8,         0.8,         0.8,         0.8,         0.8,         0.8,         0.8,         0.8,         0.8,\n",
       "                0.8,         0.8,         0.8,         0.8,         0.8,         0.8,         0.8,         0.8,         0.8,         0.8,         0.8,         0.8,         0.8,         0.8,         0.8,         0.8,         0.8,         0.8,         0.8,         0.8,         0.8,         0.8,         0.8,\n",
       "                0.8,         0.8,         0.8,         0.8,         0.8,         0.8,         0.8,         0.8,         0.8,         0.8,         0.8,         0.8,         0.8,         0.8,         0.8,         0.8,         0.8,         0.8,         0.8,         0.8,         0.8,         0.8,         0.8,\n",
       "            0.79459,      0.7862,      0.7778,      0.7694,       0.761,     0.75261,     0.74421,     0.73581,     0.72741,     0.71902,     0.71062,     0.70222,     0.69382,     0.68543,     0.67703,     0.66863,     0.66023,     0.65184,     0.64344,     0.63504,     0.62664,     0.61825,     0.60985,\n",
       "            0.60145,     0.59138,     0.58096,     0.57053,     0.56011,     0.54969,     0.53927,     0.52884,     0.51842,       0.508,     0.49758,     0.48716,     0.47673,     0.46631,     0.45589,     0.44547,     0.43504,     0.42462,      0.4142,     0.40378,         0.4,         0.4,         0.4,\n",
       "                0.4,         0.4,         0.4,         0.4,         0.4,         0.4,         0.4,         0.4,         0.4,         0.4,         0.4,         0.4,     0.39431,     0.38264,     0.37098,     0.35931,     0.34764,     0.33597,     0.32431,     0.31264,     0.30097,     0.28931,     0.27764,\n",
       "            0.26597,     0.25431,     0.24264,     0.23097,     0.21931,     0.20764,         0.2,         0.2,         0.2,         0.2,           0]]), 'Confidence', 'Recall']]\n",
       "fitness: 0.21974465714285715\n",
       "keys: ['metrics/precision(B)', 'metrics/recall(B)', 'metrics/mAP50(B)', 'metrics/mAP50-95(B)']\n",
       "maps: array([    0.20663])\n",
       "names: {0: 'pothole'}\n",
       "plot: True\n",
       "results_dict: {'metrics/precision(B)': 0.36737623280175924, 'metrics/recall(B)': 0.8, 'metrics/mAP50(B)': 0.33778, 'metrics/mAP50-95(B)': 0.20662961904761906, 'fitness': 0.21974465714285715}\n",
       "save_dir: WindowsPath('runs/detect/pothole_detector')\n",
       "speed: {'preprocess': 0.0, 'inference': 530.5880546569824, 'loss': 0.0, 'postprocess': 3.1259536743164062}\n",
       "task: 'detect'"
      ]
     },
     "execution_count": 2,
     "metadata": {},
     "output_type": "execute_result"
    }
   ],
   "source": [
    "from ultralytics import YOLO\n",
    "\n",
    "# Load YOLOv8 model - choose 'yolov8m' for medium; you can also try 'yolov8n' for a smaller model\n",
    "model = YOLO(\"yolov8m.pt\")\n",
    "\n",
    "# Train the model\n",
    "model.train(\n",
    "    data=\"C:\\\\Users\\\\Aaryan Naithani\\\\OneDrive\\\\Desktop\\\\Pot-Hole Detection\\\\pothole_dataset.yaml\",  # Path to your dataset YAML file\n",
    "    epochs=25,  # Number of epochs (adjust as needed)\n",
    "    batch=16,  # Batch size\n",
    "    imgsz=640,  # Image size (YOLOv8 default)\n",
    "    name=\"pothole_detector\"  # Model name for saving results\n",
    ")"
   ]
  },
  {
   "cell_type": "code",
   "execution_count": 3,
   "id": "0c748b1a",
   "metadata": {},
   "outputs": [
    {
     "name": "stdout",
     "output_type": "stream",
     "text": [
      "Ultralytics YOLOv8.0.239 🚀 Python-3.11.4 torch-2.0.1+cpu CPU (11th Gen Intel Core(TM) i5-11260H 2.60GHz)\n",
      "Model summary (fused): 218 layers, 25840339 parameters, 0 gradients, 78.7 GFLOPs\n"
     ]
    },
    {
     "name": "stderr",
     "output_type": "stream",
     "text": [
      "\u001b[34m\u001b[1mval: \u001b[0mScanning C:\\Users\\Aaryan Naithani\\OneDrive\\Desktop\\Pot-Hole Detection\\yolo_formatted_data\\labels\\val.cache... 5 im\u001b[0m\n",
      "                 Class     Images  Instances      Box(P          R      mAP50  mAP50-95): 100%|██████████| 1/1 [00:02<0\n"
     ]
    },
    {
     "name": "stdout",
     "output_type": "stream",
     "text": [
      "                   all          5          5      0.367        0.8      0.338      0.207\n",
      "Speed: 0.0ms preprocess, 533.8ms inference, 0.0ms loss, 0.0ms postprocess per image\n",
      "Results saved to \u001b[1mruns\\detect\\pothole_detector2\u001b[0m\n",
      "ultralytics.utils.metrics.DetMetrics object with attributes:\n",
      "\n",
      "ap_class_index: array([0])\n",
      "box: ultralytics.utils.metrics.Metric object\n",
      "confusion_matrix: <ultralytics.utils.metrics.ConfusionMatrix object at 0x0000017BE6C74B90>\n",
      "curves: ['Precision-Recall(B)', 'F1-Confidence(B)', 'Precision-Confidence(B)', 'Recall-Confidence(B)']\n",
      "curves_results: [[array([          0,    0.001001,    0.002002,    0.003003,    0.004004,    0.005005,    0.006006,    0.007007,    0.008008,    0.009009,     0.01001,    0.011011,    0.012012,    0.013013,    0.014014,    0.015015,    0.016016,    0.017017,    0.018018,    0.019019,     0.02002,    0.021021,    0.022022,    0.023023,\n",
      "          0.024024,    0.025025,    0.026026,    0.027027,    0.028028,    0.029029,     0.03003,    0.031031,    0.032032,    0.033033,    0.034034,    0.035035,    0.036036,    0.037037,    0.038038,    0.039039,     0.04004,    0.041041,    0.042042,    0.043043,    0.044044,    0.045045,    0.046046,    0.047047,\n",
      "          0.048048,    0.049049,     0.05005,    0.051051,    0.052052,    0.053053,    0.054054,    0.055055,    0.056056,    0.057057,    0.058058,    0.059059,     0.06006,    0.061061,    0.062062,    0.063063,    0.064064,    0.065065,    0.066066,    0.067067,    0.068068,    0.069069,     0.07007,    0.071071,\n",
      "          0.072072,    0.073073,    0.074074,    0.075075,    0.076076,    0.077077,    0.078078,    0.079079,     0.08008,    0.081081,    0.082082,    0.083083,    0.084084,    0.085085,    0.086086,    0.087087,    0.088088,    0.089089,     0.09009,    0.091091,    0.092092,    0.093093,    0.094094,    0.095095,\n",
      "          0.096096,    0.097097,    0.098098,    0.099099,      0.1001,      0.1011,      0.1021,      0.1031,      0.1041,     0.10511,     0.10611,     0.10711,     0.10811,     0.10911,     0.11011,     0.11111,     0.11211,     0.11311,     0.11411,     0.11512,     0.11612,     0.11712,     0.11812,     0.11912,\n",
      "           0.12012,     0.12112,     0.12212,     0.12312,     0.12412,     0.12513,     0.12613,     0.12713,     0.12813,     0.12913,     0.13013,     0.13113,     0.13213,     0.13313,     0.13413,     0.13514,     0.13614,     0.13714,     0.13814,     0.13914,     0.14014,     0.14114,     0.14214,     0.14314,\n",
      "           0.14414,     0.14515,     0.14615,     0.14715,     0.14815,     0.14915,     0.15015,     0.15115,     0.15215,     0.15315,     0.15415,     0.15516,     0.15616,     0.15716,     0.15816,     0.15916,     0.16016,     0.16116,     0.16216,     0.16316,     0.16416,     0.16517,     0.16617,     0.16717,\n",
      "           0.16817,     0.16917,     0.17017,     0.17117,     0.17217,     0.17317,     0.17417,     0.17518,     0.17618,     0.17718,     0.17818,     0.17918,     0.18018,     0.18118,     0.18218,     0.18318,     0.18418,     0.18519,     0.18619,     0.18719,     0.18819,     0.18919,     0.19019,     0.19119,\n",
      "           0.19219,     0.19319,     0.19419,      0.1952,      0.1962,      0.1972,      0.1982,      0.1992,      0.2002,      0.2012,      0.2022,      0.2032,      0.2042,     0.20521,     0.20621,     0.20721,     0.20821,     0.20921,     0.21021,     0.21121,     0.21221,     0.21321,     0.21421,     0.21522,\n",
      "           0.21622,     0.21722,     0.21822,     0.21922,     0.22022,     0.22122,     0.22222,     0.22322,     0.22422,     0.22523,     0.22623,     0.22723,     0.22823,     0.22923,     0.23023,     0.23123,     0.23223,     0.23323,     0.23423,     0.23524,     0.23624,     0.23724,     0.23824,     0.23924,\n",
      "           0.24024,     0.24124,     0.24224,     0.24324,     0.24424,     0.24525,     0.24625,     0.24725,     0.24825,     0.24925,     0.25025,     0.25125,     0.25225,     0.25325,     0.25425,     0.25526,     0.25626,     0.25726,     0.25826,     0.25926,     0.26026,     0.26126,     0.26226,     0.26326,\n",
      "           0.26426,     0.26527,     0.26627,     0.26727,     0.26827,     0.26927,     0.27027,     0.27127,     0.27227,     0.27327,     0.27427,     0.27528,     0.27628,     0.27728,     0.27828,     0.27928,     0.28028,     0.28128,     0.28228,     0.28328,     0.28428,     0.28529,     0.28629,     0.28729,\n",
      "           0.28829,     0.28929,     0.29029,     0.29129,     0.29229,     0.29329,     0.29429,      0.2953,      0.2963,      0.2973,      0.2983,      0.2993,      0.3003,      0.3013,      0.3023,      0.3033,      0.3043,     0.30531,     0.30631,     0.30731,     0.30831,     0.30931,     0.31031,     0.31131,\n",
      "           0.31231,     0.31331,     0.31431,     0.31532,     0.31632,     0.31732,     0.31832,     0.31932,     0.32032,     0.32132,     0.32232,     0.32332,     0.32432,     0.32533,     0.32633,     0.32733,     0.32833,     0.32933,     0.33033,     0.33133,     0.33233,     0.33333,     0.33433,     0.33534,\n",
      "           0.33634,     0.33734,     0.33834,     0.33934,     0.34034,     0.34134,     0.34234,     0.34334,     0.34434,     0.34535,     0.34635,     0.34735,     0.34835,     0.34935,     0.35035,     0.35135,     0.35235,     0.35335,     0.35435,     0.35536,     0.35636,     0.35736,     0.35836,     0.35936,\n",
      "           0.36036,     0.36136,     0.36236,     0.36336,     0.36436,     0.36537,     0.36637,     0.36737,     0.36837,     0.36937,     0.37037,     0.37137,     0.37237,     0.37337,     0.37437,     0.37538,     0.37638,     0.37738,     0.37838,     0.37938,     0.38038,     0.38138,     0.38238,     0.38338,\n",
      "           0.38438,     0.38539,     0.38639,     0.38739,     0.38839,     0.38939,     0.39039,     0.39139,     0.39239,     0.39339,     0.39439,      0.3954,      0.3964,      0.3974,      0.3984,      0.3994,      0.4004,      0.4014,      0.4024,      0.4034,      0.4044,     0.40541,     0.40641,     0.40741,\n",
      "           0.40841,     0.40941,     0.41041,     0.41141,     0.41241,     0.41341,     0.41441,     0.41542,     0.41642,     0.41742,     0.41842,     0.41942,     0.42042,     0.42142,     0.42242,     0.42342,     0.42442,     0.42543,     0.42643,     0.42743,     0.42843,     0.42943,     0.43043,     0.43143,\n",
      "           0.43243,     0.43343,     0.43443,     0.43544,     0.43644,     0.43744,     0.43844,     0.43944,     0.44044,     0.44144,     0.44244,     0.44344,     0.44444,     0.44545,     0.44645,     0.44745,     0.44845,     0.44945,     0.45045,     0.45145,     0.45245,     0.45345,     0.45445,     0.45546,\n",
      "           0.45646,     0.45746,     0.45846,     0.45946,     0.46046,     0.46146,     0.46246,     0.46346,     0.46446,     0.46547,     0.46647,     0.46747,     0.46847,     0.46947,     0.47047,     0.47147,     0.47247,     0.47347,     0.47447,     0.47548,     0.47648,     0.47748,     0.47848,     0.47948,\n",
      "           0.48048,     0.48148,     0.48248,     0.48348,     0.48448,     0.48549,     0.48649,     0.48749,     0.48849,     0.48949,     0.49049,     0.49149,     0.49249,     0.49349,     0.49449,      0.4955,      0.4965,      0.4975,      0.4985,      0.4995,      0.5005,      0.5015,      0.5025,      0.5035,\n",
      "            0.5045,     0.50551,     0.50651,     0.50751,     0.50851,     0.50951,     0.51051,     0.51151,     0.51251,     0.51351,     0.51451,     0.51552,     0.51652,     0.51752,     0.51852,     0.51952,     0.52052,     0.52152,     0.52252,     0.52352,     0.52452,     0.52553,     0.52653,     0.52753,\n",
      "           0.52853,     0.52953,     0.53053,     0.53153,     0.53253,     0.53353,     0.53453,     0.53554,     0.53654,     0.53754,     0.53854,     0.53954,     0.54054,     0.54154,     0.54254,     0.54354,     0.54454,     0.54555,     0.54655,     0.54755,     0.54855,     0.54955,     0.55055,     0.55155,\n",
      "           0.55255,     0.55355,     0.55455,     0.55556,     0.55656,     0.55756,     0.55856,     0.55956,     0.56056,     0.56156,     0.56256,     0.56356,     0.56456,     0.56557,     0.56657,     0.56757,     0.56857,     0.56957,     0.57057,     0.57157,     0.57257,     0.57357,     0.57457,     0.57558,\n",
      "           0.57658,     0.57758,     0.57858,     0.57958,     0.58058,     0.58158,     0.58258,     0.58358,     0.58458,     0.58559,     0.58659,     0.58759,     0.58859,     0.58959,     0.59059,     0.59159,     0.59259,     0.59359,     0.59459,      0.5956,      0.5966,      0.5976,      0.5986,      0.5996,\n",
      "            0.6006,      0.6016,      0.6026,      0.6036,      0.6046,     0.60561,     0.60661,     0.60761,     0.60861,     0.60961,     0.61061,     0.61161,     0.61261,     0.61361,     0.61461,     0.61562,     0.61662,     0.61762,     0.61862,     0.61962,     0.62062,     0.62162,     0.62262,     0.62362,\n",
      "           0.62462,     0.62563,     0.62663,     0.62763,     0.62863,     0.62963,     0.63063,     0.63163,     0.63263,     0.63363,     0.63463,     0.63564,     0.63664,     0.63764,     0.63864,     0.63964,     0.64064,     0.64164,     0.64264,     0.64364,     0.64464,     0.64565,     0.64665,     0.64765,\n",
      "           0.64865,     0.64965,     0.65065,     0.65165,     0.65265,     0.65365,     0.65465,     0.65566,     0.65666,     0.65766,     0.65866,     0.65966,     0.66066,     0.66166,     0.66266,     0.66366,     0.66466,     0.66567,     0.66667,     0.66767,     0.66867,     0.66967,     0.67067,     0.67167,\n",
      "           0.67267,     0.67367,     0.67467,     0.67568,     0.67668,     0.67768,     0.67868,     0.67968,     0.68068,     0.68168,     0.68268,     0.68368,     0.68468,     0.68569,     0.68669,     0.68769,     0.68869,     0.68969,     0.69069,     0.69169,     0.69269,     0.69369,     0.69469,      0.6957,\n",
      "            0.6967,      0.6977,      0.6987,      0.6997,      0.7007,      0.7017,      0.7027,      0.7037,      0.7047,     0.70571,     0.70671,     0.70771,     0.70871,     0.70971,     0.71071,     0.71171,     0.71271,     0.71371,     0.71471,     0.71572,     0.71672,     0.71772,     0.71872,     0.71972,\n",
      "           0.72072,     0.72172,     0.72272,     0.72372,     0.72472,     0.72573,     0.72673,     0.72773,     0.72873,     0.72973,     0.73073,     0.73173,     0.73273,     0.73373,     0.73473,     0.73574,     0.73674,     0.73774,     0.73874,     0.73974,     0.74074,     0.74174,     0.74274,     0.74374,\n",
      "           0.74474,     0.74575,     0.74675,     0.74775,     0.74875,     0.74975,     0.75075,     0.75175,     0.75275,     0.75375,     0.75475,     0.75576,     0.75676,     0.75776,     0.75876,     0.75976,     0.76076,     0.76176,     0.76276,     0.76376,     0.76476,     0.76577,     0.76677,     0.76777,\n",
      "           0.76877,     0.76977,     0.77077,     0.77177,     0.77277,     0.77377,     0.77477,     0.77578,     0.77678,     0.77778,     0.77878,     0.77978,     0.78078,     0.78178,     0.78278,     0.78378,     0.78478,     0.78579,     0.78679,     0.78779,     0.78879,     0.78979,     0.79079,     0.79179,\n",
      "           0.79279,     0.79379,     0.79479,      0.7958,      0.7968,      0.7978,      0.7988,      0.7998,      0.8008,      0.8018,      0.8028,      0.8038,      0.8048,     0.80581,     0.80681,     0.80781,     0.80881,     0.80981,     0.81081,     0.81181,     0.81281,     0.81381,     0.81481,     0.81582,\n",
      "           0.81682,     0.81782,     0.81882,     0.81982,     0.82082,     0.82182,     0.82282,     0.82382,     0.82482,     0.82583,     0.82683,     0.82783,     0.82883,     0.82983,     0.83083,     0.83183,     0.83283,     0.83383,     0.83483,     0.83584,     0.83684,     0.83784,     0.83884,     0.83984,\n",
      "           0.84084,     0.84184,     0.84284,     0.84384,     0.84484,     0.84585,     0.84685,     0.84785,     0.84885,     0.84985,     0.85085,     0.85185,     0.85285,     0.85385,     0.85485,     0.85586,     0.85686,     0.85786,     0.85886,     0.85986,     0.86086,     0.86186,     0.86286,     0.86386,\n",
      "           0.86486,     0.86587,     0.86687,     0.86787,     0.86887,     0.86987,     0.87087,     0.87187,     0.87287,     0.87387,     0.87487,     0.87588,     0.87688,     0.87788,     0.87888,     0.87988,     0.88088,     0.88188,     0.88288,     0.88388,     0.88488,     0.88589,     0.88689,     0.88789,\n",
      "           0.88889,     0.88989,     0.89089,     0.89189,     0.89289,     0.89389,     0.89489,      0.8959,      0.8969,      0.8979,      0.8989,      0.8999,      0.9009,      0.9019,      0.9029,      0.9039,      0.9049,     0.90591,     0.90691,     0.90791,     0.90891,     0.90991,     0.91091,     0.91191,\n",
      "           0.91291,     0.91391,     0.91491,     0.91592,     0.91692,     0.91792,     0.91892,     0.91992,     0.92092,     0.92192,     0.92292,     0.92392,     0.92492,     0.92593,     0.92693,     0.92793,     0.92893,     0.92993,     0.93093,     0.93193,     0.93293,     0.93393,     0.93493,     0.93594,\n",
      "           0.93694,     0.93794,     0.93894,     0.93994,     0.94094,     0.94194,     0.94294,     0.94394,     0.94494,     0.94595,     0.94695,     0.94795,     0.94895,     0.94995,     0.95095,     0.95195,     0.95295,     0.95395,     0.95495,     0.95596,     0.95696,     0.95796,     0.95896,     0.95996,\n",
      "           0.96096,     0.96196,     0.96296,     0.96396,     0.96496,     0.96597,     0.96697,     0.96797,     0.96897,     0.96997,     0.97097,     0.97197,     0.97297,     0.97397,     0.97497,     0.97598,     0.97698,     0.97798,     0.97898,     0.97998,     0.98098,     0.98198,     0.98298,     0.98398,\n",
      "           0.98498,     0.98599,     0.98699,     0.98799,     0.98899,     0.98999,     0.99099,     0.99199,     0.99299,     0.99399,     0.99499,       0.996,       0.997,       0.998,       0.999,           1]), array([[        0.5,         0.5,         0.5,         0.5,         0.5,         0.5,         0.5,         0.5,         0.5,         0.5,         0.5,         0.5,         0.5,         0.5,         0.5,         0.5,         0.5,         0.5,         0.5,         0.5,         0.5,         0.5,         0.5,\n",
      "                0.5,         0.5,         0.5,         0.5,         0.5,         0.5,         0.5,         0.5,         0.5,         0.5,         0.5,         0.5,         0.5,         0.5,         0.5,         0.5,         0.5,         0.5,         0.5,         0.5,         0.5,         0.5,         0.5,\n",
      "                0.5,         0.5,         0.5,         0.5,         0.5,         0.5,         0.5,         0.5,         0.5,         0.5,         0.5,         0.5,         0.5,         0.5,         0.5,         0.5,         0.5,         0.5,         0.5,         0.5,         0.5,         0.5,         0.5,\n",
      "                0.5,         0.5,         0.5,         0.5,         0.5,         0.5,         0.5,         0.5,         0.5,         0.5,         0.5,         0.5,         0.5,         0.5,         0.5,         0.5,         0.5,         0.5,         0.5,         0.5,         0.5,         0.5,         0.5,\n",
      "                0.5,         0.5,         0.5,         0.5,         0.5,         0.5,         0.5,         0.5,         0.5,         0.5,         0.5,         0.5,         0.5,         0.5,         0.5,         0.5,         0.5,         0.5,         0.5,         0.5,         0.5,         0.5,         0.5,\n",
      "                0.5,         0.5,         0.5,         0.5,         0.5,         0.5,         0.5,         0.5,         0.5,         0.5,         0.5,         0.5,         0.5,         0.5,         0.5,         0.5,         0.5,         0.5,         0.5,         0.5,         0.5,         0.5,         0.5,\n",
      "                0.5,         0.5,         0.5,         0.5,         0.5,         0.5,         0.5,         0.5,         0.5,         0.5,         0.5,         0.5,         0.5,         0.5,         0.5,         0.5,         0.5,         0.5,         0.5,         0.5,         0.5,         0.5,         0.5,\n",
      "                0.5,         0.5,         0.5,         0.5,         0.5,         0.5,         0.5,         0.5,         0.5,         0.5,         0.5,         0.5,         0.5,         0.5,         0.5,         0.5,         0.5,         0.5,         0.5,         0.5,         0.5,         0.5,         0.5,\n",
      "                0.5,         0.5,         0.5,         0.5,         0.5,         0.5,         0.5,         0.5,         0.5,         0.5,         0.5,         0.5,         0.5,         0.5,         0.5,         0.5,         0.4,         0.4,         0.4,         0.4,         0.4,         0.4,         0.4,\n",
      "                0.4,         0.4,         0.4,         0.4,         0.4,         0.4,         0.4,         0.4,         0.4,         0.4,         0.4,         0.4,         0.4,         0.4,         0.4,         0.4,         0.4,         0.4,         0.4,         0.4,         0.4,         0.4,         0.4,\n",
      "                0.4,         0.4,         0.4,         0.4,         0.4,         0.4,         0.4,         0.4,         0.4,         0.4,         0.4,         0.4,         0.4,         0.4,         0.4,         0.4,         0.4,         0.4,         0.4,         0.4,         0.4,         0.4,         0.4,\n",
      "                0.4,         0.4,         0.4,         0.4,         0.4,         0.4,         0.4,         0.4,         0.4,         0.4,         0.4,         0.4,         0.4,         0.4,         0.4,         0.4,         0.4,         0.4,         0.4,         0.4,         0.4,         0.4,         0.4,\n",
      "                0.4,         0.4,         0.4,         0.4,         0.4,         0.4,         0.4,         0.4,         0.4,         0.4,         0.4,         0.4,         0.4,         0.4,         0.4,         0.4,         0.4,         0.4,         0.4,         0.4,         0.4,         0.4,         0.4,\n",
      "                0.4,         0.4,         0.4,         0.4,         0.4,         0.4,         0.4,         0.4,         0.4,         0.4,         0.4,         0.4,         0.4,         0.4,         0.4,         0.4,         0.4,         0.4,         0.4,         0.4,         0.4,         0.4,         0.4,\n",
      "                0.4,         0.4,         0.4,         0.4,         0.4,         0.4,         0.4,         0.4,         0.4,         0.4,         0.4,         0.4,         0.4,         0.4,         0.4,         0.4,         0.4,         0.4,         0.4,         0.4,         0.4,         0.4,         0.4,\n",
      "                0.4,         0.4,         0.4,         0.4,         0.4,         0.4,         0.4,         0.4,         0.4,         0.4,         0.4,         0.4,         0.4,         0.4,         0.4,         0.4,         0.4,         0.4,         0.4,         0.4,         0.4,         0.4,         0.4,\n",
      "                0.4,         0.4,         0.4,         0.4,         0.4,         0.4,         0.4,         0.4,         0.4,         0.4,         0.4,         0.4,         0.4,         0.4,         0.4,         0.4,         0.4,         0.4,         0.4,         0.4,         0.4,         0.4,         0.4,\n",
      "                0.4,         0.4,         0.4,         0.4,         0.4,         0.4,         0.4,         0.4,         0.4,         0.4,         0.4,         0.4,         0.4,         0.4,         0.4,         0.4,         0.4,         0.4,         0.4,         0.4,         0.4,         0.4,         0.4,\n",
      "                0.4,         0.4,         0.4,         0.4,         0.4,         0.4,         0.4,         0.4,         0.4,         0.4,         0.4,         0.4,         0.4,         0.4,         0.4,         0.4,         0.4,         0.4,         0.4,         0.4,         0.4,         0.4,         0.4,\n",
      "                0.4,         0.4,         0.4,         0.4,         0.4,         0.4,         0.4,         0.4,         0.4,         0.4,         0.4,         0.4,         0.4,         0.4,         0.4,         0.4,         0.4,         0.4,         0.4,         0.4,         0.4,         0.4,         0.4,\n",
      "                0.4,         0.4,         0.4,         0.4,         0.4,         0.4,         0.4,         0.4,         0.4,         0.4,         0.4,         0.4,         0.4,         0.4,         0.4,         0.4,         0.4,         0.4,         0.4,         0.4,         0.4,         0.4,         0.4,\n",
      "                0.4,         0.4,         0.4,         0.4,         0.4,         0.4,         0.4,         0.4,         0.4,         0.4,         0.4,         0.4,         0.4,         0.4,         0.4,         0.4,         0.4,         0.4,         0.4,         0.4,         0.4,         0.4,         0.4,\n",
      "                0.4,         0.4,         0.4,         0.4,         0.4,         0.4,         0.4,         0.4,         0.4,         0.4,         0.4,         0.4,         0.4,         0.4,         0.4,         0.4,         0.4,         0.4,         0.4,         0.4,         0.4,         0.4,         0.4,\n",
      "                0.4,         0.4,         0.4,         0.4,         0.4,         0.4,         0.4,         0.4,         0.4,         0.4,         0.4,         0.4,         0.4,         0.4,         0.4,         0.4,         0.4,         0.4,         0.4,         0.4,         0.4,         0.4,         0.4,\n",
      "                0.4,         0.4,         0.4,         0.4,         0.4,         0.4,         0.4,         0.4,         0.4,         0.4,         0.4,         0.4,         0.4,         0.4,         0.4,         0.4,         0.4,         0.4,         0.4,         0.4,         0.4,         0.4,         0.4,\n",
      "                0.4,         0.4,         0.4,         0.4,         0.4,         0.4,         0.4,         0.4,         0.4,         0.4,         0.4,         0.4,         0.4,         0.4,         0.4,         0.4,         0.4,         0.4,         0.4,         0.4,         0.4,         0.4,         0.4,\n",
      "                0.4,         0.4,         0.4,         0.4,         0.4,         0.4,         0.4,         0.4,         0.4,         0.4,         0.4,         0.4,         0.4,         0.4,         0.4,         0.4,         0.4,         0.4,         0.4,         0.4,         0.4,         0.4,         0.4,\n",
      "                0.4,         0.4,         0.4,         0.4,         0.4,         0.4,         0.4,         0.4,         0.4,         0.4,         0.4,         0.4,         0.4,         0.4,         0.4,         0.4,         0.4,         0.4,         0.4,         0.4,         0.4,         0.4,         0.4,\n",
      "                0.4,         0.4,         0.4,         0.4,         0.4,         0.4,         0.4,         0.4,         0.4,         0.4,         0.4,         0.4,         0.4,         0.4,         0.4,         0.4,         0.4,         0.4,         0.4,         0.4,         0.4,         0.4,         0.4,\n",
      "                0.4,         0.4,         0.4,         0.4,         0.4,         0.4,         0.4,         0.4,         0.4,         0.4,         0.4,         0.4,         0.4,         0.4,         0.4,         0.4,         0.4,         0.4,         0.4,         0.4,         0.4,         0.4,         0.4,\n",
      "                0.4,         0.4,         0.4,         0.4,         0.4,         0.4,         0.4,         0.4,         0.4,         0.4,         0.4,         0.4,         0.4,         0.4,         0.4,         0.4,         0.4,         0.4,         0.4,         0.4,         0.4,         0.4,         0.4,\n",
      "                0.4,         0.4,         0.4,         0.4,         0.4,         0.4,         0.4,         0.4,         0.4,         0.4,         0.4,         0.4,         0.4,         0.4,         0.4,         0.4,         0.4,         0.4,         0.4,         0.4,         0.4,         0.4,         0.4,\n",
      "                0.4,         0.4,         0.4,         0.4,         0.4,         0.4,         0.4,         0.4,         0.4,         0.4,         0.4,         0.4,         0.4,         0.4,         0.4,         0.4,         0.4,         0.4,         0.4,         0.4,         0.4,         0.4,         0.4,\n",
      "                0.4,         0.4,         0.4,         0.4,         0.4,         0.4,         0.4,         0.4,         0.4,         0.4,         0.4,         0.4,         0.4,         0.4,         0.4,         0.4,         0.4,         0.4,         0.4,         0.4,         0.4,         0.4,         0.4,\n",
      "                0.4,         0.4,         0.4,         0.4,         0.4,         0.4,         0.4,         0.4,         0.4,         0.4,         0.4,         0.4,         0.4,         0.4,         0.4,         0.4,         0.4,         0.4,    0.002656,   0.0026426,   0.0026293,   0.0026159,   0.0026026,\n",
      "          0.0025893,   0.0025759,   0.0025626,   0.0025492,   0.0025359,   0.0025225,   0.0025092,   0.0024958,   0.0024825,   0.0024691,   0.0024558,   0.0024424,   0.0024291,   0.0024157,   0.0024024,   0.0023891,   0.0023757,   0.0023624,    0.002349,   0.0023357,   0.0023223,    0.002309,   0.0022956,\n",
      "          0.0022823,   0.0022689,   0.0022556,   0.0022422,   0.0022289,   0.0022155,   0.0022022,   0.0021889,   0.0021755,   0.0021622,   0.0021488,   0.0021355,   0.0021221,   0.0021088,   0.0020954,   0.0020821,   0.0020687,   0.0020554,    0.002042,   0.0020287,   0.0020153,    0.002002,   0.0019887,\n",
      "          0.0019753,    0.001962,   0.0019486,   0.0019353,   0.0019219,   0.0019086,   0.0018952,   0.0018819,   0.0018685,   0.0018552,   0.0018418,   0.0018285,   0.0018151,   0.0018018,   0.0017885,   0.0017751,   0.0017618,   0.0017484,   0.0017351,   0.0017217,   0.0017084,    0.001695,   0.0016817,\n",
      "          0.0016683,    0.001655,   0.0016416,   0.0016283,   0.0016149,   0.0016016,   0.0015883,   0.0015749,   0.0015616,   0.0015482,   0.0015349,   0.0015215,   0.0015082,   0.0014948,   0.0014815,   0.0014681,   0.0014548,   0.0014414,   0.0014281,   0.0014147,   0.0014014,   0.0013881,   0.0013747,\n",
      "          0.0013614,    0.001348,   0.0013347,   0.0013213,    0.001308,   0.0012946,   0.0012813,   0.0012679,   0.0012546,   0.0012412,   0.0012279,   0.0012145,   0.0012012,   0.0011879,   0.0011745,   0.0011612,   0.0011478,   0.0011345,   0.0011211,   0.0011078,   0.0010944,   0.0010811,   0.0010677,\n",
      "          0.0010544,    0.001041,   0.0010277,   0.0010143,    0.001001,  0.00098765,  0.00097431,  0.00096096,  0.00094761,  0.00093427,  0.00092092,  0.00090757,  0.00089423,  0.00088088,  0.00086753,  0.00085419,  0.00084084,  0.00082749,  0.00081415,   0.0008008,  0.00078745,  0.00077411,  0.00076076,\n",
      "         0.00074741,  0.00073407,  0.00072072,  0.00070737,  0.00069403,  0.00068068,  0.00066733,  0.00065399,  0.00064064,  0.00062729,  0.00061395,   0.0006006,  0.00058725,  0.00057391,  0.00056056,  0.00054721,  0.00053387,  0.00052052,  0.00050717,  0.00049383,  0.00048048,  0.00046713,  0.00045379,\n",
      "         0.00044044,  0.00042709,  0.00041375,   0.0004004,  0.00038705,  0.00037371,  0.00036036,  0.00034701,  0.00033367,  0.00032032,  0.00030697,  0.00029363,  0.00028028,  0.00026693,  0.00025359,  0.00024024,  0.00022689,  0.00021355,   0.0002002,  0.00018685,  0.00017351,  0.00016016,  0.00014681,\n",
      "         0.00013347,  0.00012012,  0.00010677,  9.3427e-05,   8.008e-05,  6.6733e-05,  5.3387e-05,   4.004e-05,  2.6693e-05,  1.3347e-05,           0]]), 'Recall', 'Precision'], [array([          0,    0.001001,    0.002002,    0.003003,    0.004004,    0.005005,    0.006006,    0.007007,    0.008008,    0.009009,     0.01001,    0.011011,    0.012012,    0.013013,    0.014014,    0.015015,    0.016016,    0.017017,    0.018018,    0.019019,     0.02002,    0.021021,    0.022022,    0.023023,\n",
      "          0.024024,    0.025025,    0.026026,    0.027027,    0.028028,    0.029029,     0.03003,    0.031031,    0.032032,    0.033033,    0.034034,    0.035035,    0.036036,    0.037037,    0.038038,    0.039039,     0.04004,    0.041041,    0.042042,    0.043043,    0.044044,    0.045045,    0.046046,    0.047047,\n",
      "          0.048048,    0.049049,     0.05005,    0.051051,    0.052052,    0.053053,    0.054054,    0.055055,    0.056056,    0.057057,    0.058058,    0.059059,     0.06006,    0.061061,    0.062062,    0.063063,    0.064064,    0.065065,    0.066066,    0.067067,    0.068068,    0.069069,     0.07007,    0.071071,\n",
      "          0.072072,    0.073073,    0.074074,    0.075075,    0.076076,    0.077077,    0.078078,    0.079079,     0.08008,    0.081081,    0.082082,    0.083083,    0.084084,    0.085085,    0.086086,    0.087087,    0.088088,    0.089089,     0.09009,    0.091091,    0.092092,    0.093093,    0.094094,    0.095095,\n",
      "          0.096096,    0.097097,    0.098098,    0.099099,      0.1001,      0.1011,      0.1021,      0.1031,      0.1041,     0.10511,     0.10611,     0.10711,     0.10811,     0.10911,     0.11011,     0.11111,     0.11211,     0.11311,     0.11411,     0.11512,     0.11612,     0.11712,     0.11812,     0.11912,\n",
      "           0.12012,     0.12112,     0.12212,     0.12312,     0.12412,     0.12513,     0.12613,     0.12713,     0.12813,     0.12913,     0.13013,     0.13113,     0.13213,     0.13313,     0.13413,     0.13514,     0.13614,     0.13714,     0.13814,     0.13914,     0.14014,     0.14114,     0.14214,     0.14314,\n",
      "           0.14414,     0.14515,     0.14615,     0.14715,     0.14815,     0.14915,     0.15015,     0.15115,     0.15215,     0.15315,     0.15415,     0.15516,     0.15616,     0.15716,     0.15816,     0.15916,     0.16016,     0.16116,     0.16216,     0.16316,     0.16416,     0.16517,     0.16617,     0.16717,\n",
      "           0.16817,     0.16917,     0.17017,     0.17117,     0.17217,     0.17317,     0.17417,     0.17518,     0.17618,     0.17718,     0.17818,     0.17918,     0.18018,     0.18118,     0.18218,     0.18318,     0.18418,     0.18519,     0.18619,     0.18719,     0.18819,     0.18919,     0.19019,     0.19119,\n",
      "           0.19219,     0.19319,     0.19419,      0.1952,      0.1962,      0.1972,      0.1982,      0.1992,      0.2002,      0.2012,      0.2022,      0.2032,      0.2042,     0.20521,     0.20621,     0.20721,     0.20821,     0.20921,     0.21021,     0.21121,     0.21221,     0.21321,     0.21421,     0.21522,\n",
      "           0.21622,     0.21722,     0.21822,     0.21922,     0.22022,     0.22122,     0.22222,     0.22322,     0.22422,     0.22523,     0.22623,     0.22723,     0.22823,     0.22923,     0.23023,     0.23123,     0.23223,     0.23323,     0.23423,     0.23524,     0.23624,     0.23724,     0.23824,     0.23924,\n",
      "           0.24024,     0.24124,     0.24224,     0.24324,     0.24424,     0.24525,     0.24625,     0.24725,     0.24825,     0.24925,     0.25025,     0.25125,     0.25225,     0.25325,     0.25425,     0.25526,     0.25626,     0.25726,     0.25826,     0.25926,     0.26026,     0.26126,     0.26226,     0.26326,\n",
      "           0.26426,     0.26527,     0.26627,     0.26727,     0.26827,     0.26927,     0.27027,     0.27127,     0.27227,     0.27327,     0.27427,     0.27528,     0.27628,     0.27728,     0.27828,     0.27928,     0.28028,     0.28128,     0.28228,     0.28328,     0.28428,     0.28529,     0.28629,     0.28729,\n",
      "           0.28829,     0.28929,     0.29029,     0.29129,     0.29229,     0.29329,     0.29429,      0.2953,      0.2963,      0.2973,      0.2983,      0.2993,      0.3003,      0.3013,      0.3023,      0.3033,      0.3043,     0.30531,     0.30631,     0.30731,     0.30831,     0.30931,     0.31031,     0.31131,\n",
      "           0.31231,     0.31331,     0.31431,     0.31532,     0.31632,     0.31732,     0.31832,     0.31932,     0.32032,     0.32132,     0.32232,     0.32332,     0.32432,     0.32533,     0.32633,     0.32733,     0.32833,     0.32933,     0.33033,     0.33133,     0.33233,     0.33333,     0.33433,     0.33534,\n",
      "           0.33634,     0.33734,     0.33834,     0.33934,     0.34034,     0.34134,     0.34234,     0.34334,     0.34434,     0.34535,     0.34635,     0.34735,     0.34835,     0.34935,     0.35035,     0.35135,     0.35235,     0.35335,     0.35435,     0.35536,     0.35636,     0.35736,     0.35836,     0.35936,\n",
      "           0.36036,     0.36136,     0.36236,     0.36336,     0.36436,     0.36537,     0.36637,     0.36737,     0.36837,     0.36937,     0.37037,     0.37137,     0.37237,     0.37337,     0.37437,     0.37538,     0.37638,     0.37738,     0.37838,     0.37938,     0.38038,     0.38138,     0.38238,     0.38338,\n",
      "           0.38438,     0.38539,     0.38639,     0.38739,     0.38839,     0.38939,     0.39039,     0.39139,     0.39239,     0.39339,     0.39439,      0.3954,      0.3964,      0.3974,      0.3984,      0.3994,      0.4004,      0.4014,      0.4024,      0.4034,      0.4044,     0.40541,     0.40641,     0.40741,\n",
      "           0.40841,     0.40941,     0.41041,     0.41141,     0.41241,     0.41341,     0.41441,     0.41542,     0.41642,     0.41742,     0.41842,     0.41942,     0.42042,     0.42142,     0.42242,     0.42342,     0.42442,     0.42543,     0.42643,     0.42743,     0.42843,     0.42943,     0.43043,     0.43143,\n",
      "           0.43243,     0.43343,     0.43443,     0.43544,     0.43644,     0.43744,     0.43844,     0.43944,     0.44044,     0.44144,     0.44244,     0.44344,     0.44444,     0.44545,     0.44645,     0.44745,     0.44845,     0.44945,     0.45045,     0.45145,     0.45245,     0.45345,     0.45445,     0.45546,\n",
      "           0.45646,     0.45746,     0.45846,     0.45946,     0.46046,     0.46146,     0.46246,     0.46346,     0.46446,     0.46547,     0.46647,     0.46747,     0.46847,     0.46947,     0.47047,     0.47147,     0.47247,     0.47347,     0.47447,     0.47548,     0.47648,     0.47748,     0.47848,     0.47948,\n",
      "           0.48048,     0.48148,     0.48248,     0.48348,     0.48448,     0.48549,     0.48649,     0.48749,     0.48849,     0.48949,     0.49049,     0.49149,     0.49249,     0.49349,     0.49449,      0.4955,      0.4965,      0.4975,      0.4985,      0.4995,      0.5005,      0.5015,      0.5025,      0.5035,\n",
      "            0.5045,     0.50551,     0.50651,     0.50751,     0.50851,     0.50951,     0.51051,     0.51151,     0.51251,     0.51351,     0.51451,     0.51552,     0.51652,     0.51752,     0.51852,     0.51952,     0.52052,     0.52152,     0.52252,     0.52352,     0.52452,     0.52553,     0.52653,     0.52753,\n",
      "           0.52853,     0.52953,     0.53053,     0.53153,     0.53253,     0.53353,     0.53453,     0.53554,     0.53654,     0.53754,     0.53854,     0.53954,     0.54054,     0.54154,     0.54254,     0.54354,     0.54454,     0.54555,     0.54655,     0.54755,     0.54855,     0.54955,     0.55055,     0.55155,\n",
      "           0.55255,     0.55355,     0.55455,     0.55556,     0.55656,     0.55756,     0.55856,     0.55956,     0.56056,     0.56156,     0.56256,     0.56356,     0.56456,     0.56557,     0.56657,     0.56757,     0.56857,     0.56957,     0.57057,     0.57157,     0.57257,     0.57357,     0.57457,     0.57558,\n",
      "           0.57658,     0.57758,     0.57858,     0.57958,     0.58058,     0.58158,     0.58258,     0.58358,     0.58458,     0.58559,     0.58659,     0.58759,     0.58859,     0.58959,     0.59059,     0.59159,     0.59259,     0.59359,     0.59459,      0.5956,      0.5966,      0.5976,      0.5986,      0.5996,\n",
      "            0.6006,      0.6016,      0.6026,      0.6036,      0.6046,     0.60561,     0.60661,     0.60761,     0.60861,     0.60961,     0.61061,     0.61161,     0.61261,     0.61361,     0.61461,     0.61562,     0.61662,     0.61762,     0.61862,     0.61962,     0.62062,     0.62162,     0.62262,     0.62362,\n",
      "           0.62462,     0.62563,     0.62663,     0.62763,     0.62863,     0.62963,     0.63063,     0.63163,     0.63263,     0.63363,     0.63463,     0.63564,     0.63664,     0.63764,     0.63864,     0.63964,     0.64064,     0.64164,     0.64264,     0.64364,     0.64464,     0.64565,     0.64665,     0.64765,\n",
      "           0.64865,     0.64965,     0.65065,     0.65165,     0.65265,     0.65365,     0.65465,     0.65566,     0.65666,     0.65766,     0.65866,     0.65966,     0.66066,     0.66166,     0.66266,     0.66366,     0.66466,     0.66567,     0.66667,     0.66767,     0.66867,     0.66967,     0.67067,     0.67167,\n",
      "           0.67267,     0.67367,     0.67467,     0.67568,     0.67668,     0.67768,     0.67868,     0.67968,     0.68068,     0.68168,     0.68268,     0.68368,     0.68468,     0.68569,     0.68669,     0.68769,     0.68869,     0.68969,     0.69069,     0.69169,     0.69269,     0.69369,     0.69469,      0.6957,\n",
      "            0.6967,      0.6977,      0.6987,      0.6997,      0.7007,      0.7017,      0.7027,      0.7037,      0.7047,     0.70571,     0.70671,     0.70771,     0.70871,     0.70971,     0.71071,     0.71171,     0.71271,     0.71371,     0.71471,     0.71572,     0.71672,     0.71772,     0.71872,     0.71972,\n",
      "           0.72072,     0.72172,     0.72272,     0.72372,     0.72472,     0.72573,     0.72673,     0.72773,     0.72873,     0.72973,     0.73073,     0.73173,     0.73273,     0.73373,     0.73473,     0.73574,     0.73674,     0.73774,     0.73874,     0.73974,     0.74074,     0.74174,     0.74274,     0.74374,\n",
      "           0.74474,     0.74575,     0.74675,     0.74775,     0.74875,     0.74975,     0.75075,     0.75175,     0.75275,     0.75375,     0.75475,     0.75576,     0.75676,     0.75776,     0.75876,     0.75976,     0.76076,     0.76176,     0.76276,     0.76376,     0.76476,     0.76577,     0.76677,     0.76777,\n",
      "           0.76877,     0.76977,     0.77077,     0.77177,     0.77277,     0.77377,     0.77477,     0.77578,     0.77678,     0.77778,     0.77878,     0.77978,     0.78078,     0.78178,     0.78278,     0.78378,     0.78478,     0.78579,     0.78679,     0.78779,     0.78879,     0.78979,     0.79079,     0.79179,\n",
      "           0.79279,     0.79379,     0.79479,      0.7958,      0.7968,      0.7978,      0.7988,      0.7998,      0.8008,      0.8018,      0.8028,      0.8038,      0.8048,     0.80581,     0.80681,     0.80781,     0.80881,     0.80981,     0.81081,     0.81181,     0.81281,     0.81381,     0.81481,     0.81582,\n",
      "           0.81682,     0.81782,     0.81882,     0.81982,     0.82082,     0.82182,     0.82282,     0.82382,     0.82482,     0.82583,     0.82683,     0.82783,     0.82883,     0.82983,     0.83083,     0.83183,     0.83283,     0.83383,     0.83483,     0.83584,     0.83684,     0.83784,     0.83884,     0.83984,\n",
      "           0.84084,     0.84184,     0.84284,     0.84384,     0.84484,     0.84585,     0.84685,     0.84785,     0.84885,     0.84985,     0.85085,     0.85185,     0.85285,     0.85385,     0.85485,     0.85586,     0.85686,     0.85786,     0.85886,     0.85986,     0.86086,     0.86186,     0.86286,     0.86386,\n",
      "           0.86486,     0.86587,     0.86687,     0.86787,     0.86887,     0.86987,     0.87087,     0.87187,     0.87287,     0.87387,     0.87487,     0.87588,     0.87688,     0.87788,     0.87888,     0.87988,     0.88088,     0.88188,     0.88288,     0.88388,     0.88488,     0.88589,     0.88689,     0.88789,\n",
      "           0.88889,     0.88989,     0.89089,     0.89189,     0.89289,     0.89389,     0.89489,      0.8959,      0.8969,      0.8979,      0.8989,      0.8999,      0.9009,      0.9019,      0.9029,      0.9039,      0.9049,     0.90591,     0.90691,     0.90791,     0.90891,     0.90991,     0.91091,     0.91191,\n",
      "           0.91291,     0.91391,     0.91491,     0.91592,     0.91692,     0.91792,     0.91892,     0.91992,     0.92092,     0.92192,     0.92292,     0.92392,     0.92492,     0.92593,     0.92693,     0.92793,     0.92893,     0.92993,     0.93093,     0.93193,     0.93293,     0.93393,     0.93493,     0.93594,\n",
      "           0.93694,     0.93794,     0.93894,     0.93994,     0.94094,     0.94194,     0.94294,     0.94394,     0.94494,     0.94595,     0.94695,     0.94795,     0.94895,     0.94995,     0.95095,     0.95195,     0.95295,     0.95395,     0.95495,     0.95596,     0.95696,     0.95796,     0.95896,     0.95996,\n",
      "           0.96096,     0.96196,     0.96296,     0.96396,     0.96496,     0.96597,     0.96697,     0.96797,     0.96897,     0.96997,     0.97097,     0.97197,     0.97297,     0.97397,     0.97497,     0.97598,     0.97698,     0.97798,     0.97898,     0.97998,     0.98098,     0.98198,     0.98298,     0.98398,\n",
      "           0.98498,     0.98599,     0.98699,     0.98799,     0.98899,     0.98999,     0.99099,     0.99199,     0.99299,     0.99399,     0.99499,       0.996,       0.997,       0.998,       0.999,           1]), array([[  0.0053156,   0.0053156,   0.0061421,   0.0086229,    0.010987,    0.012996,    0.014504,     0.01591,    0.017484,      0.0185,    0.019747,    0.021341,    0.021988,    0.022776,    0.023386,    0.024183,    0.024965,    0.025718,    0.027148,    0.027794,    0.028197,    0.028804,    0.029554,\n",
      "           0.030601,    0.031221,    0.031912,    0.033053,    0.034133,    0.034544,     0.03478,    0.035981,    0.037228,    0.038106,    0.038426,    0.038942,    0.039225,    0.039895,    0.040652,    0.040929,    0.041512,    0.041965,    0.042509,     0.04314,    0.043812,    0.044533,    0.045212,\n",
      "           0.045967,    0.046587,    0.047348,    0.047494,    0.047833,    0.049362,    0.050289,    0.051869,    0.052289,    0.052698,    0.052895,    0.054064,    0.054241,    0.054417,     0.05515,     0.05554,    0.055751,    0.055966,    0.056434,    0.056819,    0.056989,    0.057274,    0.057716,\n",
      "           0.057917,    0.059272,    0.060831,    0.061531,    0.062706,    0.063098,    0.063593,    0.063808,     0.06407,    0.064658,    0.065462,    0.065815,    0.066065,    0.066749,    0.066953,    0.067157,    0.068203,    0.069478,    0.070827,    0.071006,    0.071185,    0.071364,    0.071731,\n",
      "           0.072185,    0.072586,    0.073505,    0.073681,    0.073858,    0.074035,     0.07425,    0.074476,    0.074702,    0.075447,    0.076648,    0.078435,     0.08005,    0.081024,    0.081908,    0.082332,    0.084313,    0.085952,    0.088075,    0.089183,    0.090586,    0.091257,    0.091675,\n",
      "           0.092169,    0.092818,    0.093511,    0.094465,    0.096378,    0.096826,    0.097267,    0.098822,     0.09928,    0.099738,     0.10016,     0.10054,     0.10092,     0.10133,     0.10216,     0.10278,     0.10321,     0.10364,     0.10489,     0.10564,     0.10609,     0.10654,     0.10721,\n",
      "            0.10797,     0.10983,     0.11054,     0.11112,     0.11118,     0.11124,     0.11131,     0.11137,     0.11143,     0.11149,     0.11155,     0.11161,     0.11167,     0.11173,     0.11179,     0.11185,     0.11191,     0.11197,     0.11203,     0.11209,     0.11215,     0.11221,     0.11227,\n",
      "            0.11234,      0.1124,     0.11246,     0.11252,     0.11258,     0.11264,     0.11398,     0.11475,     0.11527,     0.11578,     0.11609,     0.11631,     0.11653,     0.11675,     0.11697,     0.11719,     0.11741,     0.11763,     0.11866,     0.11995,     0.12129,     0.12159,     0.12188,\n",
      "            0.12218,     0.12247,     0.12276,     0.12306,     0.12517,     0.12537,     0.12557,     0.12578,     0.12598,     0.12618,     0.12638,     0.12658,     0.12678,     0.12698,     0.12732,     0.12766,       0.128,     0.12833,     0.12867,     0.12901,     0.13027,     0.13125,     0.13154,\n",
      "            0.13183,     0.13211,      0.1324,     0.13269,     0.13298,     0.13327,      0.1336,     0.13395,      0.1343,     0.13465,     0.13499,     0.13534,     0.13741,      0.1383,     0.13871,     0.13911,     0.13951,     0.13991,     0.14032,     0.14065,     0.14097,     0.14129,     0.14162,\n",
      "            0.14194,     0.14227,     0.14259,     0.14288,     0.14301,     0.14314,     0.14327,      0.1434,     0.14354,     0.14367,      0.1438,     0.14393,     0.14406,     0.14419,     0.14432,     0.14445,     0.14458,     0.14471,     0.14484,     0.14498,     0.14511,     0.14524,     0.14537,\n",
      "            0.14614,     0.14825,     0.15126,     0.15191,     0.15257,     0.15322,     0.15386,      0.1544,     0.15493,     0.15546,       0.156,     0.15653,     0.15693,     0.15711,     0.15728,     0.15746,     0.15763,     0.15781,     0.15798,     0.15816,     0.15834,     0.15851,     0.15869,\n",
      "            0.15886,     0.15904,     0.15921,     0.15939,     0.15957,     0.15974,     0.15992,     0.16097,     0.16283,     0.16669,     0.16704,      0.1674,     0.16775,      0.1681,     0.16846,     0.16881,     0.16917,     0.16952,     0.16987,     0.17023,     0.17072,     0.17121,     0.17171,\n",
      "             0.1722,     0.17269,     0.17318,     0.17367,     0.17411,     0.17451,     0.17491,     0.17531,     0.17571,     0.17611,     0.17651,      0.1769,      0.1773,      0.1777,     0.18627,      0.1866,     0.18693,     0.18725,     0.18758,     0.18791,     0.18824,     0.18856,     0.18889,\n",
      "            0.18922,     0.18954,     0.18987,      0.1902,     0.19049,     0.19057,     0.19066,     0.19074,     0.19082,     0.19091,     0.19099,     0.19107,     0.19116,     0.19124,     0.19132,     0.19141,     0.19149,     0.19157,     0.19166,     0.19174,     0.19182,     0.19191,     0.19199,\n",
      "            0.19207,     0.19216,     0.19224,     0.19232,     0.19241,     0.19249,     0.19258,     0.19266,     0.19274,     0.19283,     0.19291,     0.19299,     0.19308,     0.19316,     0.19324,     0.19332,     0.19341,     0.19349,     0.19357,     0.19366,     0.19374,     0.19382,     0.19391,\n",
      "            0.19399,     0.19407,     0.19416,     0.19424,     0.19432,     0.19441,     0.19449,     0.19457,     0.19466,     0.19474,     0.19482,     0.19491,     0.19499,     0.19507,     0.19533,     0.19585,     0.19638,     0.19691,     0.19743,     0.19796,     0.19848,     0.19901,     0.19953,\n",
      "            0.20006,     0.20059,     0.20111,     0.20164,     0.20217,      0.2027,     0.20323,     0.20375,     0.20428,      0.2048,     0.20537,     0.20602,     0.20666,      0.2073,     0.20794,     0.20858,     0.20922,     0.20985,     0.21049,     0.21644,      0.2167,     0.21697,     0.21723,\n",
      "             0.2175,     0.21776,     0.21803,     0.21829,     0.21856,     0.21882,     0.21909,     0.21935,     0.21961,     0.21988,     0.22014,     0.22041,     0.22067,     0.22093,      0.2212,     0.22146,     0.22173,     0.22199,     0.22242,     0.22415,     0.22587,     0.22759,     0.23082,\n",
      "            0.23542,     0.23626,      0.2371,     0.23794,     0.23878,     0.23961,     0.24045,     0.24128,     0.24212,     0.24263,     0.24297,      0.2433,     0.24363,     0.24397,      0.2443,     0.24463,     0.24496,      0.2453,     0.24563,     0.24596,     0.24629,     0.24662,     0.24695,\n",
      "            0.24729,     0.24762,     0.24795,     0.24828,     0.24861,     0.24894,     0.24927,      0.2496,     0.24993,     0.25059,     0.25135,      0.2521,     0.25286,     0.25361,     0.25436,     0.25511,     0.25587,     0.25662,     0.25736,     0.25819,     0.26009,     0.26198,     0.26387,\n",
      "            0.26576,     0.27202,      0.2762,     0.27674,     0.27728,     0.27781,     0.27835,     0.27889,     0.27942,     0.27996,     0.28049,     0.28103,     0.28156,      0.2821,     0.28263,     0.28316,      0.2837,     0.28423,     0.28476,     0.28529,     0.29638,       0.297,     0.29762,\n",
      "            0.29824,     0.29887,     0.29949,      0.3001,     0.30072,     0.30134,     0.30196,     0.30258,     0.30319,     0.30381,     0.30442,     0.30504,     0.30565,     0.30627,     0.30688,     0.30749,     0.30847,     0.30961,     0.31075,     0.31189,     0.31303,     0.31417,     0.31531,\n",
      "            0.31644,     0.31757,      0.3187,     0.31983,     0.32029,     0.32064,     0.32099,     0.32134,     0.32169,     0.32203,     0.32238,     0.32273,     0.32307,     0.32342,     0.32377,     0.32411,     0.32446,     0.32481,     0.32515,      0.3255,     0.32584,     0.32619,     0.32653,\n",
      "            0.32688,     0.32722,     0.32757,     0.32791,     0.32825,      0.3286,     0.32894,     0.32929,     0.32963,     0.32997,     0.33031,     0.33066,       0.331,     0.33134,     0.33168,     0.33203,     0.33237,     0.33271,     0.33305,     0.33381,     0.33657,     0.33931,     0.34205,\n",
      "            0.34477,     0.34748,       0.348,      0.3482,     0.34841,     0.34861,     0.34881,     0.34901,     0.34921,     0.34942,     0.34962,     0.34982,     0.35002,     0.35022,     0.35042,     0.35063,     0.35083,     0.35103,     0.35123,     0.35143,     0.35163,     0.35183,     0.35203,\n",
      "            0.35223,     0.35243,     0.35264,     0.35284,     0.35304,     0.35324,     0.35344,     0.35364,     0.35384,     0.35404,     0.35424,     0.35444,     0.35464,     0.35484,     0.35504,     0.35524,     0.35544,     0.35564,     0.35584,     0.35604,     0.35624,     0.35644,     0.35664,\n",
      "            0.35684,     0.35704,     0.35723,     0.35743,     0.35763,     0.35783,     0.35803,     0.35823,     0.35843,     0.35863,     0.35883,     0.35902,     0.35922,     0.35942,     0.35962,     0.35982,     0.36002,     0.36022,     0.36041,     0.36061,     0.36081,     0.36101,     0.36121,\n",
      "             0.3614,      0.3616,      0.3618,       0.362,      0.3622,     0.36239,     0.36259,     0.36279,     0.36299,     0.36318,     0.36338,     0.36358,     0.36375,     0.36392,     0.36408,     0.36424,     0.36441,     0.36457,     0.36474,      0.3649,     0.36507,     0.36523,     0.36539,\n",
      "            0.36556,     0.36572,     0.36589,     0.36605,     0.36621,     0.36638,     0.36654,     0.36671,     0.36687,     0.36703,      0.3672,     0.36736,     0.36752,     0.36769,     0.36785,     0.36801,     0.36818,     0.36834,      0.3685,     0.36867,     0.36883,     0.36899,     0.36916,\n",
      "            0.36932,     0.36948,     0.36965,     0.36981,     0.36997,     0.37014,      0.3703,     0.37046,     0.37062,     0.37079,     0.37095,     0.37111,     0.37127,     0.37144,      0.3716,     0.37176,     0.37192,     0.37209,     0.37225,     0.37241,     0.37257,     0.37274,      0.3729,\n",
      "            0.37306,     0.37322,     0.37338,     0.37355,     0.37371,     0.37387,     0.37403,     0.37419,     0.37435,     0.37452,     0.37468,     0.37484,       0.375,     0.37516,     0.37532,     0.37549,     0.37565,     0.37581,     0.37597,     0.37613,     0.37629,     0.37645,     0.37661,\n",
      "            0.37678,     0.37694,      0.3771,     0.37726,     0.37742,     0.37758,     0.37774,      0.3779,     0.37806,     0.37822,     0.37838,     0.37855,     0.37871,     0.37887,     0.37903,     0.37919,     0.37935,     0.37951,     0.37967,     0.37983,     0.37999,     0.38015,     0.38031,\n",
      "            0.38047,     0.38063,     0.38079,     0.38095,      0.3822,     0.38347,     0.38473,       0.386,     0.38725,     0.38851,     0.38976,     0.39102,     0.39226,     0.39351,     0.39475,     0.39599,     0.39723,     0.39847,      0.3997,     0.40037,     0.40085,     0.40134,     0.40182,\n",
      "            0.40231,     0.40279,     0.40328,     0.40376,     0.40424,     0.40473,     0.40521,     0.40569,     0.40617,     0.40665,     0.40713,     0.40761,     0.40809,     0.40857,     0.40905,     0.40953,     0.41001,     0.41049,     0.41097,     0.41144,     0.41192,      0.4124,     0.41287,\n",
      "            0.41335,     0.41382,      0.4143,     0.41477,     0.41525,     0.41572,     0.41619,     0.41667,     0.41714,     0.41761,     0.41808,     0.41856,     0.41903,      0.4195,     0.41997,     0.42044,     0.42091,     0.42412,     0.42852,     0.43289,     0.43722,     0.44152,     0.44675,\n",
      "            0.45398,     0.46112,     0.46817,       0.471,     0.47162,     0.47224,     0.47286,     0.47348,      0.4741,     0.47472,     0.47534,     0.47595,     0.47657,     0.47718,      0.4778,     0.47841,     0.47903,     0.47964,     0.48025,     0.48087,     0.48148,     0.48209,      0.4827,\n",
      "            0.48331,     0.48392,     0.48452,     0.48513,     0.48574,     0.48634,     0.48695,     0.48755,     0.48816,     0.48876,     0.48936,     0.48996,     0.49057,     0.49117,     0.49177,     0.49237,     0.49296,     0.49356,     0.49416,     0.49476,     0.49535,     0.49595,     0.49654,\n",
      "            0.49714,     0.49773,     0.49832,     0.49892,     0.49951,     0.50014,     0.50099,     0.50184,     0.50268,     0.50352,     0.50437,     0.50521,     0.50605,     0.50689,     0.50772,     0.50856,     0.50939,     0.51023,     0.51106,     0.51189,     0.51272,     0.51355,     0.51437,\n",
      "             0.5152,     0.51602,     0.51685,     0.51767,     0.51849,     0.51931,     0.52013,     0.52094,     0.52176,     0.52257,     0.52339,      0.5242,     0.52501,     0.52582,     0.52663,     0.52743,     0.52824,     0.52904,     0.52985,     0.53065,     0.53145,     0.53225,     0.53305,\n",
      "            0.53053,     0.52617,     0.52181,     0.51745,     0.51308,     0.50871,     0.50434,     0.49996,     0.49558,     0.49119,      0.4868,     0.48241,     0.47802,     0.47361,     0.46921,      0.4648,     0.46039,     0.45597,     0.45154,     0.44711,     0.44268,     0.43824,     0.43379,\n",
      "            0.42934,      0.4234,     0.41715,     0.41089,     0.40463,     0.39836,     0.39209,     0.38582,     0.37954,     0.37325,     0.36696,     0.36066,     0.35435,     0.34804,     0.34172,      0.3354,     0.32906,     0.32272,     0.31636,        0.31,     0.31627,     0.32913,     0.33532,\n",
      "            0.33829,     0.34122,     0.34412,     0.34698,      0.3498,     0.35259,     0.35535,     0.35807,     0.36076,     0.36341,     0.37809,     0.39284,     0.39502,      0.3848,     0.37457,     0.36432,     0.35407,     0.34379,      0.3335,     0.32319,     0.31286,     0.30251,     0.29214,\n",
      "            0.28173,      0.2713,     0.26083,     0.25033,     0.23978,     0.22919,     0.22485,     0.23203,     0.23865,     0.24476,           0]]), 'Confidence', 'F1'], [array([          0,    0.001001,    0.002002,    0.003003,    0.004004,    0.005005,    0.006006,    0.007007,    0.008008,    0.009009,     0.01001,    0.011011,    0.012012,    0.013013,    0.014014,    0.015015,    0.016016,    0.017017,    0.018018,    0.019019,     0.02002,    0.021021,    0.022022,    0.023023,\n",
      "          0.024024,    0.025025,    0.026026,    0.027027,    0.028028,    0.029029,     0.03003,    0.031031,    0.032032,    0.033033,    0.034034,    0.035035,    0.036036,    0.037037,    0.038038,    0.039039,     0.04004,    0.041041,    0.042042,    0.043043,    0.044044,    0.045045,    0.046046,    0.047047,\n",
      "          0.048048,    0.049049,     0.05005,    0.051051,    0.052052,    0.053053,    0.054054,    0.055055,    0.056056,    0.057057,    0.058058,    0.059059,     0.06006,    0.061061,    0.062062,    0.063063,    0.064064,    0.065065,    0.066066,    0.067067,    0.068068,    0.069069,     0.07007,    0.071071,\n",
      "          0.072072,    0.073073,    0.074074,    0.075075,    0.076076,    0.077077,    0.078078,    0.079079,     0.08008,    0.081081,    0.082082,    0.083083,    0.084084,    0.085085,    0.086086,    0.087087,    0.088088,    0.089089,     0.09009,    0.091091,    0.092092,    0.093093,    0.094094,    0.095095,\n",
      "          0.096096,    0.097097,    0.098098,    0.099099,      0.1001,      0.1011,      0.1021,      0.1031,      0.1041,     0.10511,     0.10611,     0.10711,     0.10811,     0.10911,     0.11011,     0.11111,     0.11211,     0.11311,     0.11411,     0.11512,     0.11612,     0.11712,     0.11812,     0.11912,\n",
      "           0.12012,     0.12112,     0.12212,     0.12312,     0.12412,     0.12513,     0.12613,     0.12713,     0.12813,     0.12913,     0.13013,     0.13113,     0.13213,     0.13313,     0.13413,     0.13514,     0.13614,     0.13714,     0.13814,     0.13914,     0.14014,     0.14114,     0.14214,     0.14314,\n",
      "           0.14414,     0.14515,     0.14615,     0.14715,     0.14815,     0.14915,     0.15015,     0.15115,     0.15215,     0.15315,     0.15415,     0.15516,     0.15616,     0.15716,     0.15816,     0.15916,     0.16016,     0.16116,     0.16216,     0.16316,     0.16416,     0.16517,     0.16617,     0.16717,\n",
      "           0.16817,     0.16917,     0.17017,     0.17117,     0.17217,     0.17317,     0.17417,     0.17518,     0.17618,     0.17718,     0.17818,     0.17918,     0.18018,     0.18118,     0.18218,     0.18318,     0.18418,     0.18519,     0.18619,     0.18719,     0.18819,     0.18919,     0.19019,     0.19119,\n",
      "           0.19219,     0.19319,     0.19419,      0.1952,      0.1962,      0.1972,      0.1982,      0.1992,      0.2002,      0.2012,      0.2022,      0.2032,      0.2042,     0.20521,     0.20621,     0.20721,     0.20821,     0.20921,     0.21021,     0.21121,     0.21221,     0.21321,     0.21421,     0.21522,\n",
      "           0.21622,     0.21722,     0.21822,     0.21922,     0.22022,     0.22122,     0.22222,     0.22322,     0.22422,     0.22523,     0.22623,     0.22723,     0.22823,     0.22923,     0.23023,     0.23123,     0.23223,     0.23323,     0.23423,     0.23524,     0.23624,     0.23724,     0.23824,     0.23924,\n",
      "           0.24024,     0.24124,     0.24224,     0.24324,     0.24424,     0.24525,     0.24625,     0.24725,     0.24825,     0.24925,     0.25025,     0.25125,     0.25225,     0.25325,     0.25425,     0.25526,     0.25626,     0.25726,     0.25826,     0.25926,     0.26026,     0.26126,     0.26226,     0.26326,\n",
      "           0.26426,     0.26527,     0.26627,     0.26727,     0.26827,     0.26927,     0.27027,     0.27127,     0.27227,     0.27327,     0.27427,     0.27528,     0.27628,     0.27728,     0.27828,     0.27928,     0.28028,     0.28128,     0.28228,     0.28328,     0.28428,     0.28529,     0.28629,     0.28729,\n",
      "           0.28829,     0.28929,     0.29029,     0.29129,     0.29229,     0.29329,     0.29429,      0.2953,      0.2963,      0.2973,      0.2983,      0.2993,      0.3003,      0.3013,      0.3023,      0.3033,      0.3043,     0.30531,     0.30631,     0.30731,     0.30831,     0.30931,     0.31031,     0.31131,\n",
      "           0.31231,     0.31331,     0.31431,     0.31532,     0.31632,     0.31732,     0.31832,     0.31932,     0.32032,     0.32132,     0.32232,     0.32332,     0.32432,     0.32533,     0.32633,     0.32733,     0.32833,     0.32933,     0.33033,     0.33133,     0.33233,     0.33333,     0.33433,     0.33534,\n",
      "           0.33634,     0.33734,     0.33834,     0.33934,     0.34034,     0.34134,     0.34234,     0.34334,     0.34434,     0.34535,     0.34635,     0.34735,     0.34835,     0.34935,     0.35035,     0.35135,     0.35235,     0.35335,     0.35435,     0.35536,     0.35636,     0.35736,     0.35836,     0.35936,\n",
      "           0.36036,     0.36136,     0.36236,     0.36336,     0.36436,     0.36537,     0.36637,     0.36737,     0.36837,     0.36937,     0.37037,     0.37137,     0.37237,     0.37337,     0.37437,     0.37538,     0.37638,     0.37738,     0.37838,     0.37938,     0.38038,     0.38138,     0.38238,     0.38338,\n",
      "           0.38438,     0.38539,     0.38639,     0.38739,     0.38839,     0.38939,     0.39039,     0.39139,     0.39239,     0.39339,     0.39439,      0.3954,      0.3964,      0.3974,      0.3984,      0.3994,      0.4004,      0.4014,      0.4024,      0.4034,      0.4044,     0.40541,     0.40641,     0.40741,\n",
      "           0.40841,     0.40941,     0.41041,     0.41141,     0.41241,     0.41341,     0.41441,     0.41542,     0.41642,     0.41742,     0.41842,     0.41942,     0.42042,     0.42142,     0.42242,     0.42342,     0.42442,     0.42543,     0.42643,     0.42743,     0.42843,     0.42943,     0.43043,     0.43143,\n",
      "           0.43243,     0.43343,     0.43443,     0.43544,     0.43644,     0.43744,     0.43844,     0.43944,     0.44044,     0.44144,     0.44244,     0.44344,     0.44444,     0.44545,     0.44645,     0.44745,     0.44845,     0.44945,     0.45045,     0.45145,     0.45245,     0.45345,     0.45445,     0.45546,\n",
      "           0.45646,     0.45746,     0.45846,     0.45946,     0.46046,     0.46146,     0.46246,     0.46346,     0.46446,     0.46547,     0.46647,     0.46747,     0.46847,     0.46947,     0.47047,     0.47147,     0.47247,     0.47347,     0.47447,     0.47548,     0.47648,     0.47748,     0.47848,     0.47948,\n",
      "           0.48048,     0.48148,     0.48248,     0.48348,     0.48448,     0.48549,     0.48649,     0.48749,     0.48849,     0.48949,     0.49049,     0.49149,     0.49249,     0.49349,     0.49449,      0.4955,      0.4965,      0.4975,      0.4985,      0.4995,      0.5005,      0.5015,      0.5025,      0.5035,\n",
      "            0.5045,     0.50551,     0.50651,     0.50751,     0.50851,     0.50951,     0.51051,     0.51151,     0.51251,     0.51351,     0.51451,     0.51552,     0.51652,     0.51752,     0.51852,     0.51952,     0.52052,     0.52152,     0.52252,     0.52352,     0.52452,     0.52553,     0.52653,     0.52753,\n",
      "           0.52853,     0.52953,     0.53053,     0.53153,     0.53253,     0.53353,     0.53453,     0.53554,     0.53654,     0.53754,     0.53854,     0.53954,     0.54054,     0.54154,     0.54254,     0.54354,     0.54454,     0.54555,     0.54655,     0.54755,     0.54855,     0.54955,     0.55055,     0.55155,\n",
      "           0.55255,     0.55355,     0.55455,     0.55556,     0.55656,     0.55756,     0.55856,     0.55956,     0.56056,     0.56156,     0.56256,     0.56356,     0.56456,     0.56557,     0.56657,     0.56757,     0.56857,     0.56957,     0.57057,     0.57157,     0.57257,     0.57357,     0.57457,     0.57558,\n",
      "           0.57658,     0.57758,     0.57858,     0.57958,     0.58058,     0.58158,     0.58258,     0.58358,     0.58458,     0.58559,     0.58659,     0.58759,     0.58859,     0.58959,     0.59059,     0.59159,     0.59259,     0.59359,     0.59459,      0.5956,      0.5966,      0.5976,      0.5986,      0.5996,\n",
      "            0.6006,      0.6016,      0.6026,      0.6036,      0.6046,     0.60561,     0.60661,     0.60761,     0.60861,     0.60961,     0.61061,     0.61161,     0.61261,     0.61361,     0.61461,     0.61562,     0.61662,     0.61762,     0.61862,     0.61962,     0.62062,     0.62162,     0.62262,     0.62362,\n",
      "           0.62462,     0.62563,     0.62663,     0.62763,     0.62863,     0.62963,     0.63063,     0.63163,     0.63263,     0.63363,     0.63463,     0.63564,     0.63664,     0.63764,     0.63864,     0.63964,     0.64064,     0.64164,     0.64264,     0.64364,     0.64464,     0.64565,     0.64665,     0.64765,\n",
      "           0.64865,     0.64965,     0.65065,     0.65165,     0.65265,     0.65365,     0.65465,     0.65566,     0.65666,     0.65766,     0.65866,     0.65966,     0.66066,     0.66166,     0.66266,     0.66366,     0.66466,     0.66567,     0.66667,     0.66767,     0.66867,     0.66967,     0.67067,     0.67167,\n",
      "           0.67267,     0.67367,     0.67467,     0.67568,     0.67668,     0.67768,     0.67868,     0.67968,     0.68068,     0.68168,     0.68268,     0.68368,     0.68468,     0.68569,     0.68669,     0.68769,     0.68869,     0.68969,     0.69069,     0.69169,     0.69269,     0.69369,     0.69469,      0.6957,\n",
      "            0.6967,      0.6977,      0.6987,      0.6997,      0.7007,      0.7017,      0.7027,      0.7037,      0.7047,     0.70571,     0.70671,     0.70771,     0.70871,     0.70971,     0.71071,     0.71171,     0.71271,     0.71371,     0.71471,     0.71572,     0.71672,     0.71772,     0.71872,     0.71972,\n",
      "           0.72072,     0.72172,     0.72272,     0.72372,     0.72472,     0.72573,     0.72673,     0.72773,     0.72873,     0.72973,     0.73073,     0.73173,     0.73273,     0.73373,     0.73473,     0.73574,     0.73674,     0.73774,     0.73874,     0.73974,     0.74074,     0.74174,     0.74274,     0.74374,\n",
      "           0.74474,     0.74575,     0.74675,     0.74775,     0.74875,     0.74975,     0.75075,     0.75175,     0.75275,     0.75375,     0.75475,     0.75576,     0.75676,     0.75776,     0.75876,     0.75976,     0.76076,     0.76176,     0.76276,     0.76376,     0.76476,     0.76577,     0.76677,     0.76777,\n",
      "           0.76877,     0.76977,     0.77077,     0.77177,     0.77277,     0.77377,     0.77477,     0.77578,     0.77678,     0.77778,     0.77878,     0.77978,     0.78078,     0.78178,     0.78278,     0.78378,     0.78478,     0.78579,     0.78679,     0.78779,     0.78879,     0.78979,     0.79079,     0.79179,\n",
      "           0.79279,     0.79379,     0.79479,      0.7958,      0.7968,      0.7978,      0.7988,      0.7998,      0.8008,      0.8018,      0.8028,      0.8038,      0.8048,     0.80581,     0.80681,     0.80781,     0.80881,     0.80981,     0.81081,     0.81181,     0.81281,     0.81381,     0.81481,     0.81582,\n",
      "           0.81682,     0.81782,     0.81882,     0.81982,     0.82082,     0.82182,     0.82282,     0.82382,     0.82482,     0.82583,     0.82683,     0.82783,     0.82883,     0.82983,     0.83083,     0.83183,     0.83283,     0.83383,     0.83483,     0.83584,     0.83684,     0.83784,     0.83884,     0.83984,\n",
      "           0.84084,     0.84184,     0.84284,     0.84384,     0.84484,     0.84585,     0.84685,     0.84785,     0.84885,     0.84985,     0.85085,     0.85185,     0.85285,     0.85385,     0.85485,     0.85586,     0.85686,     0.85786,     0.85886,     0.85986,     0.86086,     0.86186,     0.86286,     0.86386,\n",
      "           0.86486,     0.86587,     0.86687,     0.86787,     0.86887,     0.86987,     0.87087,     0.87187,     0.87287,     0.87387,     0.87487,     0.87588,     0.87688,     0.87788,     0.87888,     0.87988,     0.88088,     0.88188,     0.88288,     0.88388,     0.88488,     0.88589,     0.88689,     0.88789,\n",
      "           0.88889,     0.88989,     0.89089,     0.89189,     0.89289,     0.89389,     0.89489,      0.8959,      0.8969,      0.8979,      0.8989,      0.8999,      0.9009,      0.9019,      0.9029,      0.9039,      0.9049,     0.90591,     0.90691,     0.90791,     0.90891,     0.90991,     0.91091,     0.91191,\n",
      "           0.91291,     0.91391,     0.91491,     0.91592,     0.91692,     0.91792,     0.91892,     0.91992,     0.92092,     0.92192,     0.92292,     0.92392,     0.92492,     0.92593,     0.92693,     0.92793,     0.92893,     0.92993,     0.93093,     0.93193,     0.93293,     0.93393,     0.93493,     0.93594,\n",
      "           0.93694,     0.93794,     0.93894,     0.93994,     0.94094,     0.94194,     0.94294,     0.94394,     0.94494,     0.94595,     0.94695,     0.94795,     0.94895,     0.94995,     0.95095,     0.95195,     0.95295,     0.95395,     0.95495,     0.95596,     0.95696,     0.95796,     0.95896,     0.95996,\n",
      "           0.96096,     0.96196,     0.96296,     0.96396,     0.96496,     0.96597,     0.96697,     0.96797,     0.96897,     0.96997,     0.97097,     0.97197,     0.97297,     0.97397,     0.97497,     0.97598,     0.97698,     0.97798,     0.97898,     0.97998,     0.98098,     0.98198,     0.98298,     0.98398,\n",
      "           0.98498,     0.98599,     0.98699,     0.98799,     0.98899,     0.98999,     0.99099,     0.99199,     0.99299,     0.99399,     0.99499,       0.996,       0.997,       0.998,       0.999,           1]), array([[  0.0026667,   0.0026667,   0.0030829,   0.0043348,   0.0055315,   0.0065512,   0.0073184,   0.0080349,   0.0088387,   0.0093581,   0.0099968,    0.010815,    0.011147,    0.011553,    0.011866,    0.012277,     0.01268,    0.013069,    0.013808,    0.014143,    0.014351,    0.014666,    0.015055,\n",
      "           0.015599,    0.015921,    0.016281,    0.016875,    0.017439,    0.017653,    0.017776,    0.018404,    0.019058,    0.019518,    0.019686,    0.019956,    0.020105,    0.020458,    0.020856,    0.021002,    0.021309,    0.021548,    0.021835,    0.022168,    0.022523,    0.022904,    0.023263,\n",
      "           0.023663,    0.023992,    0.024396,    0.024474,    0.024654,    0.025467,     0.02596,    0.026804,    0.027028,    0.027246,    0.027352,    0.027977,    0.028072,    0.028167,     0.02856,    0.028768,    0.028882,    0.028997,    0.029248,    0.029456,    0.029547,      0.0297,    0.029938,\n",
      "           0.030046,    0.030776,    0.031618,    0.031996,    0.032632,    0.032844,    0.033113,    0.033229,    0.033371,    0.033691,    0.034127,    0.034319,    0.034455,    0.034828,    0.034939,     0.03505,     0.03562,    0.036316,    0.037054,    0.037152,     0.03725,    0.037348,    0.037549,\n",
      "           0.037798,    0.038018,    0.038522,    0.038619,    0.038716,    0.038813,    0.038931,    0.039056,     0.03918,     0.03959,    0.040252,    0.041239,    0.042133,    0.042673,    0.043164,    0.043399,    0.044501,    0.045416,    0.046603,    0.047224,    0.048011,    0.048388,    0.048623,\n",
      "           0.048901,    0.049267,    0.049658,    0.050196,    0.051278,    0.051531,    0.051781,    0.052663,    0.052924,    0.053184,    0.053426,    0.053641,    0.053857,    0.054093,    0.054563,    0.054919,    0.055165,     0.05541,    0.056123,    0.056556,    0.056813,     0.05707,    0.057455,\n",
      "           0.057889,     0.05896,    0.059372,    0.059708,    0.059743,    0.059779,    0.059814,    0.059849,    0.059884,    0.059919,    0.059954,    0.059989,    0.060024,    0.060059,    0.060094,    0.060129,    0.060164,    0.060199,    0.060234,    0.060269,    0.060304,    0.060339,    0.060374,\n",
      "           0.060409,    0.060444,    0.060479,    0.060514,    0.060549,    0.060584,    0.061362,     0.06181,    0.062107,    0.062404,    0.062587,    0.062715,    0.062843,    0.062972,      0.0631,    0.063228,    0.063356,    0.063485,    0.064084,    0.064836,    0.065622,    0.065794,    0.065966,\n",
      "           0.066138,     0.06631,    0.066482,    0.066655,    0.067897,    0.068016,    0.068135,    0.068253,    0.068372,     0.06849,    0.068609,    0.068728,    0.068846,    0.068965,    0.069164,    0.069363,    0.069562,    0.069762,    0.069961,     0.07016,    0.070909,    0.071488,     0.07166,\n",
      "           0.071831,    0.072003,    0.072174,    0.072346,    0.072518,    0.072689,    0.072888,    0.073095,    0.073302,    0.073509,    0.073716,    0.073923,    0.075161,    0.075695,    0.075936,    0.076177,    0.076419,     0.07666,    0.076902,    0.077101,    0.077296,     0.07749,    0.077685,\n",
      "            0.07788,    0.078075,     0.07827,    0.078445,    0.078524,    0.078603,    0.078682,    0.078761,     0.07884,    0.078919,    0.078999,    0.079078,    0.079157,    0.079236,    0.079315,    0.079394,    0.079473,    0.079552,    0.079631,     0.07971,    0.079789,    0.079868,    0.079948,\n",
      "           0.080418,    0.081692,    0.083528,    0.083926,    0.084323,    0.084721,    0.085116,    0.085444,    0.085771,    0.086098,    0.086425,    0.086753,    0.086997,    0.087106,    0.087214,    0.087322,     0.08743,    0.087539,    0.087647,    0.087755,    0.087863,    0.087971,     0.08808,\n",
      "           0.088188,    0.088296,    0.088404,    0.088513,    0.088621,    0.088729,    0.088837,     0.08949,    0.090638,    0.093036,    0.093257,    0.093478,    0.093699,     0.09392,    0.094141,    0.094362,    0.094583,    0.094804,    0.095025,    0.095248,    0.095557,    0.095865,    0.096174,\n",
      "           0.096482,    0.096791,    0.097099,    0.097407,    0.097687,    0.097939,     0.09819,    0.098442,    0.098693,    0.098945,    0.099196,    0.099448,    0.099699,    0.099951,     0.10541,     0.10562,     0.10583,     0.10604,     0.10625,     0.10646,     0.10667,     0.10688,     0.10709,\n",
      "             0.1073,     0.10751,     0.10772,     0.10793,     0.10812,     0.10817,     0.10822,     0.10828,     0.10833,     0.10839,     0.10844,     0.10849,     0.10855,      0.1086,     0.10865,     0.10871,     0.10876,     0.10882,     0.10887,     0.10892,     0.10898,     0.10903,     0.10909,\n",
      "            0.10914,     0.10919,     0.10925,      0.1093,     0.10935,     0.10941,     0.10946,     0.10952,     0.10957,     0.10962,     0.10968,     0.10973,     0.10979,     0.10984,     0.10989,     0.10995,        0.11,     0.11005,     0.11011,     0.11016,     0.11022,     0.11027,     0.11032,\n",
      "            0.11038,     0.11043,     0.11049,     0.11054,     0.11059,     0.11065,      0.1107,     0.11076,     0.11081,     0.11086,     0.11092,     0.11097,     0.11102,     0.11108,     0.11124,     0.11159,     0.11193,     0.11227,     0.11261,     0.11295,      0.1133,     0.11364,     0.11398,\n",
      "            0.11432,     0.11467,     0.11501,     0.11536,     0.11571,     0.11605,      0.1164,     0.11674,     0.11709,     0.11743,     0.11781,     0.11823,     0.11865,     0.11908,      0.1195,     0.11992,     0.12034,     0.12077,     0.12119,     0.12515,     0.12532,      0.1255,     0.12568,\n",
      "            0.12586,     0.12603,     0.12621,     0.12639,     0.12657,     0.12674,     0.12692,      0.1271,     0.12728,     0.12745,     0.12763,     0.12781,     0.12799,     0.12816,     0.12834,     0.12852,      0.1287,     0.12888,     0.12917,     0.13033,      0.1315,     0.13266,     0.13487,\n",
      "            0.13802,      0.1386,     0.13917,     0.13975,     0.14033,     0.14091,     0.14149,     0.14207,     0.14264,       0.143,     0.14323,     0.14347,      0.1437,     0.14393,     0.14416,     0.14439,     0.14462,     0.14486,     0.14509,     0.14532,     0.14555,     0.14578,     0.14601,\n",
      "            0.14625,     0.14648,     0.14671,     0.14694,     0.14717,      0.1474,     0.14763,     0.14787,      0.1481,     0.14856,      0.1491,     0.14963,     0.15016,     0.15069,     0.15122,     0.15175,     0.15229,     0.15282,     0.15335,     0.15393,     0.15529,     0.15664,     0.15799,\n",
      "            0.15935,     0.16387,     0.16691,     0.16731,      0.1677,     0.16809,     0.16849,     0.16888,     0.16927,     0.16967,     0.17006,     0.17045,     0.17085,     0.17124,     0.17163,     0.17203,     0.17242,     0.17281,     0.17321,      0.1736,     0.18188,     0.18235,     0.18282,\n",
      "            0.18329,     0.18376,     0.18423,     0.18469,     0.18516,     0.18563,      0.1861,     0.18657,     0.18704,     0.18751,     0.18798,     0.18845,     0.18892,     0.18939,     0.18985,     0.19032,     0.19107,     0.19195,     0.19283,     0.19371,     0.19459,     0.19547,     0.19635,\n",
      "            0.19723,     0.19811,     0.19898,     0.19986,     0.20023,      0.2005,     0.20077,     0.20105,     0.20132,     0.20159,     0.20186,     0.20214,     0.20241,     0.20268,     0.20295,     0.20322,      0.2035,     0.20377,     0.20404,     0.20431,     0.20459,     0.20486,     0.20513,\n",
      "             0.2054,     0.20567,     0.20595,     0.20622,     0.20649,     0.20676,     0.20703,     0.20731,     0.20758,     0.20785,     0.20812,      0.2084,     0.20867,     0.20894,     0.20921,     0.20948,     0.20976,     0.21003,      0.2103,     0.21091,     0.21311,     0.21532,     0.21753,\n",
      "            0.21973,     0.22194,     0.22237,     0.22253,      0.2227,     0.22286,     0.22303,     0.22319,     0.22336,     0.22352,     0.22369,     0.22385,     0.22402,     0.22418,     0.22435,     0.22451,     0.22468,     0.22484,     0.22501,     0.22517,     0.22534,      0.2255,     0.22567,\n",
      "            0.22583,       0.226,     0.22616,     0.22633,     0.22649,     0.22666,     0.22682,     0.22699,     0.22715,     0.22732,     0.22748,     0.22765,     0.22781,     0.22798,     0.22814,     0.22831,     0.22848,     0.22864,     0.22881,     0.22897,     0.22914,      0.2293,     0.22947,\n",
      "            0.22963,      0.2298,     0.22996,     0.23013,     0.23029,     0.23046,     0.23062,     0.23079,     0.23095,     0.23112,     0.23128,     0.23145,     0.23161,     0.23178,     0.23194,     0.23211,     0.23227,     0.23244,      0.2326,     0.23277,     0.23293,      0.2331,     0.23326,\n",
      "            0.23343,     0.23359,     0.23376,     0.23392,     0.23409,     0.23425,     0.23442,     0.23458,     0.23475,     0.23491,     0.23508,     0.23524,     0.23539,     0.23553,     0.23567,      0.2358,     0.23594,     0.23608,     0.23622,     0.23636,     0.23649,     0.23663,     0.23677,\n",
      "            0.23691,     0.23704,     0.23718,     0.23732,     0.23746,      0.2376,     0.23773,     0.23787,     0.23801,     0.23815,     0.23828,     0.23842,     0.23856,      0.2387,     0.23884,     0.23897,     0.23911,     0.23925,     0.23939,     0.23952,     0.23966,      0.2398,     0.23994,\n",
      "            0.24008,     0.24021,     0.24035,     0.24049,     0.24063,     0.24076,      0.2409,     0.24104,     0.24118,     0.24132,     0.24145,     0.24159,     0.24173,     0.24187,     0.24201,     0.24214,     0.24228,     0.24242,     0.24256,     0.24269,     0.24283,     0.24297,     0.24311,\n",
      "            0.24325,     0.24338,     0.24352,     0.24366,      0.2438,     0.24393,     0.24407,     0.24421,     0.24435,     0.24449,     0.24462,     0.24476,      0.2449,     0.24504,     0.24517,     0.24531,     0.24545,     0.24559,     0.24573,     0.24586,       0.246,     0.24614,     0.24628,\n",
      "            0.24641,     0.24655,     0.24669,     0.24683,     0.24697,      0.2471,     0.24724,     0.24738,     0.24752,     0.24766,     0.24779,     0.24793,     0.24807,     0.24821,     0.24834,     0.24848,     0.24862,     0.24876,      0.2489,     0.24903,     0.24917,     0.24931,     0.24945,\n",
      "            0.24958,     0.24972,     0.24986,        0.25,     0.25108,     0.25217,     0.25327,     0.25436,     0.25546,     0.25655,     0.25764,     0.25874,     0.25983,     0.26093,     0.26202,     0.26312,     0.26421,     0.26531,      0.2664,     0.26699,     0.26743,     0.26786,     0.26829,\n",
      "            0.26872,     0.26916,     0.26959,     0.27002,     0.27045,     0.27088,     0.27132,     0.27175,     0.27218,     0.27261,     0.27305,     0.27348,     0.27391,     0.27434,     0.27477,     0.27521,     0.27564,     0.27607,      0.2765,     0.27694,     0.27737,      0.2778,     0.27823,\n",
      "            0.27867,      0.2791,     0.27953,     0.27996,     0.28039,     0.28083,     0.28126,     0.28169,     0.28212,     0.28256,     0.28299,     0.28342,     0.28385,     0.28428,     0.28472,     0.28515,     0.28558,     0.28855,     0.29263,     0.29672,     0.30081,      0.3049,      0.3099,\n",
      "            0.31691,     0.32391,     0.33091,     0.33374,     0.33437,     0.33499,     0.33562,     0.33624,     0.33687,     0.33749,     0.33812,     0.33874,     0.33937,     0.33999,     0.34062,     0.34124,     0.34187,     0.34249,     0.34312,     0.34374,     0.34437,     0.34499,     0.34562,\n",
      "            0.34624,     0.34687,     0.34749,     0.34812,     0.34874,     0.34937,     0.34999,     0.35062,     0.35124,     0.35187,     0.35249,     0.35312,     0.35374,     0.35437,     0.35499,     0.35562,     0.35624,     0.35687,     0.35749,     0.35812,     0.35874,     0.35937,     0.35999,\n",
      "            0.36062,     0.36124,     0.36187,     0.36249,     0.36312,     0.36379,     0.36468,     0.36558,     0.36648,     0.36738,     0.36827,     0.36917,     0.37007,     0.37097,     0.37186,     0.37276,     0.37366,     0.37455,     0.37545,     0.37635,     0.37725,     0.37814,     0.37904,\n",
      "            0.37994,     0.38084,     0.38173,     0.38263,     0.38353,     0.38443,     0.38532,     0.38622,     0.38712,     0.38802,     0.38891,     0.38981,     0.39071,      0.3916,      0.3925,      0.3934,      0.3943,     0.39519,     0.39609,     0.39699,     0.39789,     0.39878,     0.39968,\n",
      "             0.3982,      0.3954,      0.3926,      0.3898,       0.387,      0.3842,      0.3814,      0.3786,      0.3758,     0.37301,     0.37021,     0.36741,     0.36461,     0.36181,     0.35901,     0.35621,     0.35341,     0.35061,     0.34781,     0.34501,     0.34221,     0.33942,     0.33662,\n",
      "            0.33382,     0.32974,      0.3254,     0.32106,     0.31671,     0.31237,     0.30803,     0.30369,     0.29934,       0.295,     0.29066,     0.28631,     0.28197,     0.27763,     0.27329,     0.26894,      0.2646,     0.26026,     0.25592,     0.25157,     0.26152,     0.27959,     0.28864,\n",
      "            0.29308,     0.29751,     0.30194,     0.30637,      0.3108,     0.31523,     0.31966,     0.32409,     0.32852,     0.33296,     0.35846,     0.38593,     0.39573,     0.38698,     0.37823,     0.36948,     0.36073,     0.35198,     0.34323,     0.33448,     0.32573,     0.31698,     0.30823,\n",
      "            0.29948,     0.29073,     0.28198,     0.27323,     0.26448,     0.25573,     0.25674,     0.27628,     0.29581,     0.31534,           1]]), 'Confidence', 'Precision'], [array([          0,    0.001001,    0.002002,    0.003003,    0.004004,    0.005005,    0.006006,    0.007007,    0.008008,    0.009009,     0.01001,    0.011011,    0.012012,    0.013013,    0.014014,    0.015015,    0.016016,    0.017017,    0.018018,    0.019019,     0.02002,    0.021021,    0.022022,    0.023023,\n",
      "          0.024024,    0.025025,    0.026026,    0.027027,    0.028028,    0.029029,     0.03003,    0.031031,    0.032032,    0.033033,    0.034034,    0.035035,    0.036036,    0.037037,    0.038038,    0.039039,     0.04004,    0.041041,    0.042042,    0.043043,    0.044044,    0.045045,    0.046046,    0.047047,\n",
      "          0.048048,    0.049049,     0.05005,    0.051051,    0.052052,    0.053053,    0.054054,    0.055055,    0.056056,    0.057057,    0.058058,    0.059059,     0.06006,    0.061061,    0.062062,    0.063063,    0.064064,    0.065065,    0.066066,    0.067067,    0.068068,    0.069069,     0.07007,    0.071071,\n",
      "          0.072072,    0.073073,    0.074074,    0.075075,    0.076076,    0.077077,    0.078078,    0.079079,     0.08008,    0.081081,    0.082082,    0.083083,    0.084084,    0.085085,    0.086086,    0.087087,    0.088088,    0.089089,     0.09009,    0.091091,    0.092092,    0.093093,    0.094094,    0.095095,\n",
      "          0.096096,    0.097097,    0.098098,    0.099099,      0.1001,      0.1011,      0.1021,      0.1031,      0.1041,     0.10511,     0.10611,     0.10711,     0.10811,     0.10911,     0.11011,     0.11111,     0.11211,     0.11311,     0.11411,     0.11512,     0.11612,     0.11712,     0.11812,     0.11912,\n",
      "           0.12012,     0.12112,     0.12212,     0.12312,     0.12412,     0.12513,     0.12613,     0.12713,     0.12813,     0.12913,     0.13013,     0.13113,     0.13213,     0.13313,     0.13413,     0.13514,     0.13614,     0.13714,     0.13814,     0.13914,     0.14014,     0.14114,     0.14214,     0.14314,\n",
      "           0.14414,     0.14515,     0.14615,     0.14715,     0.14815,     0.14915,     0.15015,     0.15115,     0.15215,     0.15315,     0.15415,     0.15516,     0.15616,     0.15716,     0.15816,     0.15916,     0.16016,     0.16116,     0.16216,     0.16316,     0.16416,     0.16517,     0.16617,     0.16717,\n",
      "           0.16817,     0.16917,     0.17017,     0.17117,     0.17217,     0.17317,     0.17417,     0.17518,     0.17618,     0.17718,     0.17818,     0.17918,     0.18018,     0.18118,     0.18218,     0.18318,     0.18418,     0.18519,     0.18619,     0.18719,     0.18819,     0.18919,     0.19019,     0.19119,\n",
      "           0.19219,     0.19319,     0.19419,      0.1952,      0.1962,      0.1972,      0.1982,      0.1992,      0.2002,      0.2012,      0.2022,      0.2032,      0.2042,     0.20521,     0.20621,     0.20721,     0.20821,     0.20921,     0.21021,     0.21121,     0.21221,     0.21321,     0.21421,     0.21522,\n",
      "           0.21622,     0.21722,     0.21822,     0.21922,     0.22022,     0.22122,     0.22222,     0.22322,     0.22422,     0.22523,     0.22623,     0.22723,     0.22823,     0.22923,     0.23023,     0.23123,     0.23223,     0.23323,     0.23423,     0.23524,     0.23624,     0.23724,     0.23824,     0.23924,\n",
      "           0.24024,     0.24124,     0.24224,     0.24324,     0.24424,     0.24525,     0.24625,     0.24725,     0.24825,     0.24925,     0.25025,     0.25125,     0.25225,     0.25325,     0.25425,     0.25526,     0.25626,     0.25726,     0.25826,     0.25926,     0.26026,     0.26126,     0.26226,     0.26326,\n",
      "           0.26426,     0.26527,     0.26627,     0.26727,     0.26827,     0.26927,     0.27027,     0.27127,     0.27227,     0.27327,     0.27427,     0.27528,     0.27628,     0.27728,     0.27828,     0.27928,     0.28028,     0.28128,     0.28228,     0.28328,     0.28428,     0.28529,     0.28629,     0.28729,\n",
      "           0.28829,     0.28929,     0.29029,     0.29129,     0.29229,     0.29329,     0.29429,      0.2953,      0.2963,      0.2973,      0.2983,      0.2993,      0.3003,      0.3013,      0.3023,      0.3033,      0.3043,     0.30531,     0.30631,     0.30731,     0.30831,     0.30931,     0.31031,     0.31131,\n",
      "           0.31231,     0.31331,     0.31431,     0.31532,     0.31632,     0.31732,     0.31832,     0.31932,     0.32032,     0.32132,     0.32232,     0.32332,     0.32432,     0.32533,     0.32633,     0.32733,     0.32833,     0.32933,     0.33033,     0.33133,     0.33233,     0.33333,     0.33433,     0.33534,\n",
      "           0.33634,     0.33734,     0.33834,     0.33934,     0.34034,     0.34134,     0.34234,     0.34334,     0.34434,     0.34535,     0.34635,     0.34735,     0.34835,     0.34935,     0.35035,     0.35135,     0.35235,     0.35335,     0.35435,     0.35536,     0.35636,     0.35736,     0.35836,     0.35936,\n",
      "           0.36036,     0.36136,     0.36236,     0.36336,     0.36436,     0.36537,     0.36637,     0.36737,     0.36837,     0.36937,     0.37037,     0.37137,     0.37237,     0.37337,     0.37437,     0.37538,     0.37638,     0.37738,     0.37838,     0.37938,     0.38038,     0.38138,     0.38238,     0.38338,\n",
      "           0.38438,     0.38539,     0.38639,     0.38739,     0.38839,     0.38939,     0.39039,     0.39139,     0.39239,     0.39339,     0.39439,      0.3954,      0.3964,      0.3974,      0.3984,      0.3994,      0.4004,      0.4014,      0.4024,      0.4034,      0.4044,     0.40541,     0.40641,     0.40741,\n",
      "           0.40841,     0.40941,     0.41041,     0.41141,     0.41241,     0.41341,     0.41441,     0.41542,     0.41642,     0.41742,     0.41842,     0.41942,     0.42042,     0.42142,     0.42242,     0.42342,     0.42442,     0.42543,     0.42643,     0.42743,     0.42843,     0.42943,     0.43043,     0.43143,\n",
      "           0.43243,     0.43343,     0.43443,     0.43544,     0.43644,     0.43744,     0.43844,     0.43944,     0.44044,     0.44144,     0.44244,     0.44344,     0.44444,     0.44545,     0.44645,     0.44745,     0.44845,     0.44945,     0.45045,     0.45145,     0.45245,     0.45345,     0.45445,     0.45546,\n",
      "           0.45646,     0.45746,     0.45846,     0.45946,     0.46046,     0.46146,     0.46246,     0.46346,     0.46446,     0.46547,     0.46647,     0.46747,     0.46847,     0.46947,     0.47047,     0.47147,     0.47247,     0.47347,     0.47447,     0.47548,     0.47648,     0.47748,     0.47848,     0.47948,\n",
      "           0.48048,     0.48148,     0.48248,     0.48348,     0.48448,     0.48549,     0.48649,     0.48749,     0.48849,     0.48949,     0.49049,     0.49149,     0.49249,     0.49349,     0.49449,      0.4955,      0.4965,      0.4975,      0.4985,      0.4995,      0.5005,      0.5015,      0.5025,      0.5035,\n",
      "            0.5045,     0.50551,     0.50651,     0.50751,     0.50851,     0.50951,     0.51051,     0.51151,     0.51251,     0.51351,     0.51451,     0.51552,     0.51652,     0.51752,     0.51852,     0.51952,     0.52052,     0.52152,     0.52252,     0.52352,     0.52452,     0.52553,     0.52653,     0.52753,\n",
      "           0.52853,     0.52953,     0.53053,     0.53153,     0.53253,     0.53353,     0.53453,     0.53554,     0.53654,     0.53754,     0.53854,     0.53954,     0.54054,     0.54154,     0.54254,     0.54354,     0.54454,     0.54555,     0.54655,     0.54755,     0.54855,     0.54955,     0.55055,     0.55155,\n",
      "           0.55255,     0.55355,     0.55455,     0.55556,     0.55656,     0.55756,     0.55856,     0.55956,     0.56056,     0.56156,     0.56256,     0.56356,     0.56456,     0.56557,     0.56657,     0.56757,     0.56857,     0.56957,     0.57057,     0.57157,     0.57257,     0.57357,     0.57457,     0.57558,\n",
      "           0.57658,     0.57758,     0.57858,     0.57958,     0.58058,     0.58158,     0.58258,     0.58358,     0.58458,     0.58559,     0.58659,     0.58759,     0.58859,     0.58959,     0.59059,     0.59159,     0.59259,     0.59359,     0.59459,      0.5956,      0.5966,      0.5976,      0.5986,      0.5996,\n",
      "            0.6006,      0.6016,      0.6026,      0.6036,      0.6046,     0.60561,     0.60661,     0.60761,     0.60861,     0.60961,     0.61061,     0.61161,     0.61261,     0.61361,     0.61461,     0.61562,     0.61662,     0.61762,     0.61862,     0.61962,     0.62062,     0.62162,     0.62262,     0.62362,\n",
      "           0.62462,     0.62563,     0.62663,     0.62763,     0.62863,     0.62963,     0.63063,     0.63163,     0.63263,     0.63363,     0.63463,     0.63564,     0.63664,     0.63764,     0.63864,     0.63964,     0.64064,     0.64164,     0.64264,     0.64364,     0.64464,     0.64565,     0.64665,     0.64765,\n",
      "           0.64865,     0.64965,     0.65065,     0.65165,     0.65265,     0.65365,     0.65465,     0.65566,     0.65666,     0.65766,     0.65866,     0.65966,     0.66066,     0.66166,     0.66266,     0.66366,     0.66466,     0.66567,     0.66667,     0.66767,     0.66867,     0.66967,     0.67067,     0.67167,\n",
      "           0.67267,     0.67367,     0.67467,     0.67568,     0.67668,     0.67768,     0.67868,     0.67968,     0.68068,     0.68168,     0.68268,     0.68368,     0.68468,     0.68569,     0.68669,     0.68769,     0.68869,     0.68969,     0.69069,     0.69169,     0.69269,     0.69369,     0.69469,      0.6957,\n",
      "            0.6967,      0.6977,      0.6987,      0.6997,      0.7007,      0.7017,      0.7027,      0.7037,      0.7047,     0.70571,     0.70671,     0.70771,     0.70871,     0.70971,     0.71071,     0.71171,     0.71271,     0.71371,     0.71471,     0.71572,     0.71672,     0.71772,     0.71872,     0.71972,\n",
      "           0.72072,     0.72172,     0.72272,     0.72372,     0.72472,     0.72573,     0.72673,     0.72773,     0.72873,     0.72973,     0.73073,     0.73173,     0.73273,     0.73373,     0.73473,     0.73574,     0.73674,     0.73774,     0.73874,     0.73974,     0.74074,     0.74174,     0.74274,     0.74374,\n",
      "           0.74474,     0.74575,     0.74675,     0.74775,     0.74875,     0.74975,     0.75075,     0.75175,     0.75275,     0.75375,     0.75475,     0.75576,     0.75676,     0.75776,     0.75876,     0.75976,     0.76076,     0.76176,     0.76276,     0.76376,     0.76476,     0.76577,     0.76677,     0.76777,\n",
      "           0.76877,     0.76977,     0.77077,     0.77177,     0.77277,     0.77377,     0.77477,     0.77578,     0.77678,     0.77778,     0.77878,     0.77978,     0.78078,     0.78178,     0.78278,     0.78378,     0.78478,     0.78579,     0.78679,     0.78779,     0.78879,     0.78979,     0.79079,     0.79179,\n",
      "           0.79279,     0.79379,     0.79479,      0.7958,      0.7968,      0.7978,      0.7988,      0.7998,      0.8008,      0.8018,      0.8028,      0.8038,      0.8048,     0.80581,     0.80681,     0.80781,     0.80881,     0.80981,     0.81081,     0.81181,     0.81281,     0.81381,     0.81481,     0.81582,\n",
      "           0.81682,     0.81782,     0.81882,     0.81982,     0.82082,     0.82182,     0.82282,     0.82382,     0.82482,     0.82583,     0.82683,     0.82783,     0.82883,     0.82983,     0.83083,     0.83183,     0.83283,     0.83383,     0.83483,     0.83584,     0.83684,     0.83784,     0.83884,     0.83984,\n",
      "           0.84084,     0.84184,     0.84284,     0.84384,     0.84484,     0.84585,     0.84685,     0.84785,     0.84885,     0.84985,     0.85085,     0.85185,     0.85285,     0.85385,     0.85485,     0.85586,     0.85686,     0.85786,     0.85886,     0.85986,     0.86086,     0.86186,     0.86286,     0.86386,\n",
      "           0.86486,     0.86587,     0.86687,     0.86787,     0.86887,     0.86987,     0.87087,     0.87187,     0.87287,     0.87387,     0.87487,     0.87588,     0.87688,     0.87788,     0.87888,     0.87988,     0.88088,     0.88188,     0.88288,     0.88388,     0.88488,     0.88589,     0.88689,     0.88789,\n",
      "           0.88889,     0.88989,     0.89089,     0.89189,     0.89289,     0.89389,     0.89489,      0.8959,      0.8969,      0.8979,      0.8989,      0.8999,      0.9009,      0.9019,      0.9029,      0.9039,      0.9049,     0.90591,     0.90691,     0.90791,     0.90891,     0.90991,     0.91091,     0.91191,\n",
      "           0.91291,     0.91391,     0.91491,     0.91592,     0.91692,     0.91792,     0.91892,     0.91992,     0.92092,     0.92192,     0.92292,     0.92392,     0.92492,     0.92593,     0.92693,     0.92793,     0.92893,     0.92993,     0.93093,     0.93193,     0.93293,     0.93393,     0.93493,     0.93594,\n",
      "           0.93694,     0.93794,     0.93894,     0.93994,     0.94094,     0.94194,     0.94294,     0.94394,     0.94494,     0.94595,     0.94695,     0.94795,     0.94895,     0.94995,     0.95095,     0.95195,     0.95295,     0.95395,     0.95495,     0.95596,     0.95696,     0.95796,     0.95896,     0.95996,\n",
      "           0.96096,     0.96196,     0.96296,     0.96396,     0.96496,     0.96597,     0.96697,     0.96797,     0.96897,     0.96997,     0.97097,     0.97197,     0.97297,     0.97397,     0.97497,     0.97598,     0.97698,     0.97798,     0.97898,     0.97998,     0.98098,     0.98198,     0.98298,     0.98398,\n",
      "           0.98498,     0.98599,     0.98699,     0.98799,     0.98899,     0.98999,     0.99099,     0.99199,     0.99299,     0.99399,     0.99499,       0.996,       0.997,       0.998,       0.999,           1]), array([[        0.8,         0.8,         0.8,         0.8,         0.8,         0.8,         0.8,         0.8,         0.8,         0.8,         0.8,         0.8,         0.8,         0.8,         0.8,         0.8,         0.8,         0.8,         0.8,         0.8,         0.8,         0.8,         0.8,\n",
      "                0.8,         0.8,         0.8,         0.8,         0.8,         0.8,         0.8,         0.8,         0.8,         0.8,         0.8,         0.8,         0.8,         0.8,         0.8,         0.8,         0.8,         0.8,         0.8,         0.8,         0.8,         0.8,         0.8,\n",
      "                0.8,         0.8,         0.8,         0.8,         0.8,         0.8,         0.8,         0.8,         0.8,         0.8,         0.8,         0.8,         0.8,         0.8,         0.8,         0.8,         0.8,         0.8,         0.8,         0.8,         0.8,         0.8,         0.8,\n",
      "                0.8,         0.8,         0.8,         0.8,         0.8,         0.8,         0.8,         0.8,         0.8,         0.8,         0.8,         0.8,         0.8,         0.8,         0.8,         0.8,         0.8,         0.8,         0.8,         0.8,         0.8,         0.8,         0.8,\n",
      "                0.8,         0.8,         0.8,         0.8,         0.8,         0.8,         0.8,         0.8,         0.8,         0.8,         0.8,         0.8,         0.8,         0.8,         0.8,         0.8,         0.8,         0.8,         0.8,         0.8,         0.8,         0.8,         0.8,\n",
      "                0.8,         0.8,         0.8,         0.8,         0.8,         0.8,         0.8,         0.8,         0.8,         0.8,         0.8,         0.8,         0.8,         0.8,         0.8,         0.8,         0.8,         0.8,         0.8,         0.8,         0.8,         0.8,         0.8,\n",
      "                0.8,         0.8,         0.8,         0.8,         0.8,         0.8,         0.8,         0.8,         0.8,         0.8,         0.8,         0.8,         0.8,         0.8,         0.8,         0.8,         0.8,         0.8,         0.8,         0.8,         0.8,         0.8,         0.8,\n",
      "                0.8,         0.8,         0.8,         0.8,         0.8,         0.8,         0.8,         0.8,         0.8,         0.8,         0.8,         0.8,         0.8,         0.8,         0.8,         0.8,         0.8,         0.8,         0.8,         0.8,         0.8,         0.8,         0.8,\n",
      "                0.8,         0.8,         0.8,         0.8,         0.8,         0.8,         0.8,         0.8,         0.8,         0.8,         0.8,         0.8,         0.8,         0.8,         0.8,         0.8,         0.8,         0.8,         0.8,         0.8,         0.8,         0.8,         0.8,\n",
      "                0.8,         0.8,         0.8,         0.8,         0.8,         0.8,         0.8,         0.8,         0.8,         0.8,         0.8,         0.8,         0.8,         0.8,         0.8,         0.8,         0.8,         0.8,         0.8,         0.8,         0.8,         0.8,         0.8,\n",
      "                0.8,         0.8,         0.8,         0.8,         0.8,         0.8,         0.8,         0.8,         0.8,         0.8,         0.8,         0.8,         0.8,         0.8,         0.8,         0.8,         0.8,         0.8,         0.8,         0.8,         0.8,         0.8,         0.8,\n",
      "                0.8,         0.8,         0.8,         0.8,         0.8,         0.8,         0.8,         0.8,         0.8,         0.8,         0.8,         0.8,         0.8,         0.8,         0.8,         0.8,         0.8,         0.8,         0.8,         0.8,         0.8,         0.8,         0.8,\n",
      "                0.8,         0.8,         0.8,         0.8,         0.8,         0.8,         0.8,         0.8,         0.8,         0.8,         0.8,         0.8,         0.8,         0.8,         0.8,         0.8,         0.8,         0.8,         0.8,         0.8,         0.8,         0.8,         0.8,\n",
      "                0.8,         0.8,         0.8,         0.8,         0.8,         0.8,         0.8,         0.8,         0.8,         0.8,         0.8,         0.8,         0.8,         0.8,         0.8,         0.8,         0.8,         0.8,         0.8,         0.8,         0.8,         0.8,         0.8,\n",
      "                0.8,         0.8,         0.8,         0.8,         0.8,         0.8,         0.8,         0.8,         0.8,         0.8,         0.8,         0.8,         0.8,         0.8,         0.8,         0.8,         0.8,         0.8,         0.8,         0.8,         0.8,         0.8,         0.8,\n",
      "                0.8,         0.8,         0.8,         0.8,         0.8,         0.8,         0.8,         0.8,         0.8,         0.8,         0.8,         0.8,         0.8,         0.8,         0.8,         0.8,         0.8,         0.8,         0.8,         0.8,         0.8,         0.8,         0.8,\n",
      "                0.8,         0.8,         0.8,         0.8,         0.8,         0.8,         0.8,         0.8,         0.8,         0.8,         0.8,         0.8,         0.8,         0.8,         0.8,         0.8,         0.8,         0.8,         0.8,         0.8,         0.8,         0.8,         0.8,\n",
      "                0.8,         0.8,         0.8,         0.8,         0.8,         0.8,         0.8,         0.8,         0.8,         0.8,         0.8,         0.8,         0.8,         0.8,         0.8,         0.8,         0.8,         0.8,         0.8,         0.8,         0.8,         0.8,         0.8,\n",
      "                0.8,         0.8,         0.8,         0.8,         0.8,         0.8,         0.8,         0.8,         0.8,         0.8,         0.8,         0.8,         0.8,         0.8,         0.8,         0.8,         0.8,         0.8,         0.8,         0.8,         0.8,         0.8,         0.8,\n",
      "                0.8,         0.8,         0.8,         0.8,         0.8,         0.8,         0.8,         0.8,         0.8,         0.8,         0.8,         0.8,         0.8,         0.8,         0.8,         0.8,         0.8,         0.8,         0.8,         0.8,         0.8,         0.8,         0.8,\n",
      "                0.8,         0.8,         0.8,         0.8,         0.8,         0.8,         0.8,         0.8,         0.8,         0.8,         0.8,         0.8,         0.8,         0.8,         0.8,         0.8,         0.8,         0.8,         0.8,         0.8,         0.8,         0.8,         0.8,\n",
      "                0.8,         0.8,         0.8,         0.8,         0.8,         0.8,         0.8,         0.8,         0.8,         0.8,         0.8,         0.8,         0.8,         0.8,         0.8,         0.8,         0.8,         0.8,         0.8,         0.8,         0.8,         0.8,         0.8,\n",
      "                0.8,         0.8,         0.8,         0.8,         0.8,         0.8,         0.8,         0.8,         0.8,         0.8,         0.8,         0.8,         0.8,         0.8,         0.8,         0.8,         0.8,         0.8,         0.8,         0.8,         0.8,         0.8,         0.8,\n",
      "                0.8,         0.8,         0.8,         0.8,         0.8,         0.8,         0.8,         0.8,         0.8,         0.8,         0.8,         0.8,         0.8,         0.8,         0.8,         0.8,         0.8,         0.8,         0.8,         0.8,         0.8,         0.8,         0.8,\n",
      "                0.8,         0.8,         0.8,         0.8,         0.8,         0.8,         0.8,         0.8,         0.8,         0.8,         0.8,         0.8,         0.8,         0.8,         0.8,         0.8,         0.8,         0.8,         0.8,         0.8,         0.8,         0.8,         0.8,\n",
      "                0.8,         0.8,         0.8,         0.8,         0.8,         0.8,         0.8,         0.8,         0.8,         0.8,         0.8,         0.8,         0.8,         0.8,         0.8,         0.8,         0.8,         0.8,         0.8,         0.8,         0.8,         0.8,         0.8,\n",
      "                0.8,         0.8,         0.8,         0.8,         0.8,         0.8,         0.8,         0.8,         0.8,         0.8,         0.8,         0.8,         0.8,         0.8,         0.8,         0.8,         0.8,         0.8,         0.8,         0.8,         0.8,         0.8,         0.8,\n",
      "                0.8,         0.8,         0.8,         0.8,         0.8,         0.8,         0.8,         0.8,         0.8,         0.8,         0.8,         0.8,         0.8,         0.8,         0.8,         0.8,         0.8,         0.8,         0.8,         0.8,         0.8,         0.8,         0.8,\n",
      "                0.8,         0.8,         0.8,         0.8,         0.8,         0.8,         0.8,         0.8,         0.8,         0.8,         0.8,         0.8,         0.8,         0.8,         0.8,         0.8,         0.8,         0.8,         0.8,         0.8,         0.8,         0.8,         0.8,\n",
      "                0.8,         0.8,         0.8,         0.8,         0.8,         0.8,         0.8,         0.8,         0.8,         0.8,         0.8,         0.8,         0.8,         0.8,         0.8,         0.8,         0.8,         0.8,         0.8,         0.8,         0.8,         0.8,         0.8,\n",
      "                0.8,         0.8,         0.8,         0.8,         0.8,         0.8,         0.8,         0.8,         0.8,         0.8,         0.8,         0.8,         0.8,         0.8,         0.8,         0.8,         0.8,         0.8,         0.8,         0.8,         0.8,         0.8,         0.8,\n",
      "                0.8,         0.8,         0.8,         0.8,         0.8,         0.8,         0.8,         0.8,         0.8,         0.8,         0.8,         0.8,         0.8,         0.8,         0.8,         0.8,         0.8,         0.8,         0.8,         0.8,         0.8,         0.8,         0.8,\n",
      "                0.8,         0.8,         0.8,         0.8,         0.8,         0.8,         0.8,         0.8,         0.8,         0.8,         0.8,         0.8,         0.8,         0.8,         0.8,         0.8,         0.8,         0.8,         0.8,         0.8,         0.8,         0.8,         0.8,\n",
      "                0.8,         0.8,         0.8,         0.8,         0.8,         0.8,         0.8,         0.8,         0.8,         0.8,         0.8,         0.8,         0.8,         0.8,         0.8,         0.8,         0.8,         0.8,         0.8,         0.8,         0.8,         0.8,         0.8,\n",
      "                0.8,         0.8,         0.8,         0.8,         0.8,         0.8,         0.8,         0.8,         0.8,         0.8,         0.8,         0.8,         0.8,         0.8,         0.8,         0.8,         0.8,         0.8,         0.8,         0.8,         0.8,         0.8,         0.8,\n",
      "                0.8,         0.8,         0.8,         0.8,         0.8,         0.8,         0.8,         0.8,         0.8,         0.8,         0.8,         0.8,         0.8,         0.8,         0.8,         0.8,         0.8,         0.8,         0.8,         0.8,         0.8,         0.8,         0.8,\n",
      "                0.8,         0.8,         0.8,         0.8,         0.8,         0.8,         0.8,         0.8,         0.8,         0.8,         0.8,         0.8,         0.8,         0.8,         0.8,         0.8,         0.8,         0.8,         0.8,         0.8,         0.8,         0.8,         0.8,\n",
      "                0.8,         0.8,         0.8,         0.8,         0.8,         0.8,         0.8,         0.8,         0.8,         0.8,         0.8,         0.8,         0.8,         0.8,         0.8,         0.8,         0.8,         0.8,         0.8,         0.8,         0.8,         0.8,         0.8,\n",
      "                0.8,         0.8,         0.8,         0.8,         0.8,         0.8,         0.8,         0.8,         0.8,         0.8,         0.8,         0.8,         0.8,         0.8,         0.8,         0.8,         0.8,         0.8,         0.8,         0.8,         0.8,         0.8,         0.8,\n",
      "                0.8,         0.8,         0.8,         0.8,         0.8,         0.8,         0.8,         0.8,         0.8,         0.8,         0.8,         0.8,         0.8,         0.8,         0.8,         0.8,         0.8,         0.8,         0.8,         0.8,         0.8,         0.8,         0.8,\n",
      "            0.79459,      0.7862,      0.7778,      0.7694,       0.761,     0.75261,     0.74421,     0.73581,     0.72741,     0.71902,     0.71062,     0.70222,     0.69382,     0.68543,     0.67703,     0.66863,     0.66023,     0.65184,     0.64344,     0.63504,     0.62664,     0.61825,     0.60985,\n",
      "            0.60145,     0.59138,     0.58096,     0.57053,     0.56011,     0.54969,     0.53927,     0.52884,     0.51842,       0.508,     0.49758,     0.48716,     0.47673,     0.46631,     0.45589,     0.44547,     0.43504,     0.42462,      0.4142,     0.40378,         0.4,         0.4,         0.4,\n",
      "                0.4,         0.4,         0.4,         0.4,         0.4,         0.4,         0.4,         0.4,         0.4,         0.4,         0.4,         0.4,     0.39431,     0.38264,     0.37098,     0.35931,     0.34764,     0.33597,     0.32431,     0.31264,     0.30097,     0.28931,     0.27764,\n",
      "            0.26597,     0.25431,     0.24264,     0.23097,     0.21931,     0.20764,         0.2,         0.2,         0.2,         0.2,           0]]), 'Confidence', 'Recall']]\n",
      "fitness: 0.21974465714285715\n",
      "keys: ['metrics/precision(B)', 'metrics/recall(B)', 'metrics/mAP50(B)', 'metrics/mAP50-95(B)']\n",
      "maps: array([    0.20663])\n",
      "names: {0: 'pothole'}\n",
      "plot: True\n",
      "results_dict: {'metrics/precision(B)': 0.36737623280175924, 'metrics/recall(B)': 0.8, 'metrics/mAP50(B)': 0.33778, 'metrics/mAP50-95(B)': 0.20662961904761906, 'fitness': 0.21974465714285715}\n",
      "save_dir: WindowsPath('runs/detect/pothole_detector2')\n",
      "speed: {'preprocess': 0.0, 'inference': 533.804178237915, 'loss': 0.0, 'postprocess': 0.0}\n",
      "task: 'detect'\n"
     ]
    }
   ],
   "source": [
    "metrics = model.val()\n",
    "print(metrics) "
   ]
  },
  {
   "cell_type": "code",
   "execution_count": 10,
   "id": "e9154ee6",
   "metadata": {},
   "outputs": [
    {
     "name": "stdout",
     "output_type": "stream",
     "text": [
      "Test YOLO formatted data saved successfully.\n"
     ]
    }
   ],
   "source": [
    "import os\n",
    "\n",
    "# Define output directories\n",
    "output_dir = \"test_yolo_formatted_data\"\n",
    "images_dir = os.path.join(output_dir, \"images\")\n",
    "labels_dir = os.path.join(output_dir, \"labels\")\n",
    "os.makedirs(images_dir, exist_ok=True)\n",
    "os.makedirs(labels_dir, exist_ok=True)\n",
    "\n",
    "# Function to convert bounding boxes to YOLO format\n",
    "def process_json_entry(json_entry):\n",
    "    image = json_entry[\"image\"]\n",
    "    img_width, img_height = json_entry[\"width\"], json_entry[\"height\"]\n",
    "    \n",
    "    # Retrieve bounding boxes and categories\n",
    "    bboxes = json_entry[\"objects\"][\"bbox\"]\n",
    "    categories = json_entry[\"objects\"][\"category\"]\n",
    "\n",
    "    yolo_boxes = []\n",
    "    for box, class_id in zip(bboxes, categories):\n",
    "        x_min, y_min, width, height = box\n",
    "        \n",
    "        # Convert to YOLO format\n",
    "        x_center = (x_min + width / 2) / img_width\n",
    "        y_center = (y_min + height / 2) / img_height\n",
    "        width /= img_width\n",
    "        height /= img_height\n",
    "        \n",
    "        # Append formatted data\n",
    "        yolo_boxes.append(f\"{class_id} {x_center} {y_center} {width} {height}\")\n",
    "\n",
    "    return image, yolo_boxes\n",
    "\n",
    "# Process each entry in the test dataset and save\n",
    "for i, entry in enumerate(test_dataset):\n",
    "    # Process image and YOLO boxes from JSON entry\n",
    "    image, yolo_boxes = process_json_entry(entry)\n",
    "    \n",
    "    # Save image to output directory\n",
    "    image_basename = f\"test_image_{entry['image_id']}.jpg\"\n",
    "    image.save(os.path.join(images_dir, image_basename))\n",
    "    \n",
    "    # Save bounding box annotations to a .txt file with the same name as the image\n",
    "    label_path = os.path.join(labels_dir, f\"{os.path.splitext(image_basename)[0]}.txt\")\n",
    "    with open(label_path, \"w\") as f:\n",
    "        f.write(\"\\n\".join(yolo_boxes))\n",
    "\n",
    "print(\"Test YOLO formatted data saved successfully.\")\n"
   ]
  },
  {
   "cell_type": "code",
   "execution_count": 13,
   "id": "ed674ade",
   "metadata": {},
   "outputs": [
    {
     "name": "stdout",
     "output_type": "stream",
     "text": [
      "\n",
      "image 1/5 C:\\Users\\Aaryan Naithani\\OneDrive\\Desktop\\Pot-Hole Detection\\yolo_formatted_data\\images\\test\\test_image_0.jpg: 640x640 25 potholes, 636.6ms\n",
      "image 2/5 C:\\Users\\Aaryan Naithani\\OneDrive\\Desktop\\Pot-Hole Detection\\yolo_formatted_data\\images\\test\\test_image_1.jpg: 640x640 12 potholes, 463.7ms\n",
      "image 3/5 C:\\Users\\Aaryan Naithani\\OneDrive\\Desktop\\Pot-Hole Detection\\yolo_formatted_data\\images\\test\\test_image_2.jpg: 640x640 8 potholes, 474.2ms\n",
      "image 4/5 C:\\Users\\Aaryan Naithani\\OneDrive\\Desktop\\Pot-Hole Detection\\yolo_formatted_data\\images\\test\\test_image_3.jpg: 640x640 11 potholes, 453.0ms\n",
      "image 5/5 C:\\Users\\Aaryan Naithani\\OneDrive\\Desktop\\Pot-Hole Detection\\yolo_formatted_data\\images\\test\\test_image_4.jpg: 640x640 10 potholes, 468.9ms\n",
      "Speed: 1.7ms preprocess, 499.3ms inference, 3.1ms postprocess per image at shape (1, 3, 640, 640)\n",
      "Results saved to \u001b[1mruns\\detect\\predict\u001b[0m\n",
      "5 labels saved to runs\\detect\\predict\\labels\n",
      "Test predictions completed and saved.\n"
     ]
    }
   ],
   "source": [
    "from ultralytics import YOLO\n",
    "import os\n",
    "\n",
    "# Load your trained YOLOv8 model\n",
    "model = YOLO(\"C:\\\\Users\\\\Aaryan Naithani\\\\OneDrive\\\\Desktop\\\\Pot-Hole Detection\\\\runs\\\\detect\\\\pothole_detector\\\\weights\\\\best.pt\")\n",
    " # Replace with the path to your trained model weights\n",
    "\n",
    "# Define the path to your test images\n",
    "test_images_dir = \"C:\\\\Users\\\\Aaryan Naithani\\\\OneDrive\\\\Desktop\\\\Pot-Hole Detection\\\\yolo_formatted_data\\\\images\\\\test\"\n",
    "\n",
    "# Run predictions on the test images\n",
    "results = model.predict(source=test_images_dir, save=True, save_txt=True)  # save=True saves annotated images; save_txt=True saves predictions in txt format\n",
    "\n",
    "print(\"Test predictions completed and saved.\")"
   ]
  },
  {
   "cell_type": "code",
   "execution_count": null,
   "id": "7d5ed5b3",
   "metadata": {},
   "outputs": [],
   "source": []
  }
 ],
 "metadata": {
  "kernelspec": {
   "display_name": "Python 3 (ipykernel)",
   "language": "python",
   "name": "python3"
  },
  "language_info": {
   "codemirror_mode": {
    "name": "ipython",
    "version": 3
   },
   "file_extension": ".py",
   "mimetype": "text/x-python",
   "name": "python",
   "nbconvert_exporter": "python",
   "pygments_lexer": "ipython3",
   "version": "3.11.4"
  }
 },
 "nbformat": 4,
 "nbformat_minor": 5
}
