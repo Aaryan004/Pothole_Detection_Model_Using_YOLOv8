{
 "cells": [
  {
   "cell_type": "code",
   "execution_count": null,
   "id": "4b34ca1f",
   "metadata": {},
   "outputs": [],
   "source": [
    "from datasets import load_dataset"
   ]
  },
  {
   "cell_type": "code",
   "execution_count": null,
   "id": "4a4849e6",
   "metadata": {},
   "outputs": [],
   "source": [
    "ds = load_dataset(\"keremberke/pothole-segmentation\", \"full\")"
   ]
  },
  {
   "cell_type": "code",
   "execution_count": null,
   "id": "9ada7e0c",
   "metadata": {},
   "outputs": [],
   "source": [
    "train_dataset = ds[\"train\"]"
   ]
  },
  {
   "cell_type": "code",
   "execution_count": null,
   "id": "9be062d6",
   "metadata": {},
   "outputs": [],
   "source": [
    "validation_dataset = ds[\"validation\"]"
   ]
  },
  {
   "cell_type": "code",
   "execution_count": null,
   "id": "87287169",
   "metadata": {},
   "outputs": [],
   "source": [
    "test_dataset = ds[\"test\"]"
   ]
  },
  {
   "cell_type": "code",
   "execution_count": null,
   "id": "fbfb2293",
   "metadata": {},
   "outputs": [],
   "source": [
    "import os\n",
    "\n",
    "# Create a directory to store YOLO-formatted labels\n",
    "output_dir = \"yolo_formatted_data\"\n",
    "os.makedirs(output_dir, exist_ok=True)\n",
    "\n",
    "# Function to convert bounding boxes to YOLO format\n",
    "def process_json_entry(json_entry):\n",
    "    image = json_entry[\"image\"]\n",
    "    img_width, img_height = json_entry[\"width\"], json_entry[\"height\"]\n",
    "    \n",
    "    # Retrieve bounding boxes and categories\n",
    "    bboxes = json_entry[\"objects\"][\"bbox\"]\n",
    "    categories = json_entry[\"objects\"][\"category\"]\n",
    "\n",
    "    yolo_boxes = []\n",
    "    for box, class_id in zip(bboxes, categories):\n",
    "        x_min, y_min, width, height = box\n",
    "        \n",
    "        # Convert to YOLO format\n",
    "        x_center = (x_min + width / 2) / img_width\n",
    "        y_center = (y_min + height / 2) / img_height\n",
    "        width /= img_width\n",
    "        height /= img_height\n",
    "        \n",
    "        # Append formatted data\n",
    "        yolo_boxes.append(f\"{class_id} {x_center} {y_center} {width} {height}\")\n",
    "\n",
    "    return image, yolo_boxes\n",
    "\n",
    "# Process each entry and save the labels\n",
    "for i, entry in enumerate(train_dataset):\n",
    "    image, yolo_boxes = process_json_entry(entry)\n",
    "    \n",
    "    # Save image to output directory\n",
    "    image_basename = f\"train_image_{i}.jpg\"\n",
    "    image.save(os.path.join(output_dir, image_basename))\n",
    "    \n",
    "    # Save bounding box annotations to a .txt file with the same name as the image\n",
    "    label_path = os.path.join(output_dir, f\"{os.path.splitext(image_basename)[0]}.txt\")\n",
    "    with open(label_path, \"w\") as f:\n",
    "        f.write(\"\\n\".join(yolo_boxes))\n",
    "\n",
    "print(\"YOLO formatted data saved successfully.\")"
   ]
  },
  {
   "cell_type": "code",
   "execution_count": null,
   "id": "696721b3",
   "metadata": {},
   "outputs": [],
   "source": [
    "output_dir = \"validation_formatted_data\"\n",
    "os.makedirs(output_dir, exist_ok=True) \n",
    "for i, entry in enumerate(validation_dataset):\n",
    "    image, yolo_boxes = process_json_entry(entry)\n",
    "    \n",
    "    # Save image to output directory\n",
    "    image_basename = f\"train_image_{i}.jpg\"\n",
    "    image.save(os.path.join(output_dir, image_basename))\n",
    "    \n",
    "    # Save bounding box annotations to a .txt file with the same name as the image\n",
    "    label_path = os.path.join(output_dir, f\"{os.path.splitext(image_basename)[0]}.txt\")\n",
    "    with open(label_path, \"w\") as f:\n",
    "        f.write(\"\\n\".join(yolo_boxes))\n",
    "\n",
    "print(\"YOLO formatted data saved successfully.\")"
   ]
  },
  {
   "cell_type": "code",
   "execution_count": 1,
   "id": "e86f10f6",
   "metadata": {},
   "outputs": [],
   "source": [
    "import torch\n",
    "\n",
    "# Save original torch.load\n",
    "orig_torch_load = torch.load\n",
    "\n",
    "def patched_load(f, *args, **kwargs):\n",
    "    # Force weights_only=False\n",
    "    kwargs['weights_only'] = False\n",
    "    return orig_torch_load(f, *args, **kwargs)\n",
    "\n",
    "# Patch it\n",
    "torch.load = patched_load\n",
    "\n",
    "# Now import YOLO\n",
    "from ultralytics import YOLO\n",
    "\n",
    "# Try loading\n",
    "model = YOLO(\"yolov8n.pt\")"
   ]
  },
  {
   "cell_type": "code",
   "execution_count": null,
   "id": "a6ca9e04",
   "metadata": {},
   "outputs": [],
   "source": [
    "# Train the model\n",
    "model.train(\n",
    "    data=\"C:\\\\Users\\\\Aaryan Naithani\\\\OneDrive\\\\Desktop\\\\Pothole_Detection_Model_Using_YOLOv8-main\\\\pothole_dataset.yaml\",  # Path to your dataset YAML file\n",
    "    epochs=1800,  # Number of epochs (adjust as needed)\n",
    "    batch=4,  # Batch size\n",
    "    imgsz=640,  # Image size (YOLOv8 default)\n",
    "    name=\"pothole_detector\",  # Model name for saving results\n",
    "    device=\"cuda\",\n",
    "    resume=\"True\"\n",
    ")"
   ]
  },
  {
   "cell_type": "code",
   "execution_count": 3,
   "id": "0c748b1a",
   "metadata": {},
   "outputs": [],
   "source": [
    "metrics = model.val()\n",
    "print(metrics) "
   ]
  },
  {
   "cell_type": "code",
   "execution_count": null,
   "id": "e9154ee6",
   "metadata": {},
   "outputs": [],
   "source": [
    "import os\n",
    "\n",
    "# Define output directories\n",
    "output_dir = \"test_yolo_formatted_data\"\n",
    "images_dir = os.path.join(output_dir, \"images\")\n",
    "labels_dir = os.path.join(output_dir, \"labels\")\n",
    "os.makedirs(images_dir, exist_ok=True)\n",
    "os.makedirs(labels_dir, exist_ok=True)\n",
    "\n",
    "# Function to convert bounding boxes to YOLO format\n",
    "def process_json_entry(json_entry):\n",
    "    image = json_entry[\"image\"]\n",
    "    img_width, img_height = json_entry[\"width\"], json_entry[\"height\"]\n",
    "    \n",
    "    # Retrieve bounding boxes and categories\n",
    "    bboxes = json_entry[\"objects\"][\"bbox\"]\n",
    "    categories = json_entry[\"objects\"][\"category\"]\n",
    "\n",
    "    yolo_boxes = []\n",
    "    for box, class_id in zip(bboxes, categories):\n",
    "        x_min, y_min, width, height = box\n",
    "        \n",
    "        # Convert to YOLO format\n",
    "        x_center = (x_min + width / 2) / img_width\n",
    "        y_center = (y_min + height / 2) / img_height\n",
    "        width /= img_width\n",
    "        height /= img_height\n",
    "        \n",
    "        # Append formatted data\n",
    "        yolo_boxes.append(f\"{class_id} {x_center} {y_center} {width} {height}\")\n",
    "\n",
    "    return image, yolo_boxes\n",
    "\n",
    "# Process each entry in the test dataset and save\n",
    "for i, entry in enumerate(test_dataset):\n",
    "    # Process image and YOLO boxes from JSON entry\n",
    "    image, yolo_boxes = process_json_entry(entry)\n",
    "    \n",
    "    # Save image to output directory\n",
    "    image_basename = f\"test_image_{entry['image_id']}.jpg\"\n",
    "    image.save(os.path.join(images_dir, image_basename))\n",
    "    \n",
    "    # Save bounding box annotations to a .txt file with the same name as the image\n",
    "    label_path = os.path.join(labels_dir, f\"{os.path.splitext(image_basename)[0]}.txt\")\n",
    "    with open(label_path, \"w\") as f:\n",
    "        f.write(\"\\n\".join(yolo_boxes))\n",
    "\n",
    "print(\"Test YOLO formatted data saved successfully.\")\n"
   ]
  },
  {
   "cell_type": "code",
   "execution_count": null,
   "id": "ed674ade",
   "metadata": {},
   "outputs": [],
   "source": [
    "from ultralytics import YOLO\n",
    "import os\n",
    "\n",
    "# Load your trained YOLOv8 model\n",
    "model = YOLO(\"C:\\\\Users\\\\Aaryan Naithani\\\\OneDrive\\\\Desktop\\\\Pothole_Detection_Model_Using_YOLOv8-main\\\\runs\\\\detect\\\\pothole_detector6\\\\weights\\\\best.pt\")\n",
    " # Replace with the path to your trained model weights\n",
    "\n",
    "# Define the path to your test images\n",
    "test_images_dir = \"C:\\\\Users\\\\Aaryan Naithani\\\\OneDrive\\\\Desktop\\\\Pothole_Detection_Model_Using_YOLOv8-main\\\\yolo_formatted_data\\\\images\\\\test\"\n",
    "\n",
    "# Run predictions on the test images\n",
    "results = model.predict(source=test_images_dir, save=True, save_txt=True)  # save=True saves annotated images; save_txt=True saves predictions in txt format\n",
    "\n",
    "print(\"Test predictions completed and saved.\")"
   ]
  },
  {
   "cell_type": "code",
   "execution_count": null,
   "id": "7d5ed5b3",
   "metadata": {},
   "outputs": [],
   "source": []
  }
 ],
 "metadata": {
  "kernelspec": {
   "display_name": "Python 3 (ipykernel)",
   "language": "python",
   "name": "python3"
  },
  "language_info": {
   "codemirror_mode": {
    "name": "ipython",
    "version": 3
   },
   "file_extension": ".py",
   "mimetype": "text/x-python",
   "name": "python",
   "nbconvert_exporter": "python",
   "pygments_lexer": "ipython3",
   "version": "3.11.4"
  }
 },
 "nbformat": 4,
 "nbformat_minor": 5
}
