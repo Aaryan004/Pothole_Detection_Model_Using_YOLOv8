{
 "cells": [
  {
   "cell_type": "code",
   "execution_count": 2,
   "id": "8fbcb24d",
   "metadata": {},
   "outputs": [
    {
     "name": "stdout",
     "output_type": "stream",
     "text": [
      "\n",
      "image 1/5 C:\\Users\\Aaryan Naithani\\OneDrive\\Desktop\\Pothole_Detection_Model_Using_YOLOv8-main\\yolo_formatted_data\\images\\test\\test_image_0.jpg: 640x640 3 potholes, 37.6ms\n",
      "image 2/5 C:\\Users\\Aaryan Naithani\\OneDrive\\Desktop\\Pothole_Detection_Model_Using_YOLOv8-main\\yolo_formatted_data\\images\\test\\test_image_1.jpg: 640x640 6 potholes, 44.6ms\n",
      "image 3/5 C:\\Users\\Aaryan Naithani\\OneDrive\\Desktop\\Pothole_Detection_Model_Using_YOLOv8-main\\yolo_formatted_data\\images\\test\\test_image_2.jpg: 640x640 6 potholes, 40.3ms\n",
      "image 4/5 C:\\Users\\Aaryan Naithani\\OneDrive\\Desktop\\Pothole_Detection_Model_Using_YOLOv8-main\\yolo_formatted_data\\images\\test\\test_image_3.jpg: 640x640 8 potholes, 33.8ms\n",
      "image 5/5 C:\\Users\\Aaryan Naithani\\OneDrive\\Desktop\\Pothole_Detection_Model_Using_YOLOv8-main\\yolo_formatted_data\\images\\test\\test_image_4.jpg: 640x640 6 potholes, 49.1ms\n",
      "Speed: 9.2ms preprocess, 41.1ms inference, 125.2ms postprocess per image at shape (1, 3, 640, 640)\n",
      "Results saved to \u001b[1mruns\\detect\\predict2\u001b[0m\n",
      "5 labels saved to runs\\detect\\predict2\\labels\n",
      "Test predictions completed and saved.\n"
     ]
    }
   ],
   "source": [
    "import torch\n",
    "\n",
    "# Save original torch.load\n",
    "orig_torch_load = torch.load\n",
    "\n",
    "def patched_load(f, *args, **kwargs):\n",
    "    # Force weights_only=False\n",
    "    kwargs['weights_only'] = False\n",
    "    return orig_torch_load(f, *args, **kwargs)\n",
    "\n",
    "# Patch it\n",
    "torch.load = patched_load\n",
    "from ultralytics import YOLO\n",
    "import os\n",
    "\n",
    "# Load your trained YOLOv8 model\n",
    "model = YOLO(\"C:\\\\Users\\\\Aaryan Naithani\\\\OneDrive\\\\Desktop\\\\Pothole_Detection_Model_Using_YOLOv8-main\\\\runs\\\\detect\\\\pothole_detector6\\\\weights\\\\best.pt\")\n",
    " # Replace with the path to your trained model weights\n",
    "\n",
    "# Define the path to your test images\n",
    "test_images_dir = \"C:\\\\Users\\\\Aaryan Naithani\\\\OneDrive\\\\Desktop\\\\Pothole_Detection_Model_Using_YOLOv8-main\\\\yolo_formatted_data\\\\images\\\\test\"\n",
    "\n",
    "# Run predictions on the test images\n",
    "results = model.predict(source=test_images_dir, save=True, save_txt=True)  # save=True saves annotated images; save_txt=True saves predictions in txt format\n",
    "\n",
    "print(\"Test predictions completed and saved.\")"
   ]
  },
  {
   "cell_type": "code",
   "execution_count": null,
   "id": "6a1d08b6",
   "metadata": {},
   "outputs": [],
   "source": []
  }
 ],
 "metadata": {
  "kernelspec": {
   "display_name": "Python 3 (ipykernel)",
   "language": "python",
   "name": "python3"
  },
  "language_info": {
   "codemirror_mode": {
    "name": "ipython",
    "version": 3
   },
   "file_extension": ".py",
   "mimetype": "text/x-python",
   "name": "python",
   "nbconvert_exporter": "python",
   "pygments_lexer": "ipython3",
   "version": "3.11.4"
  }
 },
 "nbformat": 4,
 "nbformat_minor": 5
}
